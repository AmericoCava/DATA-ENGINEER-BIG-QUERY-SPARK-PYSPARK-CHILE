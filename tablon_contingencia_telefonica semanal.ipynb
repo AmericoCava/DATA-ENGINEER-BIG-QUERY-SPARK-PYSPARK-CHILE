{
 "cells": [
  {
   "cell_type": "markdown",
   "id": "alert-productivity",
   "metadata": {},
   "source": [
    "## INICIALIZO EL CLUSTER PARA EJECUTAR SPARK"
   ]
  },
  {
   "cell_type": "code",
   "execution_count": 2,
   "id": "naval-nutrition",
   "metadata": {},
   "outputs": [
    {
     "data": {
      "application/vnd.jupyter.widget-view+json": {
       "model_id": "",
       "version_major": 2,
       "version_minor": 0
      },
      "text/plain": [
       "FloatProgress(value=0.0, bar_style='info', description='Progress:', layout=Layout(height='25px', width='50%'),…"
      ]
     },
     "metadata": {},
     "output_type": "display_data"
    },
    {
     "name": "stdout",
     "output_type": "stream",
     "text": [
      "AME Started!\n",
      "Welcome to AME Version 3.3.9 (January 2022)\n",
      "\n",
      "SparkSession available as spark and AME available as api"
     ]
    },
    {
     "data": {
      "application/vnd.jupyter.widget-view+json": {
       "model_id": "",
       "version_major": 2,
       "version_minor": 0
      },
      "text/plain": [
       "FloatProgress(value=0.0, bar_style='info', description='Progress:', layout=Layout(height='25px', width='50%'),…"
      ]
     },
     "metadata": {},
     "output_type": "display_data"
    },
    {
     "name": "stdout",
     "output_type": "stream",
     "text": [
      "<pyspark.sql.session.SparkSession object at 0x7f07421a0d30>"
     ]
    }
   ],
   "source": [
    "spark"
   ]
  },
  {
   "cell_type": "markdown",
   "id": "increasing-stewart",
   "metadata": {},
   "source": [
    "## IMPORT LAS LIBRERIAS"
   ]
  },
  {
   "cell_type": "code",
   "execution_count": 3,
   "id": "brave-bonus",
   "metadata": {},
   "outputs": [
    {
     "data": {
      "application/vnd.jupyter.widget-view+json": {
       "model_id": "",
       "version_major": 2,
       "version_minor": 0
      },
      "text/plain": [
       "FloatProgress(value=0.0, bar_style='info', description='Progress:', layout=Layout(height='25px', width='50%'),…"
      ]
     },
     "metadata": {},
     "output_type": "display_data"
    }
   ],
   "source": [
    "from pyspark.sql.functions import count , col , lit, desc, when, exp , greatest , least , max , min , round\n",
    "from pyspark.sql.functions import to_json, struct, collect_list , round, greatest, least, substring, coalesce , udf, monotonically_increasing_id, date_add, datediff, to_date, lit, when, floor, regexp_replace, from_unixtime, unix_timestamp, add_months, col, first, last, sum, min, max, avg, count, round, months_between, countDistinct, asc, desc, row_number, year, month, trim, concat, length, exp , log\n",
    "from pyspark.sql.types import FloatType, IntegerType, StringType, LongType, DateType, ArrayType , DecimalType\n",
    "spark.conf.set( \"spark.sql.crossJoin.enabled\" , \"true\" )"
   ]
  },
  {
   "cell_type": "markdown",
   "id": "accurate-retirement",
   "metadata": {},
   "source": [
    "## FUNCION GENERICA"
   ]
  },
  {
   "cell_type": "code",
   "execution_count": 4,
   "id": "retained-daniel",
   "metadata": {},
   "outputs": [
    {
     "data": {
      "application/vnd.jupyter.widget-view+json": {
       "model_id": "",
       "version_major": 2,
       "version_minor": 0
      },
      "text/plain": [
       "FloatProgress(value=0.0, bar_style='info', description='Progress:', layout=Layout(height='25px', width='50%'),…"
      ]
     },
     "metadata": {},
     "output_type": "display_data"
    }
   ],
   "source": [
    "def archive_date(table, date, partition_name):\n",
    "    archive = spark.read.format('bigquery').option('table', table).load().filter(\"ARCHIVE <= '{fecha} 00:00:00'\".format(fecha = date)).select(partition_name).distinct().sort(desc(partition_name)).take(1)\n",
    "    return archive[0].ARCHIVE"
   ]
  },
  {
   "cell_type": "markdown",
   "id": "useful-indiana",
   "metadata": {},
   "source": [
    "## LINEAL"
   ]
  },
  {
   "cell_type": "code",
   "execution_count": 5,
   "id": "parental-shannon",
   "metadata": {
    "tags": []
   },
   "outputs": [
    {
     "data": {
      "application/vnd.jupyter.widget-view+json": {
       "model_id": "",
       "version_major": 2,
       "version_minor": 0
      },
      "text/plain": [
       "FloatProgress(value=0.0, bar_style='info', description='Progress:', layout=Layout(height='25px', width='50%'),…"
      ]
     },
     "metadata": {},
     "output_type": "display_data"
    }
   ],
   "source": [
    "lineal_score_entel = {\n",
    "\"cant_consultas\":+0.001926,\n",
    "\"subrango\":-0.002686,\n",
    "\"numero_trabajadores\":-0.0002429,\n",
    "\"cant_socios\":+0.03367,\n",
    "\"ind_bed_socios\":+1.056,\n",
    "\"ind_bolcom_socios\":+1.008,\n",
    "\"cant_vehic\":+0.001573,\n",
    "\"avaluo_uf\":-0.0000007575,\n",
    "\"region_ind_rm\": -0.1645,\n",
    "\"cantidad_infraccion\":-0.00007399,\n",
    "\"deuda_uf_infraccion\":-0.00008137,\n",
    "\"cantidad_multa\":-0.004963,\n",
    "\"deuda_uf_multa\":-0.0003945,\n",
    "\"deuda_telco_uf\":+0.00002282,\n",
    "\"score_empresa_telefnc_tile10\":-0.1415,\n",
    "\"beta0\":+0.5197,\n",
    "}"
   ]
  },
  {
   "cell_type": "markdown",
   "id": "fiscal-cause",
   "metadata": {},
   "source": [
    "## TRANSFORMACIONES"
   ]
  },
  {
   "cell_type": "code",
   "execution_count": 6,
   "id": "worth-scene",
   "metadata": {},
   "outputs": [
    {
     "data": {
      "application/vnd.jupyter.widget-view+json": {
       "model_id": "",
       "version_major": 2,
       "version_minor": 0
      },
      "text/plain": [
       "FloatProgress(value=0.0, bar_style='info', description='Progress:', layout=Layout(height='25px', width='50%'),…"
      ]
     },
     "metadata": {},
     "output_type": "display_data"
    }
   ],
   "source": [
    "def transformaciones_score_movil_persona(df_scoren):\n",
    "    \n",
    "    df_scoren = (df_scoren.withColumn('dist_clean2' , when((col('kpi_porc_clean2_hh') == 0) | (col('kpi_porc_clean2_hh').isNull()), lit(-0.359))\n",
    "                                                      .when(col('kpi_porc_clean2_hh') <= 0.5, lit(-0.093))\n",
    "                                                      .when(col('kpi_porc_clean2_hh') < 1, lit(0.174))\n",
    "                                                      .when(col('kpi_porc_clean2_hh') == 1, lit(0.538))\n",
    "                          )\n",
    "                          .withColumn('avaluo_vehi_hh_t' , when((col('kpi_total_avaluo_vehi_hh_principal') == 0) | (col('kpi_total_avaluo_vehi_hh_principal').isNull()), lit(-0.353))\n",
    "                                                          .when(col('kpi_total_avaluo_vehi_hh_principal') <= 2185000 , lit(-0.089))\n",
    "                                                          .when(col('kpi_total_avaluo_vehi_hh_principal') <= 5610000, lit(0.302))\n",
    "                                                          .when(col('kpi_total_avaluo_vehi_hh_principal') > 5610000, lit(0.691))\n",
    "                          )\n",
    "                          .withColumn('renta_percapita' , when((col('kpi_renta_percapita_calc_hh') <= 156378.44) | (col('kpi_renta_percapita_calc_hh').isNull()), lit(-0.546))\n",
    "                                                          .when(col('kpi_renta_percapita_calc_hh') <= 250120.84 , lit(-0.169))\n",
    "                                                          .when(col('kpi_renta_percapita_calc_hh') <= 382071.7 , lit(0.201))\n",
    "                                                          .when(col('kpi_renta_percapita_calc_hh') > 382071.7 , lit(0.607))\n",
    "                          )\n",
    "                          .withColumn('cant_tel_cel' , when((col('kpi_cantidad_tel_cel') == 0) | (col('kpi_cantidad_tel_cel').isNull()) , lit(-0.417))\n",
    "                                                      .when(col('kpi_cantidad_tel_cel') == 1 , lit(-0.139))\n",
    "                                                      .when(col('kpi_cantidad_tel_cel') == 2 , lit(0.081))\n",
    "                                                      .when(col('kpi_cantidad_tel_cel') > 2 , lit(0.314))\n",
    "                          )\n",
    "                          .withColumn('cant_hijos_menores' , when((col('kpi_cant_hijos_menores') <= 0) | (col('kpi_cant_hijos_menores').isNull()), lit(0.135))\n",
    "                                                            .when(col('kpi_cant_hijos_menores') <= 2 , lit(0.004))\n",
    "                                                            .when(col('kpi_cant_hijos_menores') > 2 , lit(-0.332))\n",
    "                          )\n",
    "                          .withColumn('padres_abc12' , when((col('kpi_padres_abc12') == 0) | (col('kpi_padres_abc12').isNull()) , lit(0.135))\n",
    "                                                      .when(col('kpi_padres_abc12') == 1, lit(0.140))\n",
    "                                                      .when(col('kpi_padres_abc12') == 2, lit(0.595))\n",
    "                          )\n",
    "                          .withColumn('ise' , when(col('kpi_ise_new').isin(['AB','C1a','C1b','C2']) , lit(0.779))\n",
    "                                              .when(col('kpi_ise_new') =='C3' , lit(0.059))\n",
    "                                              .when(col('kpi_ise_new') =='D' , lit(-0.125))\n",
    "                                              .when((col('kpi_ise_new').isin(['E','Z','',' ','0'])) | (col('kpi_ise_new').isNull()) , lit(-0.359))\n",
    "                          )\n",
    "                          .withColumn('edad_calc' , when((col('dic_edad_26') <= 28) | (col('dic_edad_26').isNull()), lit(-0.294))\n",
    "                                                    .when(col('dic_edad_26') <= 38 , lit(-0.039))\n",
    "                                                    .when(col('dic_edad_26') <= 48 , lit(0.113))\n",
    "                                                    .when(col('dic_edad_26') <= 58 , lit(0.247))\n",
    "                                                    .when(col('dic_edad_26') > 58 , lit(0.409))\n",
    "                          )\n",
    "                          .withColumn('cant_tel_fij' , when((col('dic_cnt_tel_26') <= 0) | (col('dic_cnt_tel_26').isNull()) , lit(-0.186))\n",
    "                                                    .when(col('dic_cnt_tel_26') > 0 , lit(0.305))\n",
    "                          )\n",
    "                          \n",
    "                )\n",
    "\n",
    "    return df_scoren\n",
    "\n",
    "\n",
    "def calculo_score_movil_persona(df_scoren):\n",
    "     df_scoren = (df_scoren.withColumn('lineal_score_entel' , 0.21666318 + \n",
    "                                                  0.792946723652026*col('dist_clean2') + \n",
    "                                                  0.610285975629372*col('avaluo_vehi_hh_t') + \n",
    "                                                  0.457187772918526*col('renta_percapita') + \n",
    "                                                  0.71815752486043*col('cant_tel_cel') + \n",
    "                                                  0.808363809320489*col('cant_hijos_menores') + \n",
    "                                                  0.447741821812766*col('padres_abc12') + \n",
    "                                                  0.225325155749984*col('ise') + \n",
    "                                                  0.343630594086875*col('edad_calc') + \n",
    "                                                  0.202384574110176*col('cant_tel_fij')\n",
    "                                    )\n",
    "                  )\n",
    "     df_scoren = (df_scoren.withColumn('score_real', (1000 / (1+exp(-1*col('lineal_score_entel')))).astype(IntegerType()))\n",
    "                            .withColumn('score_movil', floor((1000*(col('score_real')- 188.0021285037991)/716.6010913426493)/2) * 2 + 1)\n",
    "                            .withColumn('score_movil', when (col('score_movil') < 1 , 1).otherwise(col('score_movil')))\n",
    "                            .withColumn('score_movil', when (col('score_movil') > 999 , 999).otherwise(col('score_movil')))\n",
    "                            .withColumn('score_telefonica_movil', when(col('score_movil') == 1 , lit(3))\n",
    "                                                                  .when(col('score_movil') == 2 , lit(3))\n",
    "                                                                  .when(col('score_movil') == 30 , lit(29))\n",
    "                                                                  .when(col('score_movil') == 45 , lit(44))\n",
    "                                                                  .when(col('dic_tienefdef_26') == 'SI' , lit(0))\n",
    "                                                                  .when(col('kpi_ind_interdicto') == 'S' , lit(1))\n",
    "                                                                  .when((col('kpi_fec_nac').isNotNull()) & (~col('kpi_fec_nac').isin(['','19000101'])) & (col('dic_edad_26') < 18), lit(2))\n",
    "                                                                  .when(((col('kpi_fec_nac').isNull()) | (col('kpi_fec_nac').isin(['','19000101']))), lit(45))\n",
    "                                                                  #.when(col('dic_rutneg_00') == 1 , lit(30))\n",
    "                                                                  .otherwise(col('score_movil'))\n",
    "                            )\n",
    "                            .withColumn('score_real', col('score_real').astype(IntegerType()))\n",
    "                            .withColumn('score_real_movil', col('score_movil').astype(IntegerType()))\n",
    "                            .withColumn('score_ajustado_movil', col('score_telefonica_movil').astype(IntegerType()))\n",
    "                )\n",
    "\n",
    "     return df_scoren\n",
    "\n",
    "    \n",
    "def transformaciones_score_fija_persona(df_scoren):\n",
    "    \n",
    "    df_scoren = (df_scoren.withColumn('dist_clean2' , when((col('kpi_porc_clean2_hh') == 0) | (col('kpi_porc_clean2_hh').isNull()), lit(-0.543))\n",
    "                                                      .when(col('kpi_porc_clean2_hh') <= 0.45, lit(-0.176))\n",
    "                                                      .when(col('kpi_porc_clean2_hh') <= 1, lit(0.344))\n",
    "                          )\n",
    "                          .withColumn('avaluo_vehi_hh_prom' , when((col('kpi_prom_avaluo_vehi_hh_principal') <= 1571000) | (col('kpi_prom_avaluo_vehi_hh_principal').isNull()), lit(-0.342))\n",
    "                                                              .when(col('kpi_prom_avaluo_vehi_hh_principal') <= 2587083.38 , lit(0.037))\n",
    "                                                              .when(col('kpi_prom_avaluo_vehi_hh_principal') <= 4525833.25, lit(0.308))\n",
    "                                                              .when(col('kpi_prom_avaluo_vehi_hh_principal') <= 5787750 , lit(0.475))\n",
    "                                                              .when(col('kpi_prom_avaluo_vehi_hh_principal') <= 8007333.25, lit(0.666))\n",
    "                                                              .when(col('kpi_prom_avaluo_vehi_hh_principal') > 8007333.25, lit(0.880))\n",
    "                          )\n",
    "                          .withColumn('renta_hh' , when((col('kpi_renta_total_hh_principal') <= 543257) | (col('kpi_renta_total_hh_principal').isNull()), lit(-0.378))\n",
    "                                                    .when(col('kpi_renta_total_hh_principal') <= 1028842 , lit(-0.133))\n",
    "                                                    .when(col('kpi_renta_total_hh_principal') > 1028842 , lit(0.409))\n",
    "                          )\n",
    "                          .withColumn('cant_fam_hh' , when(col('kpi_cant_familiares_hh_principal') <= 1 , lit(0.409))\n",
    "                                                    .when((col('kpi_cant_familiares_hh_principal') > 1) | (col('kpi_cant_familiares_hh_principal').isNull()) , lit(-0.087))\n",
    "                          )\n",
    "                          .withColumn('padres_abc12' , when((col('kpi_padres_abc12') == 0) | (col('kpi_padres_abc12').isNull()), lit(-0.189))\n",
    "                                                    .when(col('kpi_padres_abc12') == 1 , lit(0.240))\n",
    "                                                    .when(col('kpi_padres_abc12') == 2 , lit(0.906))\n",
    "                          )\n",
    "                          .withColumn('cant_hh_lider' , when(col('kpi_cant_hh_es_lider') <= 1 , lit(0.078))\n",
    "                                                    .when((col('kpi_cant_hh_es_lider') > 1) | (col('kpi_cant_hh_es_lider').isNull()) , lit(-0.448))\n",
    "                          )\n",
    "                          .withColumn('renta_efx' , when((col('kpi_renta_efx') <= 153071) | (col('kpi_renta_efx').isNull()), lit(-0.580))\n",
    "                                                    .when(col('kpi_renta_efx') <= 370646 , lit(-0.187))\n",
    "                                                    .when(col('kpi_renta_efx') <= 517469 , lit(0.118))\n",
    "                                                    .when(col('kpi_renta_efx') > 517469 , lit(0.523))\n",
    "                          )\n",
    "                          .withColumn('cons_telco_3m' , when((col('kpi_tot_cons_telco_3m') <= 2) | (col('kpi_tot_cons_telco_3m').isNull()), lit(0.138))\n",
    "                                                    .when((col('kpi_tot_cons_telco_3m') > 2) , lit(-0.198))\n",
    "                          )\n",
    "                          .withColumn('ise' , when(col('kpi_ise_new').isin(['AB','C1a','C1b','C2']) , lit(0.576))\n",
    "                                              .when((col('kpi_ise_new').isin(['C3','D','E','Z',' ','0','','SIN CLASIFICACION'])) | (col('kpi_ise_new').isNull()), lit(-0.139))\n",
    "                          )\n",
    "                          .withColumn('edad_calc' , when((col('dic_edad_26') <= 25) | (col('dic_edad_26').isNull()), lit(-0.393))\n",
    "                                                    .when(col('dic_edad_26') > 25 , lit(0.102))\n",
    "                          )\n",
    "                )\n",
    "\n",
    "    return df_scoren\n",
    "\n",
    "\n",
    "def calculo_score_fija_persona(df_scoren):\n",
    "     df_scoren = (df_scoren.withColumn('lineal_score_entel' , 0.52325218 + \n",
    "                                                  0.770338868232295*col('dist_clean2') + \n",
    "                                                  0.542020389481385*col('avaluo_vehi_hh_prom') + \n",
    "                                                  0.785848515826977*col('renta_hh') + \n",
    "                                                  1.21154726758955*col('cant_fam_hh') + \n",
    "                                                  0.501491480810172*col('padres_abc12') + \n",
    "                                                  0.72348428271276*col('cant_hh_lider') +\n",
    "                                                  0.315931980929232*col('renta_efx') + \n",
    "                                                  0.797623166011454*col('cons_telco_3m') + \n",
    "                                                  0.371798216113674*col('ise') + \n",
    "                                                  0.242318193011601*col('edad_calc')\n",
    "                                    )\n",
    "                  )\n",
    "     df_scoren = (df_scoren.withColumn('score_real', (1000 / (1+exp(-1*col('lineal_score_entel')))).astype(IntegerType()))\n",
    "                            .withColumn('score_fija', floor(1000*(col('score_real')- 200.20725243995838)/(2*755.9988715971363)) * 2 + 1)\n",
    "                            .withColumn('score_fija', when (col('score_fija') < 1 , 1).otherwise(col('score_fija')))\n",
    "                            .withColumn('score_fija', when (col('score_fija') > 999 , 999).otherwise(col('score_fija')))\n",
    "                            .withColumn('score_ajustado_fijo', when(((col('dic_montototaluf_12') > 1) | (col('dic_montototaluf_02') > 1) | (col('dic_montototaluf_39') > 2)) & (~col('kpi_ise_new').isin(['AB','C1a','C1b','C2','C3'])), lit(51))\n",
    "                                                            #.when((col('score_fija') < 650) & (col('kpi_ise_new') == 'D') , lit(299))\n",
    "                                                            .when((col('score_fija') >= 550) & (col('kpi_ise_new') == 'E') , lit(53))\n",
    "                                                            .when((col('score_fija') >= 500) & (col('score_fija') < 550) & (col('kpi_ise_new') == 'E') , lit(54))\n",
    "                                                            .when((col('score_fija') < 500) & (col('kpi_ise_new') == 'E') , lit(7))\n",
    "                                                            .when((col('score_fija') > 50) & ((col('kpi_ise_new') == 'Z') | (col('kpi_ise_new').isNull()) | (col('kpi_ise_new') == '') | (col('kpi_ise_new') == 'SIN CLASIFICACION')) , lit(53))\n",
    "                                                            .otherwise(col('score_fija'))\n",
    "                                        )\n",
    "                            .withColumn('score_fija', col('score_fija').astype(IntegerType()))\n",
    "                            .withColumn('score_ajustado_fijo', col('score_ajustado_fijo').astype(IntegerType()))\n",
    "                            .withColumn('score_real', col('score_real').astype(IntegerType()))\n",
    "                            .withColumn('score_ajustado_fijo', when(col('score_ajustado_fijo') == 1 , lit(3))\n",
    "                                                            .when(col('score_ajustado_fijo') == 2 , lit(3))\n",
    "                                                            .when(col('score_ajustado_fijo') == 30 , lit(29))\n",
    "                                                            .when(col('score_ajustado_fijo') == 45 , lit(44))\n",
    "                                                            .otherwise(col('score_ajustado_fijo'))\n",
    "                                        )\n",
    "                            .withColumn('score_ajustado_fijo', when(col('dic_tienefdef_26') == 'SI', lit(0))\n",
    "                                                            .when(col('kpi_ind_interdicto') == 'S' , lit(1))\n",
    "                                                            .when((col('dic_edad_26').isNotNull()) & (col('dic_edad_26') < 18) & (col('ind_pj') == 0), lit(2))\n",
    "                                                            .when(((col('kpi_fec_nac').isNull()) | (col('kpi_fec_nac').isin(['','19000101']))), lit(45))\n",
    "                                                            .otherwise(col('score_ajustado_fijo'))\n",
    "                                        )\n",
    "                            .withColumn('limite_credito', when(col('score_ajustado_fijo') < 50, lit(0))\n",
    "                                                            .when(col('score_ajustado_fijo') < 300, lit(25000))\n",
    "                                                            .when(col('score_ajustado_fijo') < 400, lit(37000))\n",
    "                                                            .when(col('score_ajustado_fijo') < 550, lit(45000))\n",
    "                                                            .when(col('score_ajustado_fijo') < 650, lit(63000))\n",
    "                                                            .otherwise(lit(75000))\n",
    "                                        )\n",
    "                  )\n",
    "\n",
    "     return df_scoren\n",
    "\n",
    "\n",
    "def valores_por_defecto(df_scoren):\n",
    "\t\n",
    "  df_scoren = (df_scoren.withColumn('dic_cnt_tel_26', when(col('dic_cnt_tel_26').isNull(), lit('0')).otherwise(col('dic_cnt_tel_26')))\n",
    "\t\t\t\t\t\t.withColumn('dic_edad_26', when(col('dic_edad_26').isNull(), lit(0)).otherwise(col('dic_edad_26')))\n",
    "\t\t\t\t\t\t.withColumn('dic_est_civil_26', when(col('dic_est_civil_26').isNull(), lit('')).otherwise(col('dic_est_civil_26')))\n",
    "\t\t\t\t\t\t.withColumn('dic_tienefdef_26', when(col('dic_tienefdef_26').isNull(), lit('')).otherwise(col('dic_tienefdef_26')))\n",
    "\t\t\t\t\t\t.withColumn('dic_totavaluo_32', when(col('dic_totavaluo_32').isNull(), lit(0)).otherwise(col('dic_totavaluo_32')))\n",
    "\t\t\t\t\t\t.withColumn('dic_rutneg_00', when(col('dic_rutneg_00').isNull(), lit(1)).otherwise(col('dic_rutneg_00')))\n",
    "\t\t\t\t\t\t.withColumn('dic_nroacreed_39', when(col('dic_nroacreed_39').isNull(), lit(0)).otherwise(col('dic_nroacreed_39')))\n",
    "\t\t\t\t\t\t.withColumn('dic_fechnac2_26', when(col('dic_fechnac2_26').isNull(), lit('00000000')).otherwise(col('dic_fechnac2_26')))\n",
    "\t\t\t\t\t\t.withColumn('dic_nombre_00', when(col('dic_nombre_00').isNull(), lit('')).otherwise(col('dic_nombre_00')))\n",
    "\t\t\t\t\t\t.withColumn('dic_codigoactividad_26', when(col('dic_codigoactividad_26').isNull(), lit(0)).otherwise(col('dic_codigoactividad_26')))\n",
    "\t\t\t\t\t\t.withColumn('dic_region_18', when(col('dic_region_18').isNull(), lit('')).otherwise(col('dic_region_18')))\n",
    "\t\t\t\t\t\t.withColumn('dic_tot_clqveh_10', when(col('dic_tot_clqveh_10').isNull(), lit(0)).otherwise(col('dic_tot_clqveh_10')))\n",
    "\t\t\t\t\t\t.withColumn('dic_cod_profesion_26', when(col('dic_cod_profesion_26').isNull(), lit(0)).otherwise(col('dic_cod_profesion_26')))\n",
    "\t\t\t\t\t\t.withColumn('dic_rutctacte_06', when(col('dic_rutctacte_06').isNull(), lit(0)).otherwise(col('dic_rutctacte_06')))\n",
    "\t\t\t\t\t\t.withColumn('dic_tipodomicilio_18', when(col('dic_tipodomicilio_18').isNull(), lit('N/A')).otherwise(col('dic_tipodomicilio_18')))\n",
    "\t\t\t\t\t\t.withColumn('dic_sexo_26', when(col('dic_sexo_26').isNull(), lit('')).otherwise(col('dic_sexo_26')))\n",
    "\t\t\t\t\t\t.withColumn('dic_ind_ae_23', when(col('dic_ind_ae_23').isNull(), lit('0')).otherwise(col('dic_ind_ae_23')))\n",
    "\t\t\t\t\t\t.withColumn('dic_vehiculo_furgon', when(col('dic_vehiculo_furgon').isNull(), lit(0)).otherwise(col('dic_vehiculo_furgon')))\n",
    "\t\t\t\t\t\t.withColumn('dic_tot_vehs_10', when(col('dic_tot_vehs_10').isNull(), lit(0)).otherwise(col('dic_tot_vehs_10')))\n",
    "\t\t\t\t\t\t.withColumn('dic_dirciudad_18', when(col('dic_dirciudad_18').isNull(), lit(0)).otherwise(col('dic_dirciudad_18')))\n",
    "\t\t\t\t\t\t.withColumn('dic_camionetas_10', when(col('dic_camionetas_10').isNull(), lit(0)).otherwise(col('dic_camionetas_10')))\n",
    "\t\t\t\t\t\t.withColumn('dic_predictorpub_06', when(col('dic_predictorpub_06').isNull(), lit(0)).otherwise(col('dic_predictorpub_06')))\n",
    "\t\t\t\t\t\t.withColumn('dic_actividad_26', when(col('dic_actividad_26').isNull(), lit('PROFESION NO CODIFICADA')).otherwise(col('dic_actividad_26')))\n",
    "\t\t\t\t\t\t.withColumn('dic_finiconrut_38', when(col('dic_finiconrut_38').isNull(), lit('00000000')).otherwise(col('dic_finiconrut_38')))\n",
    "\t\t\t\t\t\t.withColumn('dic_fechvenc_02', when(col('dic_fechvenc_02').isNull(), lit('00000000')).otherwise(col('dic_fechvenc_02')))\n",
    "\t\t\t\t\t\t.withColumn('dic_fec_const_23', when(col('dic_fec_const_23').isNull(), lit('00000000')).otherwise(col('dic_fec_const_23')))\n",
    "\t\t\t\t\t\t.withColumn('dic_totcons3_38', when(col('dic_totcons3_38').isNull(), lit(0)).otherwise(col('dic_totcons3_38')))\n",
    "\t\t\t\t\t\t.withColumn('dic_nrootros_02', when(col('dic_nrootros_02').isNull(), lit(0)).otherwise(col('dic_nrootros_02')))\n",
    "\t\t\t\t\t\t.withColumn('dic_autos_sw_10', when(col('dic_autos_sw_10').isNull(), lit(0)).otherwise(col('dic_autos_sw_10')))\n",
    "\t\t\t\t\t\t.withColumn('vehi_avaluo_total_hh', when(col('vehi_avaluo_total_hh').isNull(), lit(0)).otherwise(col('vehi_avaluo_total_hh')))\n",
    "\t\t\t\t\t\t.withColumn('renta_total_hh', when(col('renta_total_hh').isNull(), lit(0)).otherwise(col('renta_total_hh')))\n",
    "\t\t\t\t\t\t.withColumn('avaluo_bbrr_total_hh', when(col('avaluo_bbrr_total_hh').isNull(), lit(0)).otherwise(col('avaluo_bbrr_total_hh')))\n",
    "\t\t\t\t\t\t.withColumn('clean2_hh', when(col('clean2_hh').isNull(), lit(1)).otherwise(col('clean2_hh')))\n",
    "\t\t\t\t\t\t.withColumn('predictor1_max_hh', when(col('predictor1_max_hh').isNull(), lit(0)).otherwise(col('predictor1_max_hh')))\n",
    "\t\t\t\t\t\t.withColumn('kpi_ise_efx', when(col('kpi_ise_efx').isNull(), lit('')).otherwise(col('kpi_ise_efx')))\n",
    "\t\t\t\t\t\t.withColumn('kpi_ind_interdicto', when(col('kpi_ind_interdicto').isNull(), lit('N')).otherwise(col('kpi_ind_interdicto')))\n",
    "\t\t\t\t\t\t.withColumn('kpi_renta_efx', when(col('kpi_renta_efx').isNull(), lit(0)).otherwise(col('kpi_renta_efx')))\n",
    "\t\t\t\t\t\t.withColumn('kpi_geo_clean2', when(col('kpi_geo_clean2').isNull(), lit('1')).otherwise(col('kpi_geo_clean2')))\n",
    "\t\t\t\t\t\t.withColumn('kpi_ind_bank', when(col('kpi_ind_bank').isNull(), lit(0)).otherwise(col('kpi_ind_bank')))\n",
    "\t\t\t\t\t\t.withColumn('kpi_cant_hijos_menores', when(col('kpi_cant_hijos_menores').isNull(), lit(0)).otherwise(col('kpi_cant_hijos_menores')))\n",
    "\t\t\t\t\t\t.withColumn('kpi_vehi_avaluo', when(col('kpi_vehi_avaluo').isNull(), lit('0')).otherwise(col('kpi_vehi_avaluo')))\n",
    "\t\t\t\t\t\t.withColumn('kpi_cantidad_tel_cel', when(col('kpi_cantidad_tel_cel').isNull(), lit(0)).otherwise(col('kpi_cantidad_tel_cel')))\n",
    "\t\t\t\t\t\t.withColumn('kpi_cantidad_tel_fijo', when(col('kpi_cantidad_tel_fijo').isNull(), lit(0)).otherwise(col('kpi_cantidad_tel_fijo')))\n",
    "\t\t\t\t\t\t.withColumn('kpi_antiguedad_vehi', when(col('kpi_antiguedad_vehi').isNull(), lit('-99')).otherwise(col('kpi_antiguedad_vehi')))\n",
    "\t\t\t\t\t\t.withColumn('kpi_redcode8', when(col('kpi_redcode').isNull(), lit('NULL')).otherwise(col('kpi_redcode')))\n",
    "\t\t\t\t\t\t.withColumn('kpi_fec_nac', when(col('kpi_fec_nac').isNull(), lit('19000101')).otherwise(col('kpi_fec_nac')))\n",
    "\t\t\t\t\t\t.withColumn('kpi_rubro', when(col('kpi_rubro').isNull(), lit('NULL')).otherwise(col('kpi_rubro')))\n",
    "\t\t\t\t\t\t.withColumn('kpi_ind_bed_socios', when(col('kpi_ind_bed_socios').isNull(), lit('0')).otherwise(col('kpi_ind_bed_socios')))\n",
    "\t\t\t\t\t\t.withColumn('kpi_ind_bolcom_socios', when(col('kpi_ind_bolcom_socios').isNull(), lit('0')).otherwise(col('kpi_ind_bolcom_socios')))\n",
    "\t\t\t\t\t\t.withColumn('kpi_empresa_activa', when(col('kpi_empresa_activa').isNull(), lit('0')).otherwise(col('kpi_empresa_activa')))\n",
    "\t\t\t\t\t\t.withColumn('kpi_cantidad_socios', when(col('kpi_cantidad_socios').isNull(), lit('0')).otherwise(col('kpi_cantidad_socios')))\n",
    "\t\t\t\t\t\t.withColumn('kpi_cantidad_trabajador', when(col('kpi_cantidad_trabajador').isNull(), lit('0')).otherwise(col('kpi_cantidad_trabajador')))\n",
    "\t\t\t\t\t\t.withColumn('kpi_subrango', when(col('kpi_subrango').isNull(), lit('NULL')).otherwise(col('kpi_subrango')))\n",
    "\t\t\t\t\t\t#.withColumn('score_ajustado_movil', when(col('score_ajustado_movil').isNull(), lit(0)).otherwise(col('score_ajustado_movil')))\n",
    "\t\t\t\t\t\t#.withColumn('score_pm', when(col('score_pm').isNull(), lit(0)).otherwise(col('score_pm')))\n",
    "\t\t\t\t\t\t#.withColumn('score_sum_pm', when(col('score_sum_pm').isNull(), lit('1.000000')).otherwise(col('score_sum_pm')))\n",
    "\t\t\t\t\t\t.withColumn('dic_montototaluf_02', when(col('dic_montototaluf_02').isNull(), lit(0)).otherwise(col('dic_montototaluf_02')))\n",
    "\t\t\t\t\t\t.withColumn('dic_montototaluf_12', when(col('dic_montototaluf_12').isNull(), lit(0)).otherwise(col('dic_montototaluf_12')))\n",
    "\t\t\t\t\t\t.withColumn('dic_montototaluf_39', when(col('dic_montototaluf_39').isNull(), lit(0)).otherwise(col('dic_montototaluf_39')))\n",
    "\t\t\t\t\t\t.withColumn('dic_totdoc_12', when(col('dic_totdoc_12').isNull(), lit(0)).otherwise(col('dic_totdoc_12')))\n",
    "\t\t\t\t\t\t.withColumn('dic_totdocs_39', when(col('dic_totdocs_39').isNull(), lit(0)).otherwise(col('dic_totdocs_39')))\n",
    "\t\t\t\t\t\t.withColumn('dic_totdocs_02', when(col('dic_totdocs_02').isNull(), lit(0)).otherwise(col('dic_totdocs_02')))\n",
    "\t\t\t\t\t\t#.withColumn('score_real_fijo', when(col('score_real_fijo').isNull(), lit(0)).otherwise(col('score_real_fijo')))\n",
    "\t\t\t\t\t\t#.withColumn('score_ajustado_fijo', when(col('score_ajustado_fijo').isNull(), lit(0)).otherwise(col('score_ajustado_fijo')))\n",
    "\t\t\t\t\t\t#.withColumn('limite_credito', when(col('limite_credito').isNull(), lit(0)).otherwise(col('limite_credito')))\n",
    "\t\t\t\t\t\t#.withColumn('p_score1', when(col('p_score1').isNull(), lit(1)).otherwise(col('p_score1')))\n",
    "\t\t\t\t\t\t#.withColumn('score_real_movil', when(col('score_real_movil').isNull(), lit(0)).otherwise(col('score_real_movil')))\n",
    "\t\t\t\t\t\t#.withColumn('score_pyme', when(col('score_pyme').isNull(), lit(0)).otherwise(col('score_pyme')))\n",
    "\t\t\t\t\t\t#.withColumn('p_score1_pyme', when(col('p_score1_pyme').isNull(), lit(1)).otherwise(col('p_score1_pyme')))\n",
    "\t\t)\n",
    "  return df_scoren\n",
    "\n",
    "\n",
    "def valores_menores_edad(df_scoren):\n",
    "    df_scoren = (df_scoren.withColumn('dic_cnt_tel_26', when((col('dic_edad_26') < 18) & (col('ind_pj') == 0) & (col('score_ajustado_fijo') != 51) , lit('0')).otherwise(col('dic_cnt_tel_26')))\n",
    "                          .withColumn('dic_edad_26', when((col('dic_edad_26') < 18) & (col('ind_pj') == 0) & (col('score_ajustado_fijo') != 51), lit(0)).otherwise(col('dic_edad_26')))\n",
    "                          .withColumn('dic_est_civil_26', when((col('dic_edad_26') < 18) & (col('ind_pj') == 0) & (col('score_ajustado_fijo') != 51), lit('')).otherwise(col('dic_est_civil_26')))\n",
    "                          #.withColumn('dic_tienefdef_26', when((col('dic_edad_26') < 18) & (col('ind_pj') == 0) & (col('score_ajustado_fijo') != 51), lit('')).otherwise(col('dic_tienefdef_26')))\n",
    "                          .withColumn('dic_totavaluo_32', when((col('dic_edad_26') < 18) & (col('ind_pj') == 0) & (col('score_ajustado_fijo') != 51), lit(0)).otherwise(col('dic_totavaluo_32')))\n",
    "                          .withColumn('dic_rutneg_00', when((col('dic_edad_26') < 18) & (col('ind_pj') == 0) & (col('score_ajustado_fijo') != 51), lit(1)).otherwise(col('dic_rutneg_00')))\n",
    "                          .withColumn('dic_nroacreed_39', when((col('dic_edad_26') < 18) & (col('ind_pj') == 0) & (col('score_ajustado_fijo') != 51), lit(0)).otherwise(col('dic_nroacreed_39')))\n",
    "                          .withColumn('dic_fechnac2_26', when((col('dic_edad_26') < 18) & (col('ind_pj') == 0) & (col('score_ajustado_fijo') != 51), lit('00000000')).otherwise(col('dic_fechnac2_26')))\n",
    "                          .withColumn('dic_nombre_00', when((col('dic_edad_26') < 18) & (col('ind_pj') == 0) & (col('score_ajustado_fijo') != 51), lit('')).otherwise(col('dic_nombre_00')))\n",
    "                          .withColumn('dic_codigoactividad_26', when((col('dic_edad_26') < 18) & (col('ind_pj') == 0) & (col('score_ajustado_fijo') != 51), lit(0)).otherwise(col('dic_codigoactividad_26')))\n",
    "                          .withColumn('dic_region_18', when((col('dic_edad_26') < 18) & (col('ind_pj') == 0) & (col('score_ajustado_fijo') != 51), lit('')).otherwise(col('dic_region_18')))\n",
    "                          .withColumn('dic_tot_clqveh_10', when((col('dic_edad_26') < 18) & (col('ind_pj') == 0) & (col('score_ajustado_fijo') != 51), lit(0)).otherwise(col('dic_tot_clqveh_10')))\n",
    "                          .withColumn('dic_cod_profesion_26', when((col('dic_edad_26') < 18) & (col('ind_pj') == 0) & (col('score_ajustado_fijo') != 51), lit(0)).otherwise(col('dic_cod_profesion_26')))\n",
    "                          .withColumn('dic_rutctacte_06', when((col('dic_edad_26') < 18) & (col('ind_pj') == 0) & (col('score_ajustado_fijo') != 51), lit(0)).otherwise(col('dic_rutctacte_06')))\n",
    "                          .withColumn('dic_tipodomicilio_18', when((col('dic_edad_26') < 18) & (col('ind_pj') == 0) & (col('score_ajustado_fijo') != 51), lit('N/A')).otherwise(col('dic_tipodomicilio_18')))\n",
    "                          .withColumn('dic_sexo_26', when((col('dic_edad_26') < 18) & (col('ind_pj') == 0) & (col('score_ajustado_fijo') != 51), lit('')).otherwise(col('dic_sexo_26')))\n",
    "                          .withColumn('dic_ind_ae_23', when((col('dic_edad_26') < 18) & (col('ind_pj') == 0) & (col('score_ajustado_fijo') != 51), lit('0')).otherwise(col('dic_ind_ae_23')))\n",
    "                          .withColumn('dic_vehiculo_furgon', when((col('dic_edad_26') < 18) & (col('ind_pj') == 0) & (col('score_ajustado_fijo') != 51), lit(0)).otherwise(col('dic_vehiculo_furgon')))\n",
    "                          .withColumn('dic_tot_vehs_10', when((col('dic_edad_26') < 18) & (col('ind_pj') == 0) & (col('score_ajustado_fijo') != 51), lit(0)).otherwise(col('dic_tot_vehs_10')))\n",
    "                          .withColumn('dic_dirciudad_18', when((col('dic_edad_26') < 18) & (col('ind_pj') == 0) & (col('score_ajustado_fijo') != 51), lit(0)).otherwise(col('dic_dirciudad_18')))\n",
    "                          .withColumn('dic_camionetas_10', when((col('dic_edad_26') < 18) & (col('ind_pj') == 0) & (col('score_ajustado_fijo') != 51), lit(0)).otherwise(col('dic_camionetas_10')))\n",
    "                          .withColumn('dic_predictorpub_06', when((col('dic_edad_26') < 18) & (col('ind_pj') == 0) & (col('score_ajustado_fijo') != 51), lit(0)).otherwise(col('dic_predictorpub_06')))\n",
    "                          .withColumn('dic_actividad_26', when((col('dic_edad_26') < 18) & (col('ind_pj') == 0) & (col('score_ajustado_fijo') != 51), lit('PROFESION NO CODIFICADA')).otherwise(col('dic_actividad_26')))\n",
    "                          .withColumn('dic_finiconrut_38', when((col('dic_edad_26') < 18) & (col('ind_pj') == 0) & (col('score_ajustado_fijo') != 51), lit('00000000')).otherwise(col('dic_finiconrut_38')))\n",
    "                          .withColumn('dic_fechvenc_02', when((col('dic_edad_26') < 18) & (col('ind_pj') == 0) & (col('score_ajustado_fijo') != 51), lit('00000000')).otherwise(col('dic_fechvenc_02')))\n",
    "                          .withColumn('dic_fec_const_23', when((col('dic_edad_26') < 18) & (col('ind_pj') == 0) & (col('score_ajustado_fijo') != 51), lit('00000000')).otherwise(col('dic_fec_const_23')))\n",
    "                          .withColumn('dic_totcons3_38', when((col('dic_edad_26') < 18) & (col('ind_pj') == 0) & (col('score_ajustado_fijo') != 51), lit(0)).otherwise(col('dic_totcons3_38')))\n",
    "                          .withColumn('dic_nrootros_02', when((col('dic_edad_26') < 18) & (col('ind_pj') == 0) & (col('score_ajustado_fijo') != 51), lit(0)).otherwise(col('dic_nrootros_02')))\n",
    "                          .withColumn('dic_autos_sw_10', when((col('dic_edad_26') < 18) & (col('ind_pj') == 0) & (col('score_ajustado_fijo') != 51), lit(0)).otherwise(col('dic_autos_sw_10')))\n",
    "                          .withColumn('vehi_avaluo_total_hh', when((col('dic_edad_26') < 18) & (col('ind_pj') == 0) & (col('score_ajustado_fijo') != 51), lit(0)).otherwise(col('vehi_avaluo_total_hh')))\n",
    "                          .withColumn('renta_total_hh', when((col('dic_edad_26') < 18) & (col('ind_pj') == 0) & (col('score_ajustado_fijo') != 51), lit(0)).otherwise(col('renta_total_hh')))\n",
    "                          .withColumn('avaluo_bbrr_total_hh', when((col('dic_edad_26') < 18) & (col('ind_pj') == 0) & (col('score_ajustado_fijo') != 51), lit(0)).otherwise(col('avaluo_bbrr_total_hh')))\n",
    "                          .withColumn('clean2_hh', when((col('dic_edad_26') < 18) & (col('ind_pj') == 0) & (col('score_ajustado_fijo') != 51), lit(1)).otherwise(col('clean2_hh')))\n",
    "                          .withColumn('predictor1_max_hh', when((col('dic_edad_26') < 18) & (col('ind_pj') == 0) & (col('score_ajustado_fijo') != 51), lit(0)).otherwise(col('predictor1_max_hh')))\n",
    "                          .withColumn('kpi_ise_efx', when((col('dic_edad_26') < 18) & (col('ind_pj') == 0) & (col('score_ajustado_fijo') != 51), lit('')).otherwise(col('kpi_ise_efx')))\n",
    "                          .withColumn('kpi_ind_interdicto', when((col('dic_edad_26') < 18) & (col('ind_pj') == 0) & (col('score_ajustado_fijo') != 51), lit('N')).otherwise(col('kpi_ind_interdicto')))\n",
    "                          .withColumn('kpi_renta_efx', when((col('dic_edad_26') < 18) & (col('ind_pj') == 0) & (col('score_ajustado_fijo') != 51), lit(0)).otherwise(col('kpi_renta_efx')))\n",
    "                          .withColumn('kpi_geo_clean2', when((col('dic_edad_26') < 18) & (col('ind_pj') == 0) & (col('score_ajustado_fijo') != 51), lit('1')).otherwise(col('kpi_geo_clean2')))\n",
    "                          .withColumn('kpi_ind_bank', when((col('dic_edad_26') < 18) & (col('ind_pj') == 0) & (col('score_ajustado_fijo') != 51), lit(0)).otherwise(col('kpi_ind_bank')))\n",
    "                          .withColumn('kpi_cant_hijos_menores', when((col('dic_edad_26') < 18) & (col('ind_pj') == 0) & (col('score_ajustado_fijo') != 51), lit(0)).otherwise(col('kpi_cant_hijos_menores')))\n",
    "                          .withColumn('kpi_vehi_avaluo', when((col('dic_edad_26') < 18) & (col('ind_pj') == 0) & (col('score_ajustado_fijo') != 51), lit('0')).otherwise(col('kpi_vehi_avaluo')))\n",
    "                          .withColumn('kpi_cantidad_tel_cel', when((col('dic_edad_26') < 18) & (col('ind_pj') == 0) & (col('score_ajustado_fijo') != 51), lit(0)).otherwise(col('kpi_cantidad_tel_cel')))\n",
    "                          .withColumn('kpi_cantidad_tel_fijo', when((col('dic_edad_26') < 18) & (col('ind_pj') == 0) & (col('score_ajustado_fijo') != 51), lit(0)).otherwise(col('kpi_cantidad_tel_fijo')))\n",
    "                          .withColumn('kpi_antiguedad_vehi', when((col('dic_edad_26') < 18) & (col('ind_pj') == 0) & (col('score_ajustado_fijo') != 51), lit('-99')).otherwise(col('kpi_antiguedad_vehi')))\n",
    "                          .withColumn('kpi_redcode', when((col('dic_edad_26') < 18) & (col('ind_pj') == 0) & (col('score_ajustado_fijo') != 51), lit('NULL')).otherwise(col('kpi_redcode')))\n",
    "                          #.withColumn('kpi_fec_nac', when((col('dic_edad_26') < 18) & (col('ind_pj') == 0) & (col('score_ajustado_fijo') != 51), lit('19000101')).otherwise(col('kpi_fec_nac')))\n",
    "                          .withColumn('kpi_rubro', when((col('dic_edad_26') < 18) & (col('ind_pj') == 0) & (col('score_ajustado_fijo') != 51), lit('NULL')).otherwise(col('kpi_rubro')))\n",
    "                          .withColumn('kpi_ind_bed_socios', when((col('dic_edad_26') < 18) & (col('ind_pj') == 0) & (col('score_ajustado_fijo') != 51), lit('0')).otherwise(col('kpi_ind_bed_socios')))\n",
    "                          .withColumn('kpi_ind_bolcom_socios', when((col('dic_edad_26') < 18) & (col('ind_pj') == 0) & (col('score_ajustado_fijo') != 51), lit('0')).otherwise(col('kpi_ind_bolcom_socios')))\n",
    "                          .withColumn('kpi_empresa_activa', when((col('dic_edad_26') < 18) & (col('ind_pj') == 0) & (col('score_ajustado_fijo') != 51), lit('0')).otherwise(col('kpi_empresa_activa')))\n",
    "                          .withColumn('kpi_cantidad_socios', when((col('dic_edad_26') < 18) & (col('ind_pj') == 0) & (col('score_ajustado_fijo') != 51), lit('0')).otherwise(col('kpi_cantidad_socios')))\n",
    "                          .withColumn('kpi_cantidad_trabajador', when((col('dic_edad_26') < 18) & (col('ind_pj') == 0) & (col('score_ajustado_fijo') != 51), lit('0')).otherwise(col('kpi_cantidad_trabajador')))\n",
    "                          .withColumn('kpi_subrango', when((col('dic_edad_26') < 18) & (col('ind_pj') == 0) & (col('score_ajustado_fijo') != 51), lit('NULL')).otherwise(col('kpi_subrango')))\n",
    "                          #.withColumn('score_ajustado_movil', when((col('dic_edad_26') < 18) & (col('ind_pj') == 0) & (col('score_ajustado_fijo') != 51), lit(0)).otherwise(col('score_ajustado_movil')))\n",
    "                          #.withColumn('score_pm', when((col('dic_edad_26') < 18) & (col('ind_pj') == 0) & (col('score_ajustado_fijo') != 51), lit(0)).otherwise(col('score_pm')))\n",
    "                          #.withColumn('score_sum_pm', when((col('dic_edad_26') < 18) & (col('ind_pj') == 0) & (col('score_ajustado_fijo') != 51), lit('1.000000')).otherwise(col('score_sum_pm')))\n",
    "                          .withColumn('dic_montototaluf_02', when((col('dic_edad_26') < 18) & (col('ind_pj') == 0) & (col('score_ajustado_fijo') != 51), lit(0)).otherwise(col('dic_montototaluf_02')))\n",
    "                          .withColumn('dic_montototaluf_12', when((col('dic_edad_26') < 18) & (col('ind_pj') == 0) & (col('score_ajustado_fijo') != 51), lit(0)).otherwise(col('dic_montototaluf_12')))\n",
    "                          .withColumn('dic_montototaluf_39', when((col('dic_edad_26') < 18) & (col('ind_pj') == 0) & (col('score_ajustado_fijo') != 51), lit(0)).otherwise(col('dic_montototaluf_39')))\n",
    "                          .withColumn('dic_totdoc_12', when((col('dic_edad_26') < 18) & (col('ind_pj') == 0) & (col('score_ajustado_fijo') != 51), lit(0)).otherwise(col('dic_totdoc_12')))\n",
    "                          .withColumn('dic_totdocs_39', when((col('dic_edad_26') < 18) & (col('ind_pj') == 0) & (col('score_ajustado_fijo') != 51), lit(0)).otherwise(col('dic_totdocs_39')))\n",
    "                          .withColumn('dic_totdocs_02', when((col('dic_edad_26') < 18) & (col('ind_pj') == 0) & (col('score_ajustado_fijo') != 51), lit(0)).otherwise(col('dic_totdocs_02')))\n",
    "                          #.withColumn('score_real_fijo', when((col('dic_edad_26') < 18) & (col('ind_pj') == 0) & (col('score_ajustado_fijo') != 51), lit(0)).otherwise(col('score_real_fijo')))\n",
    "                          #.withColumn('score_ajustado_fijo', when((col('dic_edad_26') < 18) & (col('ind_pj') == 0) & (col('score_ajustado_fijo') != 51), lit(0)).otherwise(col('score_ajustado_fijo')))\n",
    "                          #.withColumn('limite_credito', when((col('dic_edad_26') < 18) & (col('ind_pj') == 0) & (col('score_ajustado_fijo') != 51), lit(0)).otherwise(col('limite_credito')))\n",
    "                          #.withColumn('p_score1', when((col('dic_edad_26') < 18) & (col('ind_pj') == 0) & (col('score_ajustado_fijo') != 51), lit(1)).otherwise(col('p_score1')))\n",
    "                          #.withColumn('score_real_movil', when((col('dic_edad_26') < 18) & (col('ind_pj') == 0) & (col('score_ajustado_fijo') != 51), lit(0)).otherwise(col('score_real_movil')))\n",
    "                          #.withColumn('score_pyme', when((col('dic_edad_26') < 18) & (col('ind_pj') == 0) & (col('score_ajustado_fijo') != 51), lit(0)).otherwise(col('score_pyme')))\n",
    "                          #.withColumn('p_score1_pyme', when((col('dic_edad_26') < 18) & (col('ind_pj') == 0) & (col('score_ajustado_fijo') != 51), lit(1)).otherwise(col('p_score1_pyme')))\n",
    "                  )\n",
    "    df_scoren = (df_scoren.withColumn('clean2_hh', col('clean2_hh').cast(DecimalType(18,2)))\n",
    "                        .withColumn('dic_montototaluf_02', col('dic_montototaluf_02').cast(DecimalType(18,2)))\n",
    "                        .withColumn('dic_montototaluf_12', col('dic_montototaluf_12').cast(DecimalType(18,2)))\n",
    "                        .withColumn('dic_montototaluf_39', col('dic_montototaluf_39').cast(DecimalType(18,2)))\n",
    "                        .withColumn('dic_fec_const_23', when(col('dic_fec_const_23') == '0', lit('00000000')).otherwise(col('dic_fec_const_23')))\n",
    "                        .withColumn('dic_edad_26', when(col('ind_defunc') == 1, lit(0)).otherwise(col('dic_edad_26')))\n",
    "                        .withColumn('dic_est_civil_26', when(col('dic_est_civil_26') == '', lit('NO REGISTRA')).otherwise(col('dic_est_civil_26')))\n",
    "              )\n",
    "\n",
    "    return df_scoren"
   ]
  },
  {
   "cell_type": "markdown",
   "id": "lonely-commercial",
   "metadata": {},
   "source": [
    "## LLAMAR TABLAS PARA UTILIZAR"
   ]
  },
  {
   "cell_type": "code",
   "execution_count": 17,
   "id": "latest-promise",
   "metadata": {},
   "outputs": [
    {
     "data": {
      "application/vnd.jupyter.widget-view+json": {
       "model_id": "",
       "version_major": 2,
       "version_minor": 0
      },
      "text/plain": [
       "FloatProgress(value=0.0, bar_style='info', description='Progress:', layout=Layout(height='25px', width='50%'),…"
      ]
     },
     "metadata": {},
     "output_type": "display_data"
    }
   ],
   "source": [
    "#CONSOLIDADO PERSONA (OK)\n",
    "\n",
    "archive_consolidado = archive_date(\"dfa-dna-ws0011-la-prd-f758.dfa_dna_ws0011_la_prd_sandbox.monedas_norm_dev_dummy\", '2022-05-30' , 'ARCHIVE')\n",
    "consolidado_data = spark.read.format(\"bigquery\").option(\"table\", \"dfa-dna-ws0011-la-prd-f758.dfa_dna_ws0011_la_prd_sandbox.monedas_norm_dev_dummy\").load().filter(\"ARCHIVE = '{fecha}'\".format(fecha = archive_consolidado))\n",
    "consolidado_data.createOrReplaceTempView(\"uf\")\n",
    "\n",
    "\n",
    "archive_consolidado = archive_date(\"dfa-dna-ws0011-la-prd-f758.dfa_dna_ws0011_la_prd_sandbox.consolidado_la_prd\", '2022-05-30' , 'ARCHIVE')\n",
    "consolidado_data = spark.read.format(\"bigquery\").option(\"table\", \"dfa-dna-ws0011-la-prd-f758.dfa_dna_ws0011_la_prd_sandbox.consolidado_la_prd\").load().filter(\"ARCHIVE = '{fecha}'\".format(fecha = archive_consolidado))\n",
    "consolidado_data.createOrReplaceTempView(\"consolidado_persona\")\n",
    "\n",
    "query_consolidado_persona = \"\"\"\n",
    "\t\t        WITH uf_hoy as (\n",
    "\t\t                SELECT valor_uf\n",
    "\t\t                FROM(\n",
    "\t\t                    SELECT valor_uf, row_number() over(ORDER BY fecha desc) as rooooow1 \n",
    "\t\t                    FROM uf) x\n",
    "\t\t                WHERE x.rooooow1 = 1\n",
    "\t\t            ) \n",
    "\t\t\t\tSELECT A.rutp AS rut,\n",
    "\t\t\t\t\t   CEILING(datediff(now() ,CASE WHEN fnac_26 = '00000000' THEN NULL ELSE fnac_26 END)/365.25) as dic_edad_26,\n",
    "\t\t\t\t\t   COALESCE(UPPER(est_civil), '') as dic_est_civil_26,\n",
    "\t\t\t\t\t   CASE WHEN ind_defunc = 1 THEN 'SI' ELSE 'NO' END as dic_tienefdef_26,\n",
    "\t\t\t\t\t   valor_uf as DIC_VALORUF_00,\n",
    "\t\t\t\t\t   nombre as dic_nombre_00,\n",
    "\t\t\t\t\t   COALESCE(nacr_39, 0) as dic_nroacreed_39,\n",
    "\t\t\t\t\t   COALESCE(regexp_replace(fnac_26, '-', ''), '00000000') as dic_fechnac2_26,\n",
    "\t\t\t\t\t   COALESCE(codigo_acti, 0) as dic_codigoactividad_26,\n",
    "\t\t\t\t\t   '00000000' as dic_fec_const_23,\n",
    "\t\t\t\t\t   CASE WHEN region = 'DE LOS LAGOS' THEN 'LOS LAGOS'\n",
    "\t\t\t\t\t\t\t\tWHEN region = 'DE LOS RIOS' THEN 'LOS RIOS'\n",
    "\t\t\t\t\t\t\t\tWHEN region = 'DE MAGALLANES Y ANTARTICA CHILENA' THEN 'MAGALLANES Y DE LA ANTARTICA CHILENA'\n",
    "\t\t\t\t\t\t\t\tWHEN region = 'DE NUBLE' THEN 'NUBLE'\n",
    "\t\t\t\t\t\t\t\tWHEN region = 'DE ATACAMA' THEN 'ATACAMA'\n",
    "\t\t\t\t\t\t\t\tWHEN region = 'DE ANTOFAGASTA' THEN 'ANTOFAGASTA'\n",
    "\t\t\t\t\t\t\t\tWHEN region = 'DE COQUIMBO' THEN 'COQUIMBO'\n",
    "\t\t\t\t\t\t\t\tWHEN region = 'DE LA ARAUCANIA' THEN 'LA ARAUCANIA'\n",
    "\t\t\t\t\t\t\t\tWHEN region = 'DE TARAPACA' THEN 'TARAPACA'\n",
    "\t\t\t\t\t\t\t\tWHEN region = 'DE ARICA y PARINACOTA' THEN 'ARICA Y PARINACOTA'\n",
    "\t\t\t\t\t\t\t\tWHEN region = 'DE VALPARAISO' THEN 'VALPARAISO'\n",
    "\t\t\t\t\t\t\t\tWHEN region = 'DEL BIO BIO' THEN 'BIO-BIO'\n",
    "\t\t\t\t\t\t\t\tWHEN region = 'DEL LIBERTADOR BERNARDO OHIGGINS' THEN \"LIBERTADOR GENERAL BERNARDO O'HIGGINS\"\n",
    "\t\t\t\t\t\t\t\tWHEN region = 'DEL MAULE' THEN 'MAULE'\n",
    "\t\t\t\t\t\t\t\tWHEN region = 'AYSEN DEL GENERAL CARLOS IBANEZ' THEN 'AYSEN DEL GRAL. CARLOS IBANEZ DEL CAMPO'\n",
    "\t\t\t\t\t\t\t\tELSE coalesce(region, '') END AS dic_region_18,\n",
    "\t\t\t\t\t   COALESCE(cant_vehic, 0) as dic_tot_clqveh_10,\n",
    "\t\t\t\t\t   cast(COALESCE(codigo_prof, 0) as int) as dic_cod_profesion_26,\n",
    "\t\t\t\t\t   COALESCE(nccc, 0) as dic_rutctacte_06,\n",
    "\t\t\t\t\t   CASE WHEN tip_ultdir = '1' THEN 'PARTICULAR'\n",
    "\t\t\t\t\t\t\tWHEN tip_ultdir = '2' THEN 'COMERCIAL'\n",
    "\t\t\t\t\t\t\tWHEN tip_ultdir = '3' THEN 'CASA MATRIZ'\n",
    "\t\t\t\t\t\t\tWHEN tip_ultdir = '4' THEN 'SUCURSAL'\n",
    "\t\t\t\t\t\t\tWHEN tip_ultdir = '5' THEN 'OTRO'\n",
    "\t\t\t\t\t\t\tELSE 'N/A' END as dic_tipodomicilio_18,\n",
    "\t\t\t\t\t   COALESCE(sexo, '') AS dic_sexo_26, \n",
    "\t\t\t\t\t   COALESCE(vehi_furgon, 0) as dic_vehiculo_furgon,\n",
    "\t\t\t\t\t   COALESCE(vehi_autos, 0) as dic_vehiculo_aut,\n",
    "\t\t\t\t\t   COALESCE(tot_vehi_exp, 0) as dic_tot_vehs_10,\n",
    "\t\t\t\t\t   RTRIM(LTRIM(des_ultcom)) as dic_dircomuna_18,\n",
    "\t\t\t\t\t   '' as dic_rubro_23,\n",
    "\t\t\t\t\t   RTRIM(LTRIM(resto_dir)) as dic_direccion_18,\n",
    "\t\t\t\t\t   RTRIM(LTRIM(des_ultciu)) as dic_dirciudad_18,\n",
    "\t\t\t\t\t   COALESCE(vehi_camionetas, 0) as dic_camionetas_10,\n",
    "\t\t\t\t\t   COALESCE(actividad, 'PROFESION NO CODIFICADA')  as dic_actividad_26,\n",
    "\t\t\t\t\t   COALESCE(regexp_replace(fecha_ven_02, '-', ''), '00000000') as dic_fechvenc_02,\n",
    "\t\t\t\t\t   COALESCE(dic_totcons3_38, 0) as dic_totcons3_38,\n",
    "\t\t\t\t\t   COALESCE(otro_02, 0) as dic_nrootros_02,\n",
    "\t\t\t\t\t   COALESCE(vehi_station_auto, 0) as dic_autos_sw_10,\n",
    "\t\t\t\t\t   CAST(cast (coalesce(avaluo,0) as float) / cast (valor_uf as float) AS DECIMAL(17,2)) as dic_totavaluo_32,\n",
    "\t\t\t\t\t   CAST(tmouf_02 AS DECIMAL(17,2)) as dic_montototaluf_02,\n",
    "\t\t\t\t\t   CAST(tmot_12 AS DECIMAL(17,2)) as dic_montototaluf_12,\n",
    "\t\t\t\t\t   CAST(tmot_39 AS DECIMAL(17,2)) as dic_montototaluf_39,\n",
    "\t\t\t\t\t   COALESCE(tdoc_12, 0) as dic_totdoc_12,\n",
    "\t\t\t\t\t   COALESCE(tdoc_39, 0) as dic_totdocs_39,\n",
    "\t\t\t\t\t   COALESCE(tdoc_02, 0) as dic_totdocs_02,\n",
    "\t\t\t\t\t   1 as dic_rutneg_00,\n",
    "                \t   '' as dic_rutneg_glo_00,\n",
    "                \t   consultas_3m as kpi_tot_cons_telco_3m,\n",
    "                \t   0 as ind_pj,\n",
    "                \t   ind_defunc\n",
    "\t\t\t\tFROM (SELECT * FROM consolidado_persona WHERE archive = '2022-05-30') A\n",
    "\t\t\t\tLEFT JOIN uf_hoy B\n",
    "\t\t\t\tON 1 = 1\n",
    "\"\"\"\n",
    "\n",
    "df_cons_per = spark.sql(query_consolidado_persona)"
   ]
  },
  {
   "cell_type": "code",
   "execution_count": 8,
   "id": "martial-decline",
   "metadata": {},
   "outputs": [
    {
     "data": {
      "application/vnd.jupyter.widget-view+json": {
       "model_id": "",
       "version_major": 2,
       "version_minor": 0
      },
      "text/plain": [
       "FloatProgress(value=0.0, bar_style='info', description='Progress:', layout=Layout(height='25px', width='50%'),…"
      ]
     },
     "metadata": {},
     "output_type": "display_data"
    }
   ],
   "source": [
    "#TABLA KPI (OK)\n",
    "\n",
    "archive_consolidado = archive_date(\"dfa-dna-ws0011-la-prd-f758.dfa_dna_ws0011_la_prd_sandbox.kpi_prod_ref_telefonica_cambrian\", '2022-05-30' , 'ARCHIVE')\n",
    "consolidado_data = spark.read.format(\"bigquery\").option(\"table\", \"dfa-dna-ws0011-la-prd-f758.dfa_dna_ws0011_la_prd_sandbox.kpi_prod_ref_telefonica_cambrian\").load().filter(\"ARCHIVE = '{fecha}'\".format(fecha = archive_consolidado))\n",
    "consolidado_data.createOrReplaceTempView(\"kpi\")\n",
    "\n",
    "query_kpi = \"\"\"\n",
    "      SELECT \n",
    "\t\t\trut,\n",
    "\t\t\tCOALESCE(regexp_replace(KPI_CANT_TEL, '\"', ''), '0') AS dic_cnt_tel_26,\n",
    "\t\t\tCOALESCE(regexp_replace(KPI_NUM_RUBROS_PN, '\"', ''), '0') AS dic_ind_ae_23,\n",
    "\t\t\tCOALESCE(regexp_replace(kpi_ise_ignite, '\"', ''), '') AS kpi_ise_new,\n",
    "\t\t\tCOALESCE(regexp_replace(kpi_ise_ignite, '\"', ''), '') AS kpi_ise_efx,\n",
    "\t\t\tCOALESCE(regexp_replace(KPI_IND_INTERDICTO, '\"', ''), 'N') AS kpi_ind_interdicto,\n",
    "\t\t\tCAST(COALESCE(regexp_replace(KPI_RENTA_EFX, '\"', ''), '0') AS BIGINT) AS kpi_renta_efx,\n",
    "\t\t\tCOALESCE(regexp_replace(KPI_GEO_CLEAN2, '\"', ''), '1') AS kpi_geo_clean2,\n",
    "\t\t\tCAST(COALESCE(regexp_replace(KPI_IND_BANK, '\"', ''), '0') AS BIGINT) AS kpi_ind_bank,\n",
    "\t\t\tCAST(COALESCE(regexp_replace(KPI_CANT_HIJOS_MENORES, '\"', ''), '0') AS BIGINT) AS kpi_cant_hijos_menores,\n",
    "\t\t\tCOALESCE(regexp_replace(KPI_VEHI_AVALUO, '\"', ''), '0') AS kpi_vehi_avaluo,\n",
    "\t\t\tcast(COALESCE(regexp_replace(KPI_CANTIDAD_TEL_CEL, '\"', ''), '0') AS BIGINT) AS kpi_cantidad_tel_cel,\n",
    "\t\t\tcast(COALESCE(regexp_replace(KPI_CANTIDAD_TEL_FIJO, '\"', ''), '0') AS BIGINT) AS kpi_cantidad_tel_fijo,\n",
    "\t\t\tCOALESCE(regexp_replace(KPI_ANTIGUEDAD_VEHI, '\"', ''), '-99') AS kpi_antiguedad_vehi,\n",
    "\t\t\tCOALESCE(regexp_replace(KPI_REDCODE, '\"', ''), 'NULL') AS kpi_redcode,\n",
    "\t\t\tCOALESCE(regexp_replace(KPI_FEC_NAC, '\"', ''), '19000101') AS kpi_fec_nac,\n",
    "\t\t\tCOALESCE(regexp_replace(KPI_RUBRO, '\"', ''), 'NULL') AS kpi_rubro,\n",
    "\t\t\tCOALESCE(regexp_replace(KPI_IND_BED_SOCIOS, '\"', ''), '0') AS kpi_ind_bed_socios,\n",
    "\t\t\tCOALESCE(regexp_replace(KPI_IND_BOLCOM_SOCIOS, '\"', ''), '0') AS kpi_ind_bolcom_socios,\n",
    "\t\t\tCOALESCE(regexp_replace(KPI_EMPRESA_ACTIVA, '\"', ''), '0') AS kpi_empresa_activa,\n",
    "\t\t\tCOALESCE(regexp_replace(KPI_CANTIDAD_SOCIOS, '\"', ''), '0') AS kpi_cantidad_socios,\n",
    "\t\t\tCOALESCE(regexp_replace(KPI_CANTIDAD_TRABAJADOR, '\"', ''), '0') AS kpi_cantidad_trabajador,\n",
    "\t\t\tCOALESCE(regexp_replace(KPI_SUBRANGO, '\"', ''), 'NULL') AS kpi_subrango,\n",
    "            cast(regexp_replace(KPI_TOTAL_AVALUO_VEHI_HH_PRINCIPAL, '\"', '') as bigint) as kpi_total_avaluo_vehi_hh_principal,\n",
    "            cast(regexp_replace(kpi_clean2_hh, '\"', '') as float) as kpi_porc_clean2_hh,\n",
    "            cast(regexp_replace(kpi_renta_per_capita_calc_hh_principal, '\"', '') as bigint) as kpi_renta_percapita_calc_hh,\n",
    "            0 as kpi_padres_abc12,\n",
    "            cast(regexp_replace(kpi_renta_total_hh_principal, '\"', '') as bigint) as kpi_renta_total_hh_principal,\n",
    "            cast(regexp_replace(kpi_prom_avaluo_vehi_hh_principal, '\"', '') as float) as kpi_prom_avaluo_vehi_hh_principal,\n",
    "            cast(regexp_replace(kpi_cant_familiares_hh_principal, '\"', '') as bigint) as kpi_cant_familiares_hh_principal,\n",
    "            cast(regexp_replace(kpi_cant_hh_es_lider, '\"', '') as bigint) as kpi_cant_hh_es_lider\n",
    "      FROM kpi\n",
    "\"\"\"\n",
    "\n",
    "df_kpi = spark.sql(query_kpi)"
   ]
  },
  {
   "cell_type": "code",
   "execution_count": 9,
   "id": "canadian-newport",
   "metadata": {},
   "outputs": [
    {
     "data": {
      "application/vnd.jupyter.widget-view+json": {
       "model_id": "",
       "version_major": 2,
       "version_minor": 0
      },
      "text/plain": [
       "FloatProgress(value=0.0, bar_style='info', description='Progress:', layout=Layout(height='25px', width='50%'),…"
      ]
     },
     "metadata": {},
     "output_type": "display_data"
    }
   ],
   "source": [
    "#CONSULTAS (OK)\n",
    "\n",
    "archive_consolidado = archive_date(\"dfa-dna-ws0011-la-prd-f758.dfa_dna_ws0011_la_prd_sandbox.consultas_telefonica_cambrian\", '2022-05-30' , 'ARCHIVE')\n",
    "consolidado_data = spark.read.format(\"bigquery\").option(\"table\", \"dfa-dna-ws0011-la-prd-f758.dfa_dna_ws0011_la_prd_sandbox.consultas_telefonica_cambrian\").load().filter(\"ARCHIVE = '{fecha}'\".format(fecha = archive_consolidado))\n",
    "consolidado_data.createOrReplaceTempView(\"consultas\")\n",
    "\n",
    "query_consultas = \"\"\"\n",
    "\t\tSELECT  rut,\n",
    "\t\t        max(regexp_replace(fecha_consulta, '-', '')) as dic_finiconrut_38\n",
    "      \tFROM consultas\n",
    "      \tGROUP BY rut\n",
    "\"\"\"\n",
    "\n",
    "df_consultas = spark.sql(query_consultas)"
   ]
  },
  {
   "cell_type": "code",
   "execution_count": 10,
   "id": "comprehensive-sherman",
   "metadata": {},
   "outputs": [
    {
     "data": {
      "application/vnd.jupyter.widget-view+json": {
       "model_id": "",
       "version_major": 2,
       "version_minor": 0
      },
      "text/plain": [
       "FloatProgress(value=0.0, bar_style='info', description='Progress:', layout=Layout(height='25px', width='50%'),…"
      ]
     },
     "metadata": {},
     "output_type": "display_data"
    }
   ],
   "source": [
    "#CONSOLIDADO SCORE (OK)\n",
    "\n",
    "archive_consolidado = archive_date(\"dfa-dna-ws0011-la-prd-f758.dfa_dna_ws0011_la_prd_sandbox.consolidado_scores_la_prd\", '2022-05-30' , 'ARCHIVE')\n",
    "consolidado_data = spark.read.format(\"bigquery\").option(\"table\", \"dfa-dna-ws0011-la-prd-f758.dfa_dna_ws0011_la_prd_sandbox.consolidado_scores_la_prd\").load().filter(\"ARCHIVE = '{fecha}'\".format(fecha = archive_consolidado))\n",
    "consolidado_data.createOrReplaceTempView(\"score\")\n",
    "\n",
    "query_score = \"\"\"\n",
    "\t\tSELECT  rutp as rut,\n",
    "\t\t        predictor1 as dic_predictorpub_06\n",
    "      \tFROM score\n",
    "      \tWHERE archive = '2022-05-30'\n",
    "\"\"\"\n",
    "\n",
    "df_score = spark.sql(query_score)"
   ]
  },
  {
   "cell_type": "code",
   "execution_count": 11,
   "id": "atlantic-tumor",
   "metadata": {},
   "outputs": [
    {
     "data": {
      "application/vnd.jupyter.widget-view+json": {
       "model_id": "",
       "version_major": 2,
       "version_minor": 0
      },
      "text/plain": [
       "FloatProgress(value=0.0, bar_style='info', description='Progress:', layout=Layout(height='25px', width='50%'),…"
      ]
     },
     "metadata": {},
     "output_type": "display_data"
    }
   ],
   "source": [
    "#HOUSEHOLD (OK)\n",
    "\n",
    "archive_consolidado = archive_date(\"dfa-dna-ws0011-la-prd-f758.dfa_dna_ws0011_la_prd_sandbox.hh_principal_hist_la_prd\", '2022-05-30' , 'ARCHIVE')\n",
    "consolidado_data = spark.read.format(\"bigquery\").option(\"table\", \"dfa-dna-ws0011-la-prd-f758.dfa_dna_ws0011_la_prd_sandbox.hh_principal_hist_la_prd\").load().filter(\"ARCHIVE = '{fecha}'\".format(fecha = archive_consolidado))\n",
    "consolidado_data.createOrReplaceTempView(\"household\")\n",
    "\n",
    "query_household = \"\"\"\n",
    "\t\tSELECT rut,\n",
    "\t\t       total_avaluo_vehi_hh_principal as vehi_avaluo_total_hh,\n",
    "\t\t\t   renta_total_hh_principal as renta_total_hh,\n",
    "\t\t\t   bbrr_avaluo_total_hh_principal as avaluo_bbrr_total_hh,\n",
    "\t\t\t   porc_personas_clean2_hh_principal as clean2_hh,\n",
    "\t\t\t   predictor1_max_hh_principal as predictor1_max_hh\n",
    "      \tFROM household\n",
    "      \tWHERE archive = '2022-05-30'\n",
    "\"\"\"\n",
    "\n",
    "df_household = spark.sql(query_household)"
   ]
  },
  {
   "cell_type": "code",
   "execution_count": 12,
   "id": "cross-cleveland",
   "metadata": {},
   "outputs": [
    {
     "data": {
      "application/vnd.jupyter.widget-view+json": {
       "model_id": "",
       "version_major": 2,
       "version_minor": 0
      },
      "text/plain": [
       "FloatProgress(value=0.0, bar_style='info', description='Progress:', layout=Layout(height='25px', width='50%'),…"
      ]
     },
     "metadata": {},
     "output_type": "display_data"
    }
   ],
   "source": [
    "#SCORE PYME (OK)\n",
    "\n",
    "archive_consolidado = archive_date(\"dfa-dna-ws0011-la-prd-f758.dfa_dna_ws0011_la_prd_sandbox.score_pyme_telefonica_cambrian\", '2022-06-03' , 'ARCHIVE')\n",
    "consolidado_data = spark.read.format(\"bigquery\").option(\"table\", \"dfa-dna-ws0011-la-prd-f758.dfa_dna_ws0011_la_prd_sandbox.score_pyme_telefonica_cambrian\").load().filter(\"ARCHIVE = '{fecha}'\".format(fecha = archive_consolidado))\n",
    "consolidado_data.createOrReplaceTempView(\"score_pyme\")\n",
    "\n",
    "query_score_pyme = \"\"\"\n",
    "\t\tSELECT \n",
    "\t\t       score_pyme as score_pm\n",
    "      \tFROM score_pyme\n",
    "      \tWHERE archive = '2022-06-03'\n",
    "\"\"\"\n",
    "\n",
    "df_score_pyme = spark.sql(query_score_pyme)"
   ]
  },
  {
   "cell_type": "code",
   "execution_count": 13,
   "id": "prepared-estimate",
   "metadata": {},
   "outputs": [
    {
     "data": {
      "application/vnd.jupyter.widget-view+json": {
       "model_id": "",
       "version_major": 2,
       "version_minor": 0
      },
      "text/plain": [
       "FloatProgress(value=0.0, bar_style='info', description='Progress:', layout=Layout(height='25px', width='50%'),…"
      ]
     },
     "metadata": {},
     "output_type": "display_data"
    }
   ],
   "source": [
    "#RUBRO PERSONAS (OK)\n",
    "\n",
    "archive_consolidado = archive_date(\"dfa-dna-ws0011-la-prd-f758.dfa_dna_ws0011_la_prd_sandbox.personas_mensual_la_prd\", '2022-04-26' , 'ARCHIVE')\n",
    "consolidado_data = spark.read.format(\"bigquery\").option(\"table\", \"dfa-dna-ws0011-la-prd-f758.dfa_dna_ws0011_la_prd_sandbox.personas_mensual_la_prd\").load().filter(\"ARCHIVE = '{fecha}'\".format(fecha = archive_consolidado))\n",
    "consolidado_data.createOrReplaceTempView(\"rubro_personas\")\n",
    "\n",
    "query_rubro_personas = \"\"\"\n",
    "\t\t\tSELECT s.rutp as rut\n",
    "\t\t\t\t,\ts.desc_acteco as dic_rubro_23_piv\n",
    "\t\t\t\tfrom ( select ps.rutp \n",
    "\t\t\t\t\t        , ps.activ\n",
    "\t\t\t\t\t        , dir.cod_acteco\n",
    "\t\t\t\t\t        , dir.desc_acteco\n",
    "\t\t\t\t\t        , dir.fecha_inicio_acteco\n",
    "\t\t\t\t\t        , row_number() over(partition by ps.rutp order by dir.fecha_inicio_acteco desc) as file\n",
    "\t\t\t\t\t    from rubro_personas ps\n",
    "\t\t\t\t\t    LATERAL VIEW explode(ps.actividades_economicas) adTable as dir\n",
    "    \t\t\t\t\twhere archive = '2022-04-26'\n",
    "    \t\t\t\t)s\n",
    "\t\t\tWHERE s.file = 1\n",
    "\"\"\"\n",
    "\n",
    "df_rubro_personas = spark.sql(query_rubro_personas)"
   ]
  },
  {
   "cell_type": "markdown",
   "id": "dedicated-cradle",
   "metadata": {},
   "source": [
    "## INFORMACION CONFIGURE"
   ]
  },
  {
   "cell_type": "code",
   "execution_count": 14,
   "id": "interstate-pound",
   "metadata": {},
   "outputs": [
    {
     "data": {
      "application/vnd.jupyter.widget-view+json": {
       "model_id": "",
       "version_major": 2,
       "version_minor": 0
      },
      "text/plain": [
       "FloatProgress(value=0.0, bar_style='info', description='Progress:', layout=Layout(height='25px', width='50%'),…"
      ]
     },
     "metadata": {},
     "output_type": "display_data"
    }
   ],
   "source": [
    "# -- coding: UTF-8 --\n",
    "\n",
    "# PROD\n",
    "# 0: debug\n",
    "# 1: production\n",
    "# 2: new columns\n",
    "ind_prod = 0\n",
    "\n",
    "# Bases genericas\n",
    "cl_efx_att = 'cl_efx_att'\n",
    "cl_efx_pre_att = 'cl_efx_pre_att'\n",
    "cl_efx_prod = 'cl_efx_prod'\n",
    "\n",
    "# Formato\n",
    "format0 = 'yyyyMM'\n",
    "format1 = 'yyyy-MM'\n",
    "formatoHora = '%H:%M:%S'\n",
    "formatoFechaEstandar = '%Y%m%d'\n",
    "formatoFechaEstandar1 = '%Y-%m-%d'\n",
    "regexFecha = '^([0-9]{4}[-/]?((0[13-9]|1[012])[-/]?(0[1-9]|[12][0-9]|30)|(0[13578]|1[02])[-/]?31|02[-/]?(0[1-9]|1[0-9]|2[0-8]))|([0-9]{2}(([2468][048]|[02468][48])|[13579][26])|([13579][26]|[02468][048]|0[0-9]|1[0-6])00)[-/]?02[-/]?29)$'\n",
    "\n",
    "# Tabla\n",
    "tb_monedas_norm = 'monedas_norm'\n",
    "tb_consolidado_per = 'consolidado'\n",
    "tb_consolidado_emp = 'consolidado_empresa'\n",
    "tb_kpi = 'kpi_prod_ref'\n",
    "tb_consultas = 'consultas_bureau'\n",
    "tb_predictor = 'consolidado_scores'\n",
    "tb_hh_principal = 'hh_principal_hist'\n",
    "tb_score_pyme = 'consolidado_scores_emp'\n",
    "tb_personas_semanal = 'personas_semanal'"
   ]
  },
  {
   "cell_type": "markdown",
   "id": "sharing-trustee",
   "metadata": {},
   "source": [
    "## JOIN"
   ]
  },
  {
   "cell_type": "code",
   "execution_count": 18,
   "id": "functional-configuration",
   "metadata": {},
   "outputs": [
    {
     "data": {
      "application/vnd.jupyter.widget-view+json": {
       "model_id": "",
       "version_major": 2,
       "version_minor": 0
      },
      "text/plain": [
       "FloatProgress(value=0.0, bar_style='info', description='Progress:', layout=Layout(height='25px', width='50%'),…"
      ]
     },
     "metadata": {},
     "output_type": "display_data"
    }
   ],
   "source": [
    "df_1 = (df_cons_per.join(df_kpi, \"rut\" , how = 'left')\n",
    "                   .join(df_score, \"rut\" , how = 'left')\n",
    "                   .join(df_consultas, \"rut\" , how = 'left')\n",
    "                   .join(df_household, \"rut\" , how = 'left')\n",
    "                   .join(df_rubro_personas, \"rut\" , how = 'left')\n",
    "                   .crossJoin(df_score_pyme)\n",
    "       )"
   ]
  },
  {
   "cell_type": "markdown",
   "id": "divided-ceiling",
   "metadata": {},
   "source": [
    "## TRANSFORMACIONES\n"
   ]
  },
  {
   "cell_type": "code",
   "execution_count": 19,
   "id": "celtic-endorsement",
   "metadata": {
    "tags": []
   },
   "outputs": [
    {
     "data": {
      "application/vnd.jupyter.widget-view+json": {
       "model_id": "",
       "version_major": 2,
       "version_minor": 0
      },
      "text/plain": [
       "FloatProgress(value=0.0, bar_style='info', description='Progress:', layout=Layout(height='25px', width='50%'),…"
      ]
     },
     "metadata": {},
     "output_type": "display_data"
    }
   ],
   "source": [
    "df1 = transformaciones_score_movil_persona(df_1)\n",
    "df2 = transformaciones_score_fija_persona(df1)\n",
    "df3 = calculo_score_movil_persona(df2)\n",
    "df4 = calculo_score_fija_persona(df3)\n",
    "df5 = valores_por_defecto(df4)\n",
    "df = valores_menores_edad(df5)"
   ]
  },
  {
   "cell_type": "markdown",
   "id": "documentary-parks",
   "metadata": {},
   "source": [
    "## VER DATA FRAME"
   ]
  },
  {
   "cell_type": "code",
   "execution_count": 20,
   "id": "diagnostic-cherry",
   "metadata": {
    "collapsed": true,
    "jupyter": {
     "outputs_hidden": true
    },
    "tags": []
   },
   "outputs": [
    {
     "data": {
      "application/vnd.jupyter.widget-view+json": {
       "model_id": "",
       "version_major": 2,
       "version_minor": 0
      },
      "text/plain": [
       "FloatProgress(value=0.0, bar_style='info', description='Progress:', layout=Layout(height='25px', width='50%'),…"
      ]
     },
     "metadata": {},
     "output_type": "display_data"
    },
    {
     "name": "stdout",
     "output_type": "stream",
     "text": [
      "+--------------------+-----------+----------------+----------------+--------------+--------------------+----------------+---------------+----------------------+----------------+--------------------+-----------------+--------------------+----------------+--------------------+-----------+-------------------+----------------+---------------+----------------+------------+--------------------+----------------+-----------------+----------------+---------------+---------------+---------------+---------------+----------------+-------------------+-------------------+-------------------+-------------+--------------+--------------+-------------+-----------------+---------------------+------+----------+--------------+-------------+-----------+-----------+------------------+-------------+--------------+------------+----------------------+---------------+--------------------+---------------------+-------------------+-----------+-----------+---------+------------------+---------------------+------------------+-------------------+-----------------------+------------+----------------------------------+------------------+---------------------------+----------------+----------------------------+---------------------------------+--------------------------------+--------------------+-------------------+-----------------+--------------------+--------------+--------------------+---------+-----------------+----------------+--------+-----------+----------------+---------------+------------+------------------+------------+------+---------+------------+-------------------+--------+-----------+-------------+---------+-------------+-------------------+----------+-----------+----------------------+----------------+--------------------+----------+-------------------+--------------+------------+\n",
      "|                 rut|dic_edad_26|dic_est_civil_26|dic_tienefdef_26|DIC_VALORUF_00|       dic_nombre_00|dic_nroacreed_39|dic_fechnac2_26|dic_codigoactividad_26|dic_fec_const_23|       dic_region_18|dic_tot_clqveh_10|dic_cod_profesion_26|dic_rutctacte_06|dic_tipodomicilio_18|dic_sexo_26|dic_vehiculo_furgon|dic_vehiculo_aut|dic_tot_vehs_10|dic_dircomuna_18|dic_rubro_23|    dic_direccion_18|dic_dirciudad_18|dic_camionetas_10|dic_actividad_26|dic_fechvenc_02|dic_totcons3_38|dic_nrootros_02|dic_autos_sw_10|dic_totavaluo_32|dic_montototaluf_02|dic_montototaluf_12|dic_montototaluf_39|dic_totdoc_12|dic_totdocs_39|dic_totdocs_02|dic_rutneg_00|dic_rutneg_glo_00|kpi_tot_cons_telco_3m|ind_pj|ind_defunc|dic_cnt_tel_26|dic_ind_ae_23|kpi_ise_new|kpi_ise_efx|kpi_ind_interdicto|kpi_renta_efx|kpi_geo_clean2|kpi_ind_bank|kpi_cant_hijos_menores|kpi_vehi_avaluo|kpi_cantidad_tel_cel|kpi_cantidad_tel_fijo|kpi_antiguedad_vehi|kpi_redcode|kpi_fec_nac|kpi_rubro|kpi_ind_bed_socios|kpi_ind_bolcom_socios|kpi_empresa_activa|kpi_cantidad_socios|kpi_cantidad_trabajador|kpi_subrango|kpi_total_avaluo_vehi_hh_principal|kpi_porc_clean2_hh|kpi_renta_percapita_calc_hh|kpi_padres_abc12|kpi_renta_total_hh_principal|kpi_prom_avaluo_vehi_hh_principal|kpi_cant_familiares_hh_principal|kpi_cant_hh_es_lider|dic_predictorpub_06|dic_finiconrut_38|vehi_avaluo_total_hh|renta_total_hh|avaluo_bbrr_total_hh|clean2_hh|predictor1_max_hh|dic_rubro_23_piv|score_pm|dist_clean2|avaluo_vehi_hh_t|renta_percapita|cant_tel_cel|cant_hijos_menores|padres_abc12|   ise|edad_calc|cant_tel_fij|avaluo_vehi_hh_prom|renta_hh|cant_fam_hh|cant_hh_lider|renta_efx|cons_telco_3m| lineal_score_entel|score_real|score_movil|score_telefonica_movil|score_real_movil|score_ajustado_movil|score_fija|score_ajustado_fijo|limite_credito|kpi_redcode8|\n",
      "+--------------------+-----------+----------------+----------------+--------------+--------------------+----------------+---------------+----------------------+----------------+--------------------+-----------------+--------------------+----------------+--------------------+-----------+-------------------+----------------+---------------+----------------+------------+--------------------+----------------+-----------------+----------------+---------------+---------------+---------------+---------------+----------------+-------------------+-------------------+-------------------+-------------+--------------+--------------+-------------+-----------------+---------------------+------+----------+--------------+-------------+-----------+-----------+------------------+-------------+--------------+------------+----------------------+---------------+--------------------+---------------------+-------------------+-----------+-----------+---------+------------------+---------------------+------------------+-------------------+-----------------------+------------+----------------------------------+------------------+---------------------------+----------------+----------------------------+---------------------------------+--------------------------------+--------------------+-------------------+-----------------+--------------------+--------------+--------------------+---------+-----------------+----------------+--------+-----------+----------------+---------------+------------+------------------+------------+------+---------+------------+-------------------+--------+-----------+-------------+---------+-------------+-------------------+----------+-----------+----------------------+----------------+--------------------+----------+-------------------+--------------+------------+\n",
      "|++++q7UD1PCuDiep9...|         67|      DIVORCIADO|              NO|       32797.0|41GBgYpM6cTy00A4T...|               0|       19550806|                     2|        00000000|METROPOLITANA DE ...|                0|                   0|               0|                 N/A|          M|                  0|               0|              0|           NUNOA|            |tNx0YzkaBbOvVwXrM...|        SANTIAGO|                0|               2|       00000000|              0|              0|              0|            0.00|               0.00|               0.00|               0.00|            0|             0|             0|            1|                 |                    0|     0|         0|             0|            0|       null|           |                 N|            0|             1|           0|                     0|              0|                   0|                    0|                -99|       null|   19000101|     NULL|                 0|                    0|                 0|                  0|                      0|        NULL|                              null|              null|                       null|            null|                        null|                             null|                            null|                null|                  0|         00000000|                   0|             0|                   0|     1.00|                0|            null|   105.0|     -0.543|          -0.353|         -0.546|      -0.417|             0.135|      -0.189|-0.139|    0.102|      -0.186|             -0.342|  -0.378|     -0.087|       -0.448|    -0.58|        0.138|-1.0019030468260883|       268|        115|                    45|             115|                  45|        89|                 45|             0|        NULL|\n",
      "+--------------------+-----------+----------------+----------------+--------------+--------------------+----------------+---------------+----------------------+----------------+--------------------+-----------------+--------------------+----------------+--------------------+-----------+-------------------+----------------+---------------+----------------+------------+--------------------+----------------+-----------------+----------------+---------------+---------------+---------------+---------------+----------------+-------------------+-------------------+-------------------+-------------+--------------+--------------+-------------+-----------------+---------------------+------+----------+--------------+-------------+-----------+-----------+------------------+-------------+--------------+------------+----------------------+---------------+--------------------+---------------------+-------------------+-----------+-----------+---------+------------------+---------------------+------------------+-------------------+-----------------------+------------+----------------------------------+------------------+---------------------------+----------------+----------------------------+---------------------------------+--------------------------------+--------------------+-------------------+-----------------+--------------------+--------------+--------------------+---------+-----------------+----------------+--------+-----------+----------------+---------------+------------+------------------+------------+------+---------+------------+-------------------+--------+-----------+-------------+---------+-------------+-------------------+----------+-----------+----------------------+----------------+--------------------+----------+-------------------+--------------+------------+\n",
      "only showing top 1 row"
     ]
    }
   ],
   "source": [
    "df.show(1)"
   ]
  },
  {
   "cell_type": "markdown",
   "id": "streaming-developer",
   "metadata": {},
   "source": [
    "## ESCRIBIR DATOS"
   ]
  },
  {
   "cell_type": "code",
   "execution_count": 21,
   "id": "extreme-doctor",
   "metadata": {},
   "outputs": [
    {
     "data": {
      "application/vnd.jupyter.widget-view+json": {
       "model_id": "",
       "version_major": 2,
       "version_minor": 0
      },
      "text/plain": [
       "FloatProgress(value=0.0, bar_style='info', description='Progress:', layout=Layout(height='25px', width='50%'),…"
      ]
     },
     "metadata": {},
     "output_type": "display_data"
    }
   ],
   "source": [
    "df.coalesce(1).write.mode('overwrite').csv('gs://dfa-dna-ws0011-la-prd-sandbox/contingencia_telefonica_semanal/contingencia_telefonica_semanal')"
   ]
  }
 ],
 "metadata": {
  "kernelspec": {
   "display_name": "pyAME Spark",
   "language": "python",
   "name": "amepython"
  },
  "language_info": {
   "codemirror_mode": {
    "name": "ipython",
    "version": 3
   },
   "file_extension": ".py",
   "mimetype": "text/x-python",
   "name": "python",
   "nbconvert_exporter": "python",
   "pygments_lexer": "ipython3",
   "version": "3.8.8"
  }
 },
 "nbformat": 4,
 "nbformat_minor": 5
}
