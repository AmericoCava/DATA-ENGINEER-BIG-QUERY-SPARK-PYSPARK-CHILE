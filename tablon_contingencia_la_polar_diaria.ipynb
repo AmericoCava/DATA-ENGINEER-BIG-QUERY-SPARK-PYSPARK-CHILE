{
 "cells": [
  {
   "cell_type": "markdown",
   "id": "precious-instrument",
   "metadata": {},
   "source": [
    "## INICIALIZO EL CLUSTER PARA EJECUTAR SPARK"
   ]
  },
  {
   "cell_type": "code",
   "execution_count": 2,
   "id": "alternative-credits",
   "metadata": {},
   "outputs": [
    {
     "data": {
      "application/vnd.jupyter.widget-view+json": {
       "model_id": "",
       "version_major": 2,
       "version_minor": 0
      },
      "text/plain": [
       "FloatProgress(value=0.0, bar_style='info', description='Progress:', layout=Layout(height='25px', width='50%'),…"
      ]
     },
     "metadata": {},
     "output_type": "display_data"
    },
    {
     "name": "stdout",
     "output_type": "stream",
     "text": [
      "AME Started!\n",
      "Welcome to AME Version 3.3.9 (January 2022)\n",
      "\n",
      "SparkSession available as spark and AME available as api"
     ]
    },
    {
     "data": {
      "application/vnd.jupyter.widget-view+json": {
       "model_id": "",
       "version_major": 2,
       "version_minor": 0
      },
      "text/plain": [
       "FloatProgress(value=0.0, bar_style='info', description='Progress:', layout=Layout(height='25px', width='50%'),…"
      ]
     },
     "metadata": {},
     "output_type": "display_data"
    },
    {
     "name": "stdout",
     "output_type": "stream",
     "text": [
      "<pyspark.sql.session.SparkSession object at 0x7f2ff5e8ecf8>"
     ]
    }
   ],
   "source": [
    "spark"
   ]
  },
  {
   "cell_type": "markdown",
   "id": "double-affiliate",
   "metadata": {},
   "source": [
    "## IMPORT LAS LIBRERIAS"
   ]
  },
  {
   "cell_type": "code",
   "execution_count": 3,
   "id": "illegal-ancient",
   "metadata": {},
   "outputs": [
    {
     "data": {
      "application/vnd.jupyter.widget-view+json": {
       "model_id": "",
       "version_major": 2,
       "version_minor": 0
      },
      "text/plain": [
       "FloatProgress(value=0.0, bar_style='info', description='Progress:', layout=Layout(height='25px', width='50%'),…"
      ]
     },
     "metadata": {},
     "output_type": "display_data"
    }
   ],
   "source": [
    "from pyspark.sql.functions import count , col , lit, desc, when, exp , greatest , least , max , min , round"
   ]
  },
  {
   "cell_type": "markdown",
   "id": "overall-alberta",
   "metadata": {},
   "source": [
    "## FUNCION GENERICA"
   ]
  },
  {
   "cell_type": "code",
   "execution_count": 4,
   "id": "lightweight-consultancy",
   "metadata": {},
   "outputs": [
    {
     "data": {
      "application/vnd.jupyter.widget-view+json": {
       "model_id": "",
       "version_major": 2,
       "version_minor": 0
      },
      "text/plain": [
       "FloatProgress(value=0.0, bar_style='info', description='Progress:', layout=Layout(height='25px', width='50%'),…"
      ]
     },
     "metadata": {},
     "output_type": "display_data"
    }
   ],
   "source": [
    "def archive_date(table, date, partition_name):\n",
    "    archive = spark.read.format('bigquery').option('table', table).load().filter(\"ARCHIVE <= '{fecha} 00:00:00'\".format(fecha = date)).select(partition_name).distinct().sort(desc(partition_name)).take(1)\n",
    "    return archive[0].ARCHIVE"
   ]
  },
  {
   "cell_type": "markdown",
   "id": "collect-probability",
   "metadata": {},
   "source": [
    "## TRANSFORMACIONES"
   ]
  },
  {
   "cell_type": "code",
   "execution_count": 31,
   "id": "arranged-stranger",
   "metadata": {},
   "outputs": [
    {
     "data": {
      "application/vnd.jupyter.widget-view+json": {
       "model_id": "",
       "version_major": 2,
       "version_minor": 0
      },
      "text/plain": [
       "FloatProgress(value=0.0, bar_style='info', description='Progress:', layout=Layout(height='25px', width='50%'),…"
      ]
     },
     "metadata": {},
     "output_type": "display_data"
    }
   ],
   "source": [
    "def calculo_score(df_vars):\n",
    "\n",
    "  df_vars = df_vars.fillna(0, subset=['cant_vehic','ind_interd','ind_interd','vehi_avaluo','avaluo_ind','sumc'])\n",
    "  df_vars = df_vars.fillna('SIN CLASIFICACION', subset=['ise_equifax'])\n",
    "\n",
    "  df_vars = (df_vars.withColumn('ise_abc1' ,when(col('ise_equifax') == 'ABC1',lit(1)).otherwise(lit(0)))\n",
    "            .withColumn('ise_c2' ,when(col('ise_equifax') == 'C2',lit(1)).otherwise(lit(0)))\n",
    "            .withColumn('ise_c3' ,when(col('ise_equifax') == 'C3',lit(1)).otherwise(lit(0)))\n",
    "            .withColumn('ise_d' ,when(col('ise_equifax') == 'D',lit(1)).otherwise(lit(0)))\n",
    "            .withColumn('ise_e' ,when(col('ise_equifax') == 'E',lit(1)).otherwise(lit(0)))\n",
    "            .withColumn('profesion_ind' ,when(~col('codigo_prof').isin([0, 24]),lit(1)).otherwise(lit(0)))\n",
    "            .withColumn('actividad_ind' ,when(~col('codigo_acti').isin([0, 24]),lit(1)).otherwise(lit(0)))\n",
    "            .withColumn('sumc' ,when(col('sumc') <= 1,lit(0)).when(col('sumc') <= 2,lit(1)).otherwise(lit(2)))\n",
    "            .withColumn('region_n_01' ,when(col('region') == 'DE TARAPACA',lit(1)).otherwise(lit(0)))\n",
    "            .withColumn('region_n_02' ,when(col('region') == 'DE ANTOFAGASTA',lit(1)).otherwise(lit(0)))\n",
    "            .withColumn('region_n_03' ,when(col('region') == 'DE ATACAMA',lit(1)).otherwise(lit(0)))\n",
    "            .withColumn('region_n_04' ,when(col('region') == 'DE COQUIMBO',lit(1)).otherwise(lit(0)))\n",
    "            .withColumn('region_n_05' ,when(col('region') == 'DE VALPARAISO',lit(1)).otherwise(lit(0)))\n",
    "            .withColumn('region_n_06' ,when(col('region') == 'DEL LIBERTADOR BERNARDO OHIGGINS',lit(1)).otherwise(lit(0)))\n",
    "            .withColumn('region_n_07' ,when(col('region') == 'DEL MAULE',lit(1)).otherwise(lit(0)))\n",
    "            .withColumn('region_n_08' ,when((col('region') == 'DEL BIO BIO') | (col('region') == 'DE NUBLE'),lit(1)).otherwise(lit(0)))\n",
    "            .withColumn('region_n_09' ,when(col('region') == 'DE LA ARAUCANIA',lit(1)).otherwise(lit(0)))\n",
    "            .withColumn('region_n_10' ,when(col('region') == 'DE LOS LAGOS',lit(1)).otherwise(lit(0)))\n",
    "            .withColumn('region_n_11' ,when(col('region') == 'AYSEN DEL GENERAL CARLOS IBANEZ',lit(1)).otherwise(lit(0)))\n",
    "            .withColumn('region_n_12' ,when(col('region') == 'DE MAGALLANES Y ANTARTICA CHILENA',lit(1)).otherwise(lit(0)))\n",
    "            .withColumn('region_n_14' ,when(col('region') == 'DE ARICA y PARINACOTA',lit(1)).otherwise(lit(0)))\n",
    "            .withColumn('region_n_15' ,when(col('region') == 'DE LOS RIOS',lit(1)).otherwise(lit(0)))\n",
    "            .withColumn('region_n_RM' ,when(col('region') == 'METROPOLITANA DE SANTIAGO',lit(1)).otherwise(lit(0)))\n",
    "            .withColumn('sexo_ind_f' ,when(col('sexo') == 'F',lit(1)).otherwise(lit(0)))\n",
    "        )\n",
    "\n",
    "  df_vars = (df_vars.withColumn('lineal_naf', -1.1755378016 + \n",
    "                                -0.3422733619 * col('sumc') + \n",
    "                                0.0189694125 * col('edad_calc') + \n",
    "                                0.4961972439 * col('ise_abc1') + \n",
    "                                0.6372084443 * col('ise_c2') + \n",
    "                                0.5321028263 * col('ise_c3') + \n",
    "                                0.2146062278 * col('ise_d') + \n",
    "                                0.0047105015 * col('ise_e') + \n",
    "                                0.7866098098 * col('clean2') + \n",
    "                                0.1941353042 * col('cant_vehic') + \n",
    "                                0.314980126 * col('sexo_ind_f') + \n",
    "                                -0.5345812623 * col('region_n_01') + \n",
    "                                -0.5518579373 * col('region_n_02') + \n",
    "                                -0.2392643935 * col('region_n_03') + \n",
    "                                0.2152253495 * col('region_n_04') + \n",
    "                                -0.1008099624 * col('region_n_05') + \n",
    "                                -0.2066496633 * col('region_n_06') + \n",
    "                                -0.1484280563 * col('region_n_07') + \n",
    "                                -0.0978616588 * col('region_n_08') + \n",
    "                                -0.1066844698 * col('region_n_09') + \n",
    "                                -0.2438581604 * col('region_n_10') + \n",
    "                                -0.9763161933 * col('region_n_11') + \n",
    "                                0.0963783118 * col('region_n_12') + \n",
    "                                -0.4401210306 * col('region_n_14') +\n",
    "                                -0.1183049138 * col('region_n_15') +\n",
    "                                -0.3276522064 * col('region_n_RM') +\n",
    "                                0.2008862997 * col('avaluo_ind') +\n",
    "                                0.241655416 * col('profesion_ind') + \n",
    "                                0.1026000436 * col('actividad_ind') +\n",
    "                                0.88)\n",
    "            )\n",
    "\n",
    "  df_vars = (df_vars.withColumn('score_lp' , least(greatest(round(1000 / (1 + exp(-col('lineal_naf')))),lit(1)),lit(999)))\n",
    "                    .withColumn('score_lp' , when((col('ind_defunc') == 1) | (col('ind_interd') == 1) | (col('edad_calc') < 18) , lit(0)).otherwise(col('score_lp')))\n",
    "        )\n",
    "\n",
    "  return df_vars"
   ]
  },
  {
   "cell_type": "markdown",
   "id": "second-numbers",
   "metadata": {},
   "source": [
    "## LLAMAR TABLAS PARA UTILIZAR"
   ]
  },
  {
   "cell_type": "code",
   "execution_count": 32,
   "id": "dried-prophet",
   "metadata": {},
   "outputs": [
    {
     "data": {
      "application/vnd.jupyter.widget-view+json": {
       "model_id": "",
       "version_major": 2,
       "version_minor": 0
      },
      "text/plain": [
       "FloatProgress(value=0.0, bar_style='info', description='Progress:', layout=Layout(height='25px', width='50%'),…"
      ]
     },
     "metadata": {},
     "output_type": "display_data"
    }
   ],
   "source": [
    "#CONSOLIDADO\n",
    "\n",
    "archive_consolidado = archive_date(\"dfa-dna-ws0011-la-prd-f758.dfa_dna_ws0011_la_prd_sandbox.consolidado_la_prd\", '2022-05-30' , 'ARCHIVE')\n",
    "consolidado_data = spark.read.format(\"bigquery\").option(\"table\", \"dfa-dna-ws0011-la-prd-f758.dfa_dna_ws0011_la_prd_sandbox.consolidado_la_prd\").load().filter(\"ARCHIVE = '{fecha}'\".format(fecha = archive_consolidado))\n",
    "consolidado_data.createOrReplaceTempView(\"consolidado\")\n",
    "\n",
    "query_consolidado = \"\"\"\n",
    "     SELECT rut_creado as rut\n",
    "            ,1 as ind_consolidado\n",
    "            ,coalesce(edad_calc, 0) as edad_calc\n",
    "            ,coalesce(consultas_3m, 0) as sumc\n",
    "            ,clean2 \n",
    "            ,sexo\n",
    "            ,fnac_26\n",
    "            ,ind_interd\n",
    "            ,ind_defunc\n",
    "            ,ise_equifax\n",
    "            ,region\n",
    "            ,cast(codigo_acti as int) as codigo_acti\n",
    "            ,cast(codigo_prof as int) as codigo_prof\n",
    "            ,vehi_avaluo\n",
    "            ,cant_vehic\n",
    "            ,avaluo_tas_ind as avaluo_ind\n",
    "            ,Null as Prueba \n",
    "     FROM consolidado\n",
    "\"\"\"\n",
    "\n",
    "df_consolidado = spark.sql(query_consolidado)"
   ]
  },
  {
   "cell_type": "code",
   "execution_count": 33,
   "id": "olive-breach",
   "metadata": {},
   "outputs": [
    {
     "data": {
      "application/vnd.jupyter.widget-view+json": {
       "model_id": "",
       "version_major": 2,
       "version_minor": 0
      },
      "text/plain": [
       "FloatProgress(value=0.0, bar_style='info', description='Progress:', layout=Layout(height='25px', width='50%'),…"
      ]
     },
     "metadata": {},
     "output_type": "display_data"
    },
    {
     "name": "stdout",
     "output_type": "stream",
     "text": [
      "+---+---------------+---------+----+------+----+----------+----------+----------+-----------------+--------------------+-----------+-----------+-----------+----------+----------+------+\n",
      "|rut|ind_consolidado|edad_calc|sumc|clean2|sexo|   fnac_26|ind_interd|ind_defunc|      ise_equifax|              region|codigo_acti|codigo_prof|vehi_avaluo|cant_vehic|avaluo_ind|Prueba|\n",
      "+---+---------------+---------+----+------+----+----------+----------+----------+-----------------+--------------------+-----------+-----------+-----------+----------+----------+------+\n",
      "|  1|              1|       66|   0|     1|   M|1955-08-06|         0|         0|                D|METROPOLITANA DE ...|          2|          0|          0|         0|         0|  null|\n",
      "|  2|              1|       32|   0|     1|   M|1989-09-09|         0|         0|               C3|METROPOLITANA DE ...|          0|          0|          0|         0|         0|  null|\n",
      "|  3|              1|       50|   0|     0|   M|1971-07-05|         0|         0|                E|METROPOLITANA DE ...|          0|          0|   13380000|         2|         1|  null|\n",
      "|  4|              1|       56|   0|     1|   F|1965-07-01|         0|         0|                D|         DE TARAPACA|          0|          0|          0|         0|         0|  null|\n",
      "|  5|              1|       75|   0|     1|   M|1937-01-02|         0|         1|SIN CLASIFICACION|METROPOLITANA DE ...|         17|          0|          0|         0|         0|  null|\n",
      "|  6|              1|       16|   0|     1|   F|2005-09-25|         0|         0|SIN CLASIFICACION|                null|          0|          0|          0|         0|         0|  null|\n",
      "|  7|              1|       31|   3|     1|   M|1990-07-26|         0|         0|                D|         DE TARAPACA|          0|          0|          0|         0|         0|  null|\n",
      "|  8|              1|       63|   0|     1|   M|1939-09-16|         0|         1|SIN CLASIFICACION|       DE VALPARAISO|        101|          0|          0|         0|         0|  null|\n",
      "|  9|              1|       10|   0|     1|   F|2011-08-02|         0|         0|SIN CLASIFICACION|                null|          0|          0|          0|         0|         0|  null|\n",
      "| 10|              1|       46|   0|     1|   M|1975-10-23|         0|         0|                E|       DE VALPARAISO|          0|          0|   14640000|         1|         0|  null|\n",
      "+---+---------------+---------+----+------+----+----------+----------+----------+-----------------+--------------------+-----------+-----------+-----------+----------+----------+------+\n",
      "only showing top 10 rows"
     ]
    }
   ],
   "source": [
    "df_consolidado.show(10)"
   ]
  },
  {
   "cell_type": "markdown",
   "id": "northern-mills",
   "metadata": {},
   "source": [
    "## INFORMACION CONFIGURE"
   ]
  },
  {
   "cell_type": "code",
   "execution_count": 34,
   "id": "velvet-median",
   "metadata": {},
   "outputs": [
    {
     "data": {
      "application/vnd.jupyter.widget-view+json": {
       "model_id": "",
       "version_major": 2,
       "version_minor": 0
      },
      "text/plain": [
       "FloatProgress(value=0.0, bar_style='info', description='Progress:', layout=Layout(height='25px', width='50%'),…"
      ]
     },
     "metadata": {},
     "output_type": "display_data"
    }
   ],
   "source": [
    "# ORIGIN DB AND TABLE NAMES\n",
    "cl_efx_att = 'cl_efx_att'\n",
    "cl_efx_prod = 'cl_efx_prod'\n",
    "tb_relaciones_familiares = 'relaciones_familiares'\n",
    "tb_consolidado = 'consolidado'\n",
    "tb_consolidado_empresa = 'consolidado_empresa'\n",
    "tb_personas_semanal = 'personas_semanal'\n",
    "tb_empresas_semanal = 'empresas_semanal'\n",
    "tb_hh_principal_hist = 'hh_principal_hist'"
   ]
  },
  {
   "cell_type": "markdown",
   "id": "divine-rainbow",
   "metadata": {},
   "source": [
    "## CRUCE DE INFORMACION"
   ]
  },
  {
   "cell_type": "code",
   "execution_count": 35,
   "id": "moral-sherman",
   "metadata": {},
   "outputs": [
    {
     "data": {
      "application/vnd.jupyter.widget-view+json": {
       "model_id": "",
       "version_major": 2,
       "version_minor": 0
      },
      "text/plain": [
       "FloatProgress(value=0.0, bar_style='info', description='Progress:', layout=Layout(height='25px', width='50%'),…"
      ]
     },
     "metadata": {},
     "output_type": "display_data"
    }
   ],
   "source": [
    "df = calculo_score(df_consolidado)"
   ]
  },
  {
   "cell_type": "code",
   "execution_count": 37,
   "id": "interested-context",
   "metadata": {},
   "outputs": [
    {
     "data": {
      "application/vnd.jupyter.widget-view+json": {
       "model_id": "",
       "version_major": 2,
       "version_minor": 0
      },
      "text/plain": [
       "FloatProgress(value=0.0, bar_style='info', description='Progress:', layout=Layout(height='25px', width='50%'),…"
      ]
     },
     "metadata": {},
     "output_type": "display_data"
    }
   ],
   "source": [
    "from pyspark.sql.types import NullType\n",
    "import pyspark.sql.functions as F\n",
    "\n",
    "# Check each column type. If it's nulltype, cast to string type,\n",
    "# else keep the original column.\n",
    "\n",
    "df2 = df.select([\n",
    "    F.lit(None).cast('string').alias(i.name)\n",
    "    if isinstance(i.dataType, NullType)\n",
    "    else i.name\n",
    "    for i in df.schema\n",
    "])"
   ]
  },
  {
   "cell_type": "markdown",
   "id": "serious-miracle",
   "metadata": {},
   "source": [
    "## ESCRIBIR DATOS"
   ]
  },
  {
   "cell_type": "code",
   "execution_count": 39,
   "id": "split-executive",
   "metadata": {},
   "outputs": [
    {
     "data": {
      "application/vnd.jupyter.widget-view+json": {
       "model_id": "",
       "version_major": 2,
       "version_minor": 0
      },
      "text/plain": [
       "FloatProgress(value=0.0, bar_style='info', description='Progress:', layout=Layout(height='25px', width='50%'),…"
      ]
     },
     "metadata": {},
     "output_type": "display_data"
    }
   ],
   "source": [
    "df2.coalesce(1).write.mode('overwrite').csv('gs://dfa-dna-ws0011-la-prd-sandbox/contingencia_la_polar_diaria/contingencia_la_polar_diaria')"
   ]
  }
 ],
 "metadata": {
  "kernelspec": {
   "display_name": "pyAME Spark",
   "language": "python",
   "name": "amepython"
  },
  "language_info": {
   "codemirror_mode": {
    "name": "ipython",
    "version": 3
   },
   "file_extension": ".py",
   "mimetype": "text/x-python",
   "name": "python",
   "nbconvert_exporter": "python",
   "pygments_lexer": "ipython3",
   "version": "3.8.8"
  }
 },
 "nbformat": 4,
 "nbformat_minor": 5
}
