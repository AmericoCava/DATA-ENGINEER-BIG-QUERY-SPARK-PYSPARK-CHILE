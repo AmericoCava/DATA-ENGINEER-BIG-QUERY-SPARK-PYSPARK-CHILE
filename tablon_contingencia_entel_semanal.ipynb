{
 "cells": [
  {
   "cell_type": "markdown",
   "id": "hollow-constraint",
   "metadata": {},
   "source": [
    "## INICIALIZO EL CLUSTER PARA EJECUTAR SPARK"
   ]
  },
  {
   "cell_type": "code",
   "execution_count": 2,
   "id": "colonial-hughes",
   "metadata": {},
   "outputs": [
    {
     "data": {
      "application/vnd.jupyter.widget-view+json": {
       "model_id": "",
       "version_major": 2,
       "version_minor": 0
      },
      "text/plain": [
       "FloatProgress(value=0.0, bar_style='info', description='Progress:', layout=Layout(height='25px', width='50%'),…"
      ]
     },
     "metadata": {},
     "output_type": "display_data"
    },
    {
     "name": "stdout",
     "output_type": "stream",
     "text": [
      "AME Started!\n",
      "Welcome to AME Version 3.3.9 (January 2022)\n",
      "\n",
      "SparkSession available as spark and AME available as api"
     ]
    },
    {
     "data": {
      "application/vnd.jupyter.widget-view+json": {
       "model_id": "",
       "version_major": 2,
       "version_minor": 0
      },
      "text/plain": [
       "FloatProgress(value=0.0, bar_style='info', description='Progress:', layout=Layout(height='25px', width='50%'),…"
      ]
     },
     "metadata": {},
     "output_type": "display_data"
    },
    {
     "name": "stdout",
     "output_type": "stream",
     "text": [
      "<pyspark.sql.session.SparkSession object at 0x7f80c172fcf8>"
     ]
    }
   ],
   "source": [
    "spark"
   ]
  },
  {
   "cell_type": "markdown",
   "id": "obvious-ending",
   "metadata": {},
   "source": [
    "## IMPORT LAS LIBRERIAS"
   ]
  },
  {
   "cell_type": "code",
   "execution_count": 3,
   "id": "inside-translator",
   "metadata": {},
   "outputs": [
    {
     "data": {
      "application/vnd.jupyter.widget-view+json": {
       "model_id": "",
       "version_major": 2,
       "version_minor": 0
      },
      "text/plain": [
       "FloatProgress(value=0.0, bar_style='info', description='Progress:', layout=Layout(height='25px', width='50%'),…"
      ]
     },
     "metadata": {},
     "output_type": "display_data"
    }
   ],
   "source": [
    "from pyspark.sql.functions import count , col , lit, desc, when, exp , greatest , least , max , min , round"
   ]
  },
  {
   "cell_type": "markdown",
   "id": "decimal-failing",
   "metadata": {},
   "source": [
    "## FUNCION GENERICA"
   ]
  },
  {
   "cell_type": "code",
   "execution_count": 4,
   "id": "electric-solomon",
   "metadata": {},
   "outputs": [
    {
     "data": {
      "application/vnd.jupyter.widget-view+json": {
       "model_id": "",
       "version_major": 2,
       "version_minor": 0
      },
      "text/plain": [
       "FloatProgress(value=0.0, bar_style='info', description='Progress:', layout=Layout(height='25px', width='50%'),…"
      ]
     },
     "metadata": {},
     "output_type": "display_data"
    }
   ],
   "source": [
    "def archive_date(table, date, partition_name):\n",
    "    archive = spark.read.format('bigquery').option('table', table).load().filter(\"ARCHIVE <= '{fecha} 00:00:00'\".format(fecha = date)).select(partition_name).distinct().sort(desc(partition_name)).take(1)\n",
    "    return archive[0].ARCHIVE"
   ]
  },
  {
   "cell_type": "markdown",
   "id": "august-carrier",
   "metadata": {},
   "source": [
    "## LINEAL"
   ]
  },
  {
   "cell_type": "code",
   "execution_count": 5,
   "id": "sublime-gospel",
   "metadata": {
    "tags": []
   },
   "outputs": [
    {
     "data": {
      "application/vnd.jupyter.widget-view+json": {
       "model_id": "",
       "version_major": 2,
       "version_minor": 0
      },
      "text/plain": [
       "FloatProgress(value=0.0, bar_style='info', description='Progress:', layout=Layout(height='25px', width='50%'),…"
      ]
     },
     "metadata": {},
     "output_type": "display_data"
    }
   ],
   "source": [
    "lineal_score_entel = {\n",
    "\"cant_consultas\":+0.001926,\n",
    "\"subrango\":-0.002686,\n",
    "\"numero_trabajadores\":-0.0002429,\n",
    "\"cant_socios\":+0.03367,\n",
    "\"ind_bed_socios\":+1.056,\n",
    "\"ind_bolcom_socios\":+1.008,\n",
    "\"cant_vehic\":+0.001573,\n",
    "\"avaluo_uf2\":-0.0000007575,\n",
    "\"region_ind_rm\":-0.1645,\n",
    "\"cantidad_infraccion\":-0.00007399,\n",
    "\"deuda_uf_infraccion\":-0.00008137,\n",
    "\"cantidad_multa\":-0.004963,\n",
    "\"deuda_uf_multa\":-0.0003945,\n",
    "\"deuda_telco_uf\":+0.00002282,\n",
    "\"score_empresa_telefnc_tile10\":-0.1415,\n",
    "\"beta0\":+0.5197,\n",
    "}"
   ]
  },
  {
   "cell_type": "markdown",
   "id": "current-garden",
   "metadata": {},
   "source": [
    "## TRANSFORMACIONES"
   ]
  },
  {
   "cell_type": "code",
   "execution_count": 38,
   "id": "lovely-example",
   "metadata": {},
   "outputs": [
    {
     "data": {
      "application/vnd.jupyter.widget-view+json": {
       "model_id": "",
       "version_major": 2,
       "version_minor": 0
      },
      "text/plain": [
       "FloatProgress(value=0.0, bar_style='info', description='Progress:', layout=Layout(height='25px', width='50%'),…"
      ]
     },
     "metadata": {},
     "output_type": "display_data"
    }
   ],
   "source": [
    "import sys\n",
    "sys.path.append('..')\n",
    "from pyspark.sql.types import FloatType, IntegerType, StringType, LongType, DateType, ArrayType , DecimalType\n",
    "from pyspark.sql.functions import to_json, struct, collect_list , round, greatest, least, substring, coalesce , udf, monotonically_increasing_id, date_add, datediff, to_date, lit, when, floor, regexp_replace, from_unixtime, unix_timestamp, add_months, col, first, last, sum, min, max, avg, count, round, months_between, countDistinct, asc, desc, row_number, year, month, trim, concat, length, exp , log\n",
    "from datetime import datetime\n",
    "from pyspark.sql.window import Window\n",
    "\n",
    "def rubros(df_act_princ, df_act_sii, df_cons_per , df_rubro):\n",
    "\n",
    "\tdf_act_sii = df_act_sii.withColumn(\"row_num\", row_number().over(Window.partitionBy(\"rut\").orderBy(desc(\"cod_acteco\") , desc(\"fecha_carga\"), desc(\"fecha_inicio_acteco\")))).filter((col(\"row_num\") == 1)).drop('row_num')\n",
    "\tdf_act_princ = df_act_princ.withColumn(\"row_num\", row_number().over(Window.partitionBy(\"rut\").orderBy(desc(\"fecha_inicio_de_actividades\") , desc(\"cod_act\")))).filter((col(\"row_num\") == 1)).drop('row_num')\n",
    "\n",
    "\tdf_cons = df_cons_per.join(df_act_princ, on ='rut' , how='left')\n",
    "\tdf_cons = (df_cons.join(df_act_sii, on ='rut' , how='left')\n",
    "            .withColumn('fecha_inicio_de_actividades', when(col('fecha_inicio_de_actividades').isNull(), col('fecha_inicio_acteco')).otherwise(col('fecha_inicio_de_actividades')))\n",
    "            .withColumn('cod_act', when(col('cod_act').isNull(), col('cod_acteco')).otherwise(col('cod_act')))\n",
    "            .withColumn('actividad_principal', when(col('actividad_principal').isNull(), col('desc_acteco')).otherwise(col('actividad_principal')))\n",
    "        )\n",
    "\tdf_cons = (df_cons.join(df_rubro, on = df_cons.cod_act.astype(IntegerType()) == df_rubro.codigo_de_actividad.astype(IntegerType()), how='left').filter(col('cod_act').isNotNull()).drop('codigo_de_actividad')\n",
    "            .withColumn('actividad_principal', when(col('actividad_principal').isNull(), col('descripcion')).otherwise(col('actividad_principal')))\n",
    "        )\n",
    "\n",
    "\t#df_cons = df_cons.withColumnRenamed('cod_act' , 'codigo_de_actividad')\n",
    "\tdf_cons = df_cons.selectExpr('rut', 'actividad_principal as economicactivitydescription').dropDuplicates()\n",
    "  \n",
    "\treturn df_cons\n",
    "\n",
    "def calculo_tablon_contingencia(df_cons_per, df_cons_emp, df_file_neg, df_base_entel, df_uf, df_hh, df_contactabilidad, df_pers_sem, df_sociedades, df_vehiculos, df_bancos, df_docs_trib, df_dir, df_act_princ, df_act_sii, df_rubro):\n",
    "\n",
    "\tdf_cons = df_cons_per.union(df_cons_emp)\n",
    "\tdf_rub = rubros(df_act_princ, df_act_sii, df_cons.selectExpr('rut') , df_rubro)\n",
    "\n",
    "\tdf = (df_cons.join(df_file_neg, on='rut', how='left')\n",
    "               .join(df_base_entel, on='rut', how='left')\n",
    "               .join(df_hh, on='rut', how='left')\n",
    "               .join(df_contactabilidad, on='rut', how='left')\n",
    "               .join(df_pers_sem, on='rut', how='left')\n",
    "               .join(df_sociedades, on='rut', how='left')\n",
    "               .join(df_vehiculos, on='rut', how='left')\n",
    "               .join(df_bancos, on='rut', how='left')\n",
    "               .join(df_docs_trib, on='rut', how='left')\n",
    "               .join(df_dir, on='rut', how='left')\n",
    "               .join(df_rub, on='rut', how='left')\n",
    "               .crossJoin(df_uf)\n",
    "      )\n",
    "\n",
    "\treturn df\n",
    "\n",
    "def variables_por_defecto(df):\n",
    "\n",
    "\tdf = df.fillna(0, subset=['deathDate','kpi_renta_02','kpi_rangtrab_01','kpi_segfac_01','predictor1_min_hh','predictor1_prom_hh','predictor1_max_hh','renta_total_hh','renta_total_lider_hh','age','interdictflag','numberofproperties','totalpropertiesvalue','countrelationshipspartner','countrelationshipssociety','observacionestributariasnumber','totalnumbercars','totalnumberheavycars','totalnumberlightcars','totalnumberothercars','addresscount','totalbank','propertiescount'])\n",
    "\tdf = df.fillna('', subset=['maritalStatus','rutverification','direlongitud','direlatitud','redcode','gse','lastemail','flagidentityverification','gender','name','namefull','nationality','nationalitytype','categorysii','economicactivitydescription','lasttaxperiod','lasttaxperiodnumber','rubro','startsiidate','cartaxvaluation','comercialvaluationcar'])\n",
    "\tdf = df.fillna('0.00000', subset=['gastomovilhogar','gastoteleffijohogar','gastointernet','gastopacktelco','gastobam'])\n",
    "\tdf = df.fillna(1, subset=['clean2_hh'])\n",
    "\tdf = df.fillna('19000101', subset=['dateofbirth'])\n",
    "\tdf = df.fillna('X', subset=['kpi_segsii_01'])\n",
    "\tdf = df.fillna(150000, subset=['kpi_renta_01'])\n",
    "\tdf = df.fillna('SC', subset=['kpi_ise_01'])\n",
    "\tdf = df.fillna('N', subset=['kpi_pquiebra_01','kpi_pension_01','kpi_eclean_01','kpi_fonasa_01'])\n",
    "\tdf = df.fillna('SA', subset=['kpi_actcomercial_01'])\n",
    "\tdf = df.fillna('NO', subset=['flagdeath'])\n",
    "\tdf = df.fillna('0,X,0,150000,SC,N,N,0,N,N,SA,1', subset=['dic_rutneg_glo_00'])\n",
    "    \n",
    "\n",
    "\treturn df\n",
    "\n",
    "\n",
    "def menores_edad_ko(df):\n",
    "\tdf = (df.withColumn('kpi_renta_02', when((col('age') < 18) & (col('ind_pj') == 0) , lit(0)).otherwise(col('kpi_renta_02')))\n",
    "\t\t\t.withColumn('kpi_rangtrab_01', when((col('age') < 18) & (col('ind_pj') == 0) , lit(0)).otherwise(col('kpi_rangtrab_01')))\n",
    "\t\t\t.withColumn('kpi_segfac_01', when((col('age') < 18) & (col('ind_pj') == 0) , lit(0)).otherwise(col('kpi_segfac_01')))\n",
    "\t\t\t.withColumn('predictor1_min_hh', when((col('age') < 18) & (col('ind_pj') == 0) , lit(0)).otherwise(col('predictor1_min_hh')))\n",
    "\t\t\t.withColumn('predictor1_prom_hh', when((col('age') < 18) & (col('ind_pj') == 0) , lit(0)).otherwise(col('predictor1_prom_hh')))\n",
    "\t\t\t.withColumn('predictor1_max_hh', when((col('age') < 18) & (col('ind_pj') == 0) , lit(0)).otherwise(col('predictor1_max_hh')))\n",
    "\t\t\t.withColumn('renta_total_hh', when((col('age') < 18) & (col('ind_pj') == 0) , lit(0)).otherwise(col('renta_total_hh')))\n",
    "\t\t\t.withColumn('renta_total_lider_hh', when((col('age') < 18) & (col('ind_pj') == 0) , lit(0)).otherwise(col('renta_total_lider_hh')))\n",
    "\t\t\t.withColumn('age', when((col('age') < 18) & (col('ind_pj') == 0) , lit(0)).otherwise(col('age')))\n",
    "\t\t\t.withColumn('flagdeath', when((col('age') < 18) & (col('ind_pj') == 0) , lit('NO')).otherwise(col('flagdeath')))\n",
    "\t\t\t.withColumn('interdictflag', when((col('age') < 18) & (col('ind_pj') == 0) , lit(0)).otherwise(col('interdictflag')))\n",
    "\t\t\t.withColumn('numberofproperties', when((col('age') < 18) & (col('ind_pj') == 0) , lit(0)).otherwise(col('numberofproperties')))\n",
    "\t\t\t.withColumn('totalpropertiesvalue', when((col('age') < 18) & (col('ind_pj') == 0) , lit(0)).otherwise(col('totalpropertiesvalue')))\n",
    "\t\t\t.withColumn('countrelationshipspartner', when((col('age') < 18) & (col('ind_pj') == 0) , lit(0)).otherwise(col('countrelationshipspartner')))\n",
    "\t\t\t.withColumn('countrelationshipssociety', when((col('age') < 18) & (col('ind_pj') == 0) , lit(0)).otherwise(col('countrelationshipssociety')))\n",
    "\t\t\t.withColumn('observacionestributariasnumber', when((col('age') < 18) & (col('ind_pj') == 0) , lit(0)).otherwise(col('observacionestributariasnumber')))\n",
    "\t\t\t.withColumn('totalnumbercars', when((col('age') < 18) & (col('ind_pj') == 0) , lit(0)).otherwise(col('totalnumbercars')))\n",
    "\t\t\t.withColumn('totalnumberheavycars', when((col('age') < 18) & (col('ind_pj') == 0) , lit(0)).otherwise(col('totalnumberheavycars')))\n",
    "\t\t\t.withColumn('totalnumberlightcars', when((col('age') < 18) & (col('ind_pj') == 0) , lit(0)).otherwise(col('totalnumberlightcars')))\n",
    "\t\t\t.withColumn('totalnumberothercars', when((col('age') < 18) & (col('ind_pj') == 0) , lit(0)).otherwise(col('totalnumberothercars')))\n",
    "\t\t\t.withColumn('addresscount', when((col('age') < 18) & (col('ind_pj') == 0) , lit(0)).otherwise(col('addresscount')))\n",
    "\t\t\t.withColumn('totalbank', when((col('age') < 18) & (col('ind_pj') == 0) , lit(0)).otherwise(col('totalbank')))\n",
    "\t\t\t.withColumn('propertiescount', when((col('age') < 18) & (col('ind_pj') == 0) , lit(0)).otherwise(col('propertiescount')))\n",
    "\t\t\t.withColumn('maritalStatus', when((col('age') < 18) & (col('ind_pj') == 0), lit('')).otherwise(col('maritalStatus')))\n",
    "\t\t\t.withColumn('rutverification', when((col('ind_pj') == 1), lit('0')).otherwise(col('rutverification')))\n",
    "\t\t\t.withColumn('rutverification', when((col('age') < 18) & (col('ind_pj') == 0), lit('')).otherwise(col('rutverification')))\n",
    "\t\t\t.withColumn('direlongitud', when((col('age') < 18) & (col('ind_pj') == 0), lit('')).otherwise(col('direlongitud')))\n",
    "\t\t\t.withColumn('direlatitud', when((col('age') < 18) & (col('ind_pj') == 0), lit('')).otherwise(col('direlatitud')))\n",
    "\t\t\t.withColumn('redcode', when((col('age') < 18) & (col('ind_pj') == 0), lit('')).otherwise(col('redcode')))\n",
    "\t\t\t.withColumn('gse', when((col('age') < 18) & (col('ind_pj') == 0), lit('')).otherwise(col('gse')))\n",
    "\t\t\t.withColumn('lastemail', when((col('age') < 18) & (col('ind_pj') == 0), lit('')).otherwise(col('lastemail')))\n",
    "\t\t\t.withColumn('flagidentityverification', when((col('age') < 18) & (col('ind_pj') == 0), lit('')).otherwise(col('flagidentityverification')))\n",
    "\t\t\t.withColumn('gender', when((col('age') < 18) & (col('ind_pj') == 0), lit('')).otherwise(col('gender')))\n",
    "\t\t\t.withColumn('name', when((col('age') < 18) & (col('ind_pj') == 0), lit('')).otherwise(col('name')))\n",
    "\t\t\t.withColumn('namefull', when((col('age') < 18) & (col('ind_pj') == 0), lit('')).otherwise(col('namefull')))\n",
    "\t\t\t.withColumn('nationality', when((col('age') < 18) & (col('ind_pj') == 0), lit('')).otherwise(col('nationality')))\n",
    "\t\t\t.withColumn('nationalitytype', when((col('age') < 18) & (col('ind_pj') == 0), lit('')).otherwise(col('nationalitytype')))\n",
    "\t\t\t.withColumn('categorysii', when((col('age') < 18) & (col('ind_pj') == 0), lit('')).otherwise(col('categorysii')))\n",
    "\t\t\t.withColumn('economicactivitydescription', when((col('age') < 18) & (col('ind_pj') == 0), lit('')).otherwise(col('economicactivitydescription')))\n",
    "\t\t\t.withColumn('lasttaxperiod', when((col('age') < 18) & (col('ind_pj') == 0), lit('')).otherwise(col('lasttaxperiod')))\n",
    "\t\t\t.withColumn('lasttaxperiodnumber', when((col('age') < 18) & (col('ind_pj') == 0), lit('')).otherwise(col('lasttaxperiodnumber')))\n",
    "\t\t\t.withColumn('rubro', when((col('age') < 18) & (col('ind_pj') == 0), lit('')).otherwise(col('rubro')))\n",
    "\t\t\t.withColumn('startsiidate', when((col('age') < 18) & (col('ind_pj') == 0), lit('')).otherwise(col('startsiidate')))\n",
    "\t\t\t.withColumn('cartaxvaluation', when((col('age') < 18) & (col('ind_pj') == 0), lit('')).otherwise(col('cartaxvaluation')))\n",
    "\t\t\t.withColumn('comercialvaluationcar', when((col('age') < 18) & (col('ind_pj') == 0), lit('')).otherwise(col('comercialvaluationcar')))\n",
    "\t\t\t.withColumn('gastomovilhogar', when((col('age') < 18) & (col('ind_pj') == 0), lit('0.00000')).otherwise(col('gastomovilhogar')))\n",
    "\t\t\t.withColumn('gastoteleffijohogar', when((col('age') < 18) & (col('ind_pj') == 0), lit('0.00000')).otherwise(col('gastoteleffijohogar')))\n",
    "\t\t\t.withColumn('gastointernet', when((col('age') < 18) & (col('ind_pj') == 0), lit('0.00000')).otherwise(col('gastointernet')))\n",
    "\t\t\t.withColumn('gastopacktelco', when((col('age') < 18) & (col('ind_pj') == 0), lit('0.00000')).otherwise(col('gastopacktelco')))\n",
    "\t\t\t.withColumn('gastobam', when((col('age') < 18) & (col('ind_pj') == 0), lit('0.00000')).otherwise(col('gastobam')))\n",
    "\t\t\t.withColumn('clean2_hh', when((col('age') < 18) & (col('ind_pj') == 0), lit(1)).otherwise(col('clean2_hh')))\n",
    "\t\t\t.withColumn('dateofbirth', when((col('age') < 18) & (col('ind_pj') == 0), lit('19000101')).otherwise(col('dateofbirth')))\n",
    "\t\t\t.withColumn('deathDate', when((col('age') < 18) & (col('ind_pj') == 0), lit('19000101')).otherwise(col('deathDate')))\n",
    "\t\t\t.withColumn('kpi_segsii_01', when((col('age') < 18) & (col('ind_pj') == 0), lit('X')).otherwise(col('kpi_segsii_01')))\n",
    "\t\t\t.withColumn('kpi_renta_01', when((col('age') < 18) & (col('ind_pj') == 0), lit(150000)).otherwise(col('kpi_renta_01')))\n",
    "\t\t\t.withColumn('kpi_ise_01', when((col('age') < 18) & (col('ind_pj') == 0), lit('SC')).otherwise(col('kpi_ise_01')))\n",
    "\t\t\t.withColumn('kpi_pquiebra_01', when((col('age') < 18) & (col('ind_pj') == 0), lit('N')).otherwise(col('kpi_pquiebra_01')))\n",
    "\t\t\t.withColumn('kpi_pension_01', when((col('age') < 18) & (col('ind_pj') == 0), lit('N')).otherwise(col('kpi_pension_01')))\n",
    "\t\t\t.withColumn('kpi_eclean_01', when((col('age') < 18) & (col('ind_pj') == 0), lit('N')).otherwise(col('kpi_eclean_01')))\n",
    "\t\t\t.withColumn('kpi_fonasa_01', when((col('age') < 18) & (col('ind_pj') == 0), lit('N')).otherwise(col('kpi_fonasa_01')))\n",
    "\t\t\t.withColumn('kpi_actcomercial_01', when((col('age') < 18) & (col('ind_pj') == 0), lit('SA')).otherwise(col('kpi_actcomercial_01')))\n",
    "\t\t\t.withColumn('dic_rutneg_glo_00', when((col('age') < 18) & (col('ind_pj') == 0), lit('0,X,0,150000,SC,N,N,0,N,N,SA,1')).otherwise(col('dic_rutneg_glo_00')))\n",
    "\t\t\t.withColumn('age', when((col('flagdeath') == 'SI') & (col('ind_pj') == 0), lit(0)).otherwise(col('age')))\n",
    "\t\t)\n",
    "\treturn df\n"
   ]
  },
  {
   "cell_type": "markdown",
   "id": "authentic-guatemala",
   "metadata": {},
   "source": [
    "## LLAMAR TABLAS PARA UTILIZAR"
   ]
  },
  {
   "cell_type": "code",
   "execution_count": 7,
   "id": "stopped-fourth",
   "metadata": {},
   "outputs": [
    {
     "data": {
      "application/vnd.jupyter.widget-view+json": {
       "model_id": "",
       "version_major": 2,
       "version_minor": 0
      },
      "text/plain": [
       "FloatProgress(value=0.0, bar_style='info', description='Progress:', layout=Layout(height='25px', width='50%'),…"
      ]
     },
     "metadata": {},
     "output_type": "display_data"
    }
   ],
   "source": [
    "#CONSOLIDADO_PERSONAS (OK)\n",
    "\n",
    "archive_consolidado = archive_date(\"dfa-dna-ws0011-la-prd-f758.dfa_dna_ws0011_la_prd_sandbox.consolidado_la_prd\", '2022-05-30' , 'ARCHIVE')\n",
    "consolidado_data = spark.read.format(\"bigquery\").option(\"table\", \"dfa-dna-ws0011-la-prd-f758.dfa_dna_ws0011_la_prd_sandbox.consolidado_la_prd\").load().filter(\"ARCHIVE = '{fecha}'\".format(fecha = archive_consolidado))\n",
    "consolidado_data.createOrReplaceTempView(\"consolidado\")        \n",
    "\n",
    "query_consolidado = '''\n",
    "        SELECT  \n",
    "\t\t      rutp as rut,\n",
    "              cast(coalesce(tmouf_02,0) as DECIMAL(17,2)) as dic_montototal_uf_02,\n",
    "              cast(coalesce(tmot_12,0) as DECIMAL(17,2)) as dic_montototal_uf_12,\n",
    "              cast(coalesce(tmot_39,0) as DECIMAL(17,2)) as dic_montototal_uf_39,\n",
    "              edad_calc as age,\n",
    "              regexp_replace(fnac_26, '-', '') as dateofbirth,\n",
    "              coalesce(cast(regexp_replace(fec_def, '-', '') as int), 0) as deathDate,\n",
    "              case when fec_def is not null then 'SI' else 'NO' end as flagdeath,\n",
    "              '' as flagidentityverification,\n",
    "              sexo as gender,\n",
    "              ind_interd as interdictflag,\n",
    "              nombres as name,\n",
    "              nombre as namefull,\n",
    "              avaluo_cant as numberofproperties,\n",
    "              case when avaluo > 9999999999 then 9999999999 else avaluo end as totalpropertiesvalue,\n",
    "              avaluo_cant as propertiescount,\n",
    "              '' as lasttaxperiod,\n",
    "\t\t\t  '' as lasttaxperiodnumber,\n",
    "\t\t\t  '' as rubro,\n",
    "\t\t\t  '' as startsiidate,\n",
    "\t\t\t  '' as cartaxvaluation,\n",
    "\t\t\t  '' as comercialvaluationcar,\n",
    "\t\t\t  '' as categorysii,\n",
    "\t\t\t  clean2,\n",
    "\t\t\t  0 as ind_pj\n",
    "\t\tFROM consolidado\n",
    "\t\tWHERE archive = \"2022-05-30\"\n",
    "'''\n",
    "\n",
    "df_cons_per = spark.sql(query_consolidado)"
   ]
  },
  {
   "cell_type": "code",
   "execution_count": 8,
   "id": "plastic-filling",
   "metadata": {},
   "outputs": [
    {
     "data": {
      "application/vnd.jupyter.widget-view+json": {
       "model_id": "",
       "version_major": 2,
       "version_minor": 0
      },
      "text/plain": [
       "FloatProgress(value=0.0, bar_style='info', description='Progress:', layout=Layout(height='25px', width='50%'),…"
      ]
     },
     "metadata": {},
     "output_type": "display_data"
    }
   ],
   "source": [
    "#CONSOLIDADO_EMPRESA (OK)\n",
    "\n",
    "archive_consolidado = archive_date(\"dfa-dna-ws0011-la-prd-f758.dfa_dna_ws0011_la_prd_sandbox.consolidado_empresa_la_prd\", '2022-05-30' , 'ARCHIVE')\n",
    "consolidado_data = spark.read.format(\"bigquery\").option(\"table\", \"dfa-dna-ws0011-la-prd-f758.dfa_dna_ws0011_la_prd_sandbox.consolidado_empresa_la_prd\").load().filter(\"ARCHIVE = '{fecha}'\".format(fecha = archive_consolidado))\n",
    "consolidado_data.createOrReplaceTempView(\"consolidado_empresa\")        \n",
    "\n",
    "query_consolidado_empresa = '''\n",
    "        SELECT  \n",
    "            rutid as rut,\n",
    "            cast(coalesce(tmouf_02,0) as DECIMAL(17,2)) as dic_montototal_uf_02,\n",
    "            cast(coalesce(tmot_12,0) as DECIMAL(17,2)) as dic_montototal_uf_12,\n",
    "            cast(coalesce(tmot_39,0) as DECIMAL(17,2)) as dic_montototal_uf_39,\n",
    "       \t\tnull as age,\n",
    "       \t\t'0' as dateofbirth,\n",
    "       \t\t0 as deathDate,\n",
    "       \t\t'' as flagdeath,\n",
    "       \t\t'' as flagidentityverification,\n",
    "       \t\t'' as gender,\n",
    "       \t\t0 as interdictflag,\n",
    "       \t\trazon_social as name,\n",
    "            razon_social as namefull,\n",
    "            avaluo_cant as numberofproperties,\n",
    "            case when avaluo > 9999999999 then 9999999999 else avaluo end as totalpropertiesvalue,\n",
    "            avaluo_cant as propertiescount,\n",
    "            '' as lasttaxperiod,\n",
    "\t\t\t'' as lasttaxperiodnumber,\n",
    "\t\t\t'' as rubro,\n",
    "\t\t\t'' as startsiidate,\n",
    "\t\t\t'' as cartaxvaluation,\n",
    "\t\t\t'' as comercialvaluationcar,\n",
    "\t\t\t'' as categorysii,\n",
    "\t\t\tclean2,\n",
    "\t\t\t1 as ind_pj\n",
    "\t\tFROM consolidado_empresa\n",
    "\t\tWHERE archive = '2022-05-30'\n",
    "'''\n",
    "\n",
    "df_cons_emp = spark.sql(query_consolidado_empresa)"
   ]
  },
  {
   "cell_type": "code",
   "execution_count": 9,
   "id": "stuffed-company",
   "metadata": {
    "tags": []
   },
   "outputs": [
    {
     "data": {
      "application/vnd.jupyter.widget-view+json": {
       "model_id": "",
       "version_major": 2,
       "version_minor": 0
      },
      "text/plain": [
       "FloatProgress(value=0.0, bar_style='info', description='Progress:', layout=Layout(height='25px', width='50%'),…"
      ]
     },
     "metadata": {},
     "output_type": "display_data"
    }
   ],
   "source": [
    "#KPI (OK)\n",
    "\n",
    "archive_consolidado = archive_date(\"dfa-dna-ws0011-la-prd-f758.dfa_dna_ws0011_la_prd_sandbox.kpi_entel_cambrian\", '2022-05-30' , 'ARCHIVE')\n",
    "consolidado_data = spark.read.format(\"bigquery\").option(\"table\", \"dfa-dna-ws0011-la-prd-f758.dfa_dna_ws0011_la_prd_sandbox.kpi_entel_cambrian\").load().filter(\"ARCHIVE = '{fecha}'\".format(fecha = archive_consolidado))\n",
    "consolidado_data.createOrReplaceTempView(\"kpi\")\n",
    "\n",
    "query_kpi = \"\"\"\n",
    "        SELECT \n",
    "            DISTINCT rut,\n",
    "            CONCAT_WS(',' , CAST(KPI_SEGFAC_01 AS STRING),\n",
    "            CAST(KPI_SEGSII_01 AS STRING),\n",
    "            CAST(KPI_RANGTRAB_01 AS STRING),\n",
    "            CAST(KPI_RENTA_01 AS STRING),\n",
    "            CAST(KPI_ISE_01 AS STRING),\n",
    "            CAST(KPI_PQUIEBRA_01 AS STRING),\n",
    "            CAST(KPI_PENSION_01 AS STRING),\n",
    "            CAST(KPI_RENTA_02 AS STRING),\n",
    "            CAST(KPI_FONASA_01 AS STRING),\n",
    "            CAST(KPI_ECLEAN_01 AS STRING),\n",
    "            CAST(KPI_ACTCOMERCIAL_01 AS STRING),\n",
    "            CAST(CLEAN2 AS STRING)) as dic_rutneg_glo_00,\n",
    "            CAST(kpi_segfac_01 AS INT) AS kpi_segfac_01,\n",
    "\t        CAST(kpi_segsii_01 AS STRING) AS kpi_segsii_01,\n",
    "\t        CAST(kpi_rangtrab_01 AS INT) AS kpi_rangtrab_01,\n",
    "\t        CAST(kpi_renta_01 AS INT) AS kpi_renta_01,\n",
    "\t        CAST(kpi_ise_01 AS STRING) AS kpi_ise_01,\n",
    "\t        CAST(kpi_pquiebra_01 AS STRING) AS kpi_pquiebra_01,\n",
    "\t        CAST(kpi_pension_01 AS STRING) AS kpi_pension_01,\n",
    "\t        CAST(kpi_fonasa_01 AS STRING) AS kpi_fonasa_01,\n",
    "\t        CAST(kpi_eclean_01 AS STRING) AS kpi_eclean_01,\n",
    "\t        --CASE WHEN CAST(kpi_pquiebra_01 AS STRING) = ' ' THEN '\\\" \\\"' ELSE CAST(kpi_pquiebra_01 AS STRING) END AS kpi_pquiebra_01,\n",
    "\t        --CASE WHEN CAST(kpi_pension_01 AS STRING) = ' ' THEN '\\\" \\\"' ELSE CAST(kpi_pension_01 AS STRING) END AS kpi_pension_01,\n",
    "\t        CAST(kpi_renta_02 AS INT) AS kpi_renta_02,\n",
    "\t        --CASE WHEN CAST(kpi_fonasa_01 AS STRING) = ' ' THEN '\\\" \\\"' ELSE CAST(kpi_fonasa_01 AS STRING) END AS kpi_fonasa_01,\n",
    "\t        --CASE WHEN CAST(kpi_eclean_01 AS STRING) = ' ' THEN '\\\" \\\"' ELSE CAST(kpi_eclean_01 AS STRING) END AS kpi_eclean_01,\n",
    "\t        CAST(kpi_actcomercial_01 AS STRING) AS kpi_actcomercial_01\n",
    "\t\tFROM kpi\n",
    "        WHERE archive = '2022-05-30'\n",
    "\"\"\"\n",
    "\n",
    "df_file_neg = spark.sql(query_kpi)"
   ]
  },
  {
   "cell_type": "code",
   "execution_count": 10,
   "id": "dominant-consortium",
   "metadata": {},
   "outputs": [
    {
     "data": {
      "application/vnd.jupyter.widget-view+json": {
       "model_id": "",
       "version_major": 2,
       "version_minor": 0
      },
      "text/plain": [
       "FloatProgress(value=0.0, bar_style='info', description='Progress:', layout=Layout(height='25px', width='50%'),…"
      ]
     },
     "metadata": {},
     "output_type": "display_data"
    }
   ],
   "source": [
    "#BASE ENTEL (OK)\n",
    "\n",
    "archive_consolidado = archive_date(\"dfa-dna-ws0011-la-prd-f758.dfa_dna_ws0011_la_prd_sandbox.base_entel_cambrian\", '2022-05-30' , 'ARCHIVE')\n",
    "consolidado_data = spark.read.format(\"bigquery\").option(\"table\", \"dfa-dna-ws0011-la-prd-f758.dfa_dna_ws0011_la_prd_sandbox.base_entel_cambrian\").load().filter(\"ARCHIVE = '{fecha}'\".format(fecha = archive_consolidado))\n",
    "consolidado_data.createOrReplaceTempView(\"base_entel\")\n",
    "\n",
    "query_base_entel = \"\"\"\n",
    "        SELECT \n",
    "        rut,\n",
    "        rut_verification as rutverification,\n",
    "        dire_longitud as direlongitud,\n",
    "        dire_latitud as direlatitud,\n",
    "        redcode,\n",
    "        gse,\n",
    "        cast(cast(regexp_replace(case when gasto_movil_hogar_uf is not null and substring(gasto_movil_hogar_uf , 1 , 1) = ',' then concat('0', gasto_movil_hogar_uf) else gasto_movil_hogar_uf end , ',' , '.') as decimal(17,5)) as string) as gastomovilhogar,\n",
    "        cast(cast(regexp_replace(case when gasto_telef_fijo_hogar_uf is not null and substring(gasto_telef_fijo_hogar_uf , 1 , 1) = ',' then concat('0', gasto_telef_fijo_hogar_uf) else gasto_telef_fijo_hogar_uf end , ',' , '.') as decimal(17,5)) as string) as gastoteleffijohogar,\n",
    "        cast(cast(regexp_replace(case when gasto_internet_uf is not null and substring(gasto_internet_uf , 1 , 1) = ',' then concat('0', gasto_internet_uf) else gasto_internet_uf end , ',' , '.') as decimal(17,5)) as string) as gastointernet,\n",
    "        cast(cast(regexp_replace(case when gasto_pack_telco_uf is not null and substring(gasto_pack_telco_uf , 1 , 1) = ',' then concat('0', gasto_pack_telco_uf) else gasto_pack_telco_uf end , ',' , '.') as decimal(17,5)) as string) as gastopacktelco,\n",
    "        cast(cast(regexp_replace(case when gasto_bam_uf is not null and substring(gasto_bam_uf , 1 , 1) = ',' then concat('0', gasto_bam_uf) else gasto_bam_uf end , ',' , '.') as decimal(17,5)) as string) as gastobam\n",
    "\t\tFROM base_entel\n",
    "\t\tWHERE archive = \"2022-05-30\"\n",
    "\"\"\"\n",
    "\n",
    "df_base_entel = spark.sql(query_base_entel)"
   ]
  },
  {
   "cell_type": "code",
   "execution_count": 11,
   "id": "elder-homeless",
   "metadata": {},
   "outputs": [
    {
     "data": {
      "application/vnd.jupyter.widget-view+json": {
       "model_id": "",
       "version_major": 2,
       "version_minor": 0
      },
      "text/plain": [
       "FloatProgress(value=0.0, bar_style='info', description='Progress:', layout=Layout(height='25px', width='50%'),…"
      ]
     },
     "metadata": {},
     "output_type": "display_data"
    }
   ],
   "source": [
    "#UF (OK)\n",
    "\n",
    "archive_consolidado = archive_date(\"dfa-dna-ws0011-la-prd-f758.dfa_dna_ws0011_la_prd_sandbox.monedas_norm_dev_dummy\", '2022-05-30' , 'ARCHIVE')\n",
    "consolidado_data = spark.read.format(\"bigquery\").option(\"table\", \"dfa-dna-ws0011-la-prd-f758.dfa_dna_ws0011_la_prd_sandbox.monedas_norm_dev_dummy\").load().filter(\"ARCHIVE = '{fecha}'\".format(fecha = archive_consolidado))\n",
    "consolidado_data.createOrReplaceTempView(\"uf\")\n",
    "\n",
    "query_uf = \"\"\"\n",
    "        SELECT \n",
    "        \t\tcast(valor_uf as DECIMAL(17,2)) as valor_uf\n",
    "\t\tFROM uf a\n",
    "\t\tWHERE a.fecha in (select max(f.fecha) as fecha from uf f)\n",
    "\"\"\"\n",
    "\n",
    "df_uf = spark.sql(query_uf)"
   ]
  },
  {
   "cell_type": "code",
   "execution_count": 12,
   "id": "sound-advantage",
   "metadata": {},
   "outputs": [
    {
     "data": {
      "application/vnd.jupyter.widget-view+json": {
       "model_id": "",
       "version_major": 2,
       "version_minor": 0
      },
      "text/plain": [
       "FloatProgress(value=0.0, bar_style='info', description='Progress:', layout=Layout(height='25px', width='50%'),…"
      ]
     },
     "metadata": {},
     "output_type": "display_data"
    }
   ],
   "source": [
    "#RUTERO (OK)\n",
    "\n",
    "archive_consolidado = archive_date(\"dfa-dna-ws0011-la-prd-f758.dfa_dna_ws0011_la_prd_sandbox.rutero_entel_cambrian\", '2022-05-30' , 'ARCHIVE')\n",
    "consolidado_data = spark.read.format(\"bigquery\").option(\"table\", \"dfa-dna-ws0011-la-prd-f758.dfa_dna_ws0011_la_prd_sandbox.rutero_entel_cambrian\").load().filter(\"ARCHIVE = '{fecha}'\".format(fecha = archive_consolidado))\n",
    "consolidado_data.createOrReplaceTempView(\"rutero\")\n",
    "\n",
    "query_rutero = \"\"\"\n",
    "  \t\tSELECT DISTINCT rut \n",
    "  \t\tFROM rutero\n",
    "\"\"\"\n",
    "\n",
    "df_rutero = spark.sql(query_rutero)"
   ]
  },
  {
   "cell_type": "code",
   "execution_count": 13,
   "id": "arbitrary-flash",
   "metadata": {
    "tags": []
   },
   "outputs": [
    {
     "data": {
      "application/vnd.jupyter.widget-view+json": {
       "model_id": "",
       "version_major": 2,
       "version_minor": 0
      },
      "text/plain": [
       "FloatProgress(value=0.0, bar_style='info', description='Progress:', layout=Layout(height='25px', width='50%'),…"
      ]
     },
     "metadata": {},
     "output_type": "display_data"
    }
   ],
   "source": [
    "#HOUSEHOLD (OK)\n",
    "\n",
    "archive_consolidado = archive_date(\"dfa-dna-ws0011-la-prd-f758.dfa_dna_ws0011_la_prd_sandbox.hh_principal_hist_la_prd\", '2022-05-24' , 'ARCHIVE')\n",
    "consolidado_data = spark.read.format(\"bigquery\").option(\"table\", \"dfa-dna-ws0011-la-prd-f758.dfa_dna_ws0011_la_prd_sandbox.hh_principal_hist_la_prd\").load().filter(\"ARCHIVE = '{fecha}'\".format(fecha = archive_consolidado))\n",
    "consolidado_data.createOrReplaceTempView(\"household\")\n",
    "\n",
    "query_household = \"\"\"\n",
    "\t     SELECT \n",
    "\t        rut,\n",
    "\t        predictor1_min_hh_principal as predictor1_min_hh,\n",
    "\t        predictor1_hh_principal as predictor1_prom_hh,\n",
    "\t        predictor1_max_hh_principal as predictor1_max_hh,\n",
    "\t        renta_total_hh_principal as renta_total_hh,\n",
    "\t        renta_total_lider_hh_principal as renta_total_lider_hh,\n",
    "\t        porc_personas_clean2_hh_principal as clean2_hh\n",
    "\t    FROM household\n",
    "\t    WHERE archive = '2022-05-24'\n",
    "\"\"\"\n",
    "\n",
    "df_hh = spark.sql(query_household)"
   ]
  },
  {
   "cell_type": "code",
   "execution_count": 14,
   "id": "advance-improvement",
   "metadata": {},
   "outputs": [
    {
     "data": {
      "application/vnd.jupyter.widget-view+json": {
       "model_id": "",
       "version_major": 2,
       "version_minor": 0
      },
      "text/plain": [
       "FloatProgress(value=0.0, bar_style='info', description='Progress:', layout=Layout(height='25px', width='50%'),…"
      ]
     },
     "metadata": {},
     "output_type": "display_data"
    }
   ],
   "source": [
    "#CONSOLIDADO CONTABILIDAD (OK)\n",
    "\n",
    "archive_consolidado = archive_date(\"dfa-dna-ws0011-la-prd-f758.dfa_dna_ws0011_la_prd_sandbox.consolidado_contabilidad_cambrian\", '2022-05-30' , 'ARCHIVE')\n",
    "consolidado_data = spark.read.format(\"bigquery\").option(\"table\", \"dfa-dna-ws0011-la-prd-f758.dfa_dna_ws0011_la_prd_sandbox.consolidado_contabilidad_cambrian\").load().filter(\"ARCHIVE = '{fecha}'\".format(fecha = archive_consolidado))\n",
    "consolidado_data.createOrReplaceTempView(\"consolidado_contabilidad\")\n",
    "\n",
    "query_consolidado_contabilidad = \"\"\"\n",
    "        SELECT  r.rut,\n",
    "\t\t        cant_emails as lastemail\n",
    "\t\tFROM consolidado_contabilidad r\n",
    "\t\tWHERE cant_emails = 1\n",
    "\"\"\"\n",
    "\n",
    "df_contactabilidad = spark.sql(query_consolidado_contabilidad)"
   ]
  },
  {
   "cell_type": "code",
   "execution_count": 15,
   "id": "statewide-bulletin",
   "metadata": {},
   "outputs": [
    {
     "data": {
      "application/vnd.jupyter.widget-view+json": {
       "model_id": "",
       "version_major": 2,
       "version_minor": 0
      },
      "text/plain": [
       "FloatProgress(value=0.0, bar_style='info', description='Progress:', layout=Layout(height='25px', width='50%'),…"
      ]
     },
     "metadata": {},
     "output_type": "display_data"
    }
   ],
   "source": [
    "#PERSONAS SEMANAL (OK)\n",
    "\n",
    "archive_consolidado = archive_date(\"dfa-dna-ws0011-la-prd-f758.dfa_dna_ws0011_la_prd_sandbox.personas_semanal_cambrian\", '2022-06-07' , 'ARCHIVE')\n",
    "consolidado_data = spark.read.format(\"bigquery\").option(\"table\", \"dfa-dna-ws0011-la-prd-f758.dfa_dna_ws0011_la_prd_sandbox.personas_semanal_cambrian\").load().filter(\"ARCHIVE = '{fecha}'\".format(fecha = archive_consolidado))\n",
    "consolidado_data.createOrReplaceTempView(\"persona_semanal\")\n",
    "\n",
    "query_persona_semanal = \"\"\"\n",
    "        SELECT  rutp as rut,\n",
    "        \t\tcase when ncion = 'CHILENA' then 'CHILENO' when ncion is null then '' else 'EXTRANJERO' end as nationality,\n",
    "        \t\tcoalesce(ecivi, '') as maritalStatus,\n",
    "        \t\ttinac as nationalitytype\n",
    "\t\tFROM persona_semanal\n",
    "\t\tWHERE archive = \"2022-06-07\"\n",
    "\"\"\"\n",
    "\n",
    "df_pers_sem = spark.sql(query_persona_semanal)"
   ]
  },
  {
   "cell_type": "code",
   "execution_count": 16,
   "id": "working-scene",
   "metadata": {
    "tags": []
   },
   "outputs": [
    {
     "data": {
      "application/vnd.jupyter.widget-view+json": {
       "model_id": "",
       "version_major": 2,
       "version_minor": 0
      },
      "text/plain": [
       "FloatProgress(value=0.0, bar_style='info', description='Progress:', layout=Layout(height='25px', width='50%'),…"
      ]
     },
     "metadata": {},
     "output_type": "display_data"
    }
   ],
   "source": [
    "#SCORE (OK)\n",
    "\n",
    "archive_consolidado = archive_date(\"dfa-dna-ws0011-la-prd-f758.dfa_dna_ws0011_la_prd_sandbox.score_entel_cambrian\", '2022-05-31' , 'ARCHIVE')\n",
    "consolidado_data = spark.read.format(\"bigquery\").option(\"table\", \"dfa-dna-ws0011-la-prd-f758.dfa_dna_ws0011_la_prd_sandbox.score_entel_cambrian\").load().filter(\"ARCHIVE = '{fecha}'\".format(fecha = archive_consolidado))\n",
    "consolidado_data.createOrReplaceTempView(\"score\")\n",
    "\n",
    "query_score = \"\"\"\n",
    "  \t\tSELECT rut , score as personsRate\n",
    "\t\tFROM score\n",
    "\t\tWHERE archive= \"2022-05-31\"\n",
    "\"\"\"\n",
    "\n",
    "df_score = spark.sql(query_score)"
   ]
  },
  {
   "cell_type": "code",
   "execution_count": 17,
   "id": "marked-heath",
   "metadata": {
    "tags": []
   },
   "outputs": [
    {
     "data": {
      "application/vnd.jupyter.widget-view+json": {
       "model_id": "",
       "version_major": 2,
       "version_minor": 0
      },
      "text/plain": [
       "FloatProgress(value=0.0, bar_style='info', description='Progress:', layout=Layout(height='25px', width='50%'),…"
      ]
     },
     "metadata": {},
     "output_type": "display_data"
    }
   ],
   "source": [
    "#SOCIOS Y SOCIEDADES (OK)\n",
    "\n",
    "#dos atributos hay que desencryptar la info del rut de socios en el ws pdz\n",
    "\n",
    "archive_consolidado = archive_date(\"dfa-dna-ws0011-la-prd-f758.dfa_dna_ws0011_la_prd_sandbox.empresas_mensual_la_prd\", '2022-05-30' , 'ARCHIVE')\n",
    "consolidado_data = spark.read.format(\"bigquery\").option(\"table\", \"dfa-dna-ws0011-la-prd-f758.dfa_dna_ws0011_la_prd_sandbox.empresas_mensual_la_prd\").load().filter(\"ARCHIVE = '{fecha}'\".format(fecha = archive_consolidado))\n",
    "consolidado_data.createOrReplaceTempView(\"s_s\")\n",
    "\n",
    "query_s_s = \"\"\"\n",
    "\t\tSELECT  rutid as rut,\n",
    "\t\t        vehiculos_cantidad as countrelationshipspartner,\n",
    "\t\t        vehiculos_avaluo_total as countrelationshipssociety\n",
    "\t\tFROM s_s \n",
    "\"\"\"\n",
    "\n",
    "df_sociedades = spark.sql(query_s_s)"
   ]
  },
  {
   "cell_type": "code",
   "execution_count": 18,
   "id": "alternate-ideal",
   "metadata": {},
   "outputs": [
    {
     "data": {
      "application/vnd.jupyter.widget-view+json": {
       "model_id": "",
       "version_major": 2,
       "version_minor": 0
      },
      "text/plain": [
       "FloatProgress(value=0.0, bar_style='info', description='Progress:', layout=Layout(height='25px', width='50%'),…"
      ]
     },
     "metadata": {},
     "output_type": "display_data"
    }
   ],
   "source": [
    "#VEHICULOS (OK)\n",
    "\n",
    "archive_consolidado = archive_date(\"dfa-dna-ws0011-la-prd-f758.dfa_dna_ws0011_la_prd_sandbox.tbtas_vehiculos_la_prd\", '2022-05-30' , 'ARCHIVE')\n",
    "consolidado_data = spark.read.format(\"bigquery\").option(\"table\", \"dfa-dna-ws0011-la-prd-f758.dfa_dna_ws0011_la_prd_sandbox.tbtas_vehiculos_la_prd\").load().filter(\"ARCHIVE = '{fecha}'\".format(fecha = archive_consolidado))\n",
    "consolidado_data.createOrReplaceTempView(\"vehiculos\")\n",
    "\n",
    "query_vehiculos = \"\"\"\n",
    "        SELECT  rutid as rut,\n",
    "\t\t        sum(case when clasificacion = 'LIVIANO' then 1 else 0 end) as totalnumberlightcars,\n",
    "\t\t        sum(case when clasificacion = 'PESADO' then 1 else 0 end) as totalnumberheavycars,\n",
    "\t\t        sum(case when clasificacion != 'LIVIANO' and clasificacion != 'PESADO' then 1 else 0 end) as totalnumberothercars,\n",
    "\t\t        count(*) as totalnumbercars\n",
    "\t\tFROM vehiculos\n",
    "\t\twhere archive = \"2022-05-30\"\n",
    "\t\tGROUP BY rut\n",
    "\"\"\"\n",
    "\n",
    "df_vehiculos = spark.sql(query_vehiculos)"
   ]
  },
  {
   "cell_type": "code",
   "execution_count": 19,
   "id": "difficult-namibia",
   "metadata": {},
   "outputs": [
    {
     "data": {
      "application/vnd.jupyter.widget-view+json": {
       "model_id": "",
       "version_major": 2,
       "version_minor": 0
      },
      "text/plain": [
       "FloatProgress(value=0.0, bar_style='info', description='Progress:', layout=Layout(height='25px', width='50%'),…"
      ]
     },
     "metadata": {},
     "output_type": "display_data"
    }
   ],
   "source": [
    "#CUENTAS BANCARIAS (OK)\n",
    "\n",
    "archive_consolidado = archive_date(\"dfa-dna-ws0011-la-prd-f758.dfa_dna_ws0011_la_prd_sandbox.personas_mensual_la_prd\", '2022-05-30' , 'ARCHIVE')\n",
    "consolidado_data = spark.read.format(\"bigquery\").option(\"table\", \"dfa-dna-ws0011-la-prd-f758.dfa_dna_ws0011_la_prd_sandbox.personas_mensual_la_prd\").load().filter(\"ARCHIVE = '{fecha}'\".format(fecha = archive_consolidado))\n",
    "consolidado_data.createOrReplaceTempView(\"cuentas_bancarias\")\n",
    "\n",
    "query_cuentas_bancaria = \"\"\"\n",
    "        SELECT  ps.rutp as rut,\n",
    "        \t\tcount(distinct soc.cban) as totalbank\n",
    "\t\tFROM cuentas_bancarias ps\n",
    "\t\tLATERAL VIEW explode(ps.cuentas) adTable as soc\n",
    "\t\tWHERE archive = '2022-05-30'\n",
    "\t\tGROUP BY ps.rutp\n",
    "\t\tUNION ALL\n",
    "\t\tSELECT  em.rutp as rut,\n",
    "\t\t        count(distinct soc.cban) as totalbank\n",
    "\t\tFROM cuentas_bancarias em\n",
    "\t\tLATERAL VIEW explode(em.cuentas) adTable as soc\n",
    "\t\tWHERE archive = '2022-05-30'\n",
    "\t\tGROUP BY em.rutp\n",
    "\"\"\"\n",
    "\n",
    "df_bancos = spark.sql(query_cuentas_bancaria)"
   ]
  },
  {
   "cell_type": "code",
   "execution_count": 20,
   "id": "portable-revision",
   "metadata": {},
   "outputs": [
    {
     "data": {
      "application/vnd.jupyter.widget-view+json": {
       "model_id": "",
       "version_major": 2,
       "version_minor": 0
      },
      "text/plain": [
       "FloatProgress(value=0.0, bar_style='info', description='Progress:', layout=Layout(height='25px', width='50%'),…"
      ]
     },
     "metadata": {},
     "output_type": "display_data"
    }
   ],
   "source": [
    "#DOCUMENTOS TRIBUTARIOS (OK)\n",
    "\n",
    "archive_consolidado = archive_date(\"dfa-dna-ws0011-la-prd-f758.dfa_dna_ws0011_la_prd_sandbox.empresas_mensual_la_prd\", '2022-05-30' , 'ARCHIVE')\n",
    "consolidado_data = spark.read.format(\"bigquery\").option(\"table\", \"dfa-dna-ws0011-la-prd-f758.dfa_dna_ws0011_la_prd_sandbox.empresas_mensual_la_prd\").load().filter(\"ARCHIVE = '{fecha}'\".format(fecha = archive_consolidado))\n",
    "consolidado_data.createOrReplaceTempView(\"documentos_tributarios\")\n",
    "\n",
    "query_documentos_tributarios = \"\"\"\n",
    "        SELECT  ps.rutid as rut,\n",
    "        \t\tcount(*) as observacionestributariasnumber\n",
    "\t\tFROM documentos_tributarios ps\n",
    "\t\tLATERAL VIEW explode(ps.documentos_tributarios) adTable as soc\n",
    "\t\tWHERE archive = '2022-05-30'\n",
    "\t\tGROUP BY ps.rutid\n",
    "\t\tUNION ALL\n",
    "\t\tSELECT  em.rutid as rut,\n",
    "\t\t        count(*) as observacionestributariasnumber\n",
    "\t\tFROM documentos_tributarios em\n",
    "\t\tLATERAL VIEW explode(em.documentos_tributarios) adTable as soc\n",
    "\t\tWHERE archive = '2022-05-30'\n",
    "\t\tGROUP BY em.rutid\n",
    "\"\"\"\n",
    "\n",
    "df_docs_trib = spark.sql(query_documentos_tributarios)"
   ]
  },
  {
   "cell_type": "code",
   "execution_count": 21,
   "id": "rental-interest",
   "metadata": {},
   "outputs": [
    {
     "data": {
      "application/vnd.jupyter.widget-view+json": {
       "model_id": "",
       "version_major": 2,
       "version_minor": 0
      },
      "text/plain": [
       "FloatProgress(value=0.0, bar_style='info', description='Progress:', layout=Layout(height='25px', width='50%'),…"
      ]
     },
     "metadata": {},
     "output_type": "display_data"
    }
   ],
   "source": [
    "#DIRECCIONES (OK)\n",
    "\n",
    "archive_consolidado = archive_date(\"dfa-dna-ws0011-la-prd-f758.dfa_dna_ws0011_la_prd_sandbox.personas_mensual_la_prd\", '2022-05-30' , 'ARCHIVE')\n",
    "consolidado_data = spark.read.format(\"bigquery\").option(\"table\", \"dfa-dna-ws0011-la-prd-f758.dfa_dna_ws0011_la_prd_sandbox.personas_mensual_la_prd\").load().filter(\"ARCHIVE = '{fecha}'\".format(fecha = archive_consolidado))\n",
    "consolidado_data.createOrReplaceTempView(\"direcciones\")\n",
    "\n",
    "query_direcciones = \"\"\"\n",
    "        SELECT  ps.rutp as rut,\n",
    "        \t\tcount(*) as addresscount\n",
    "\t\tFROM direcciones ps\n",
    "\t\tLATERAL VIEW explode(ps.directorio_direccion) adTable as soc\n",
    "\t\tWHERE archive = '2022-05-30'\n",
    "\t\tGROUP BY ps.rutp\n",
    "\t\tUNION ALL\n",
    "\t\tSELECT  em.rutp as rut,\n",
    "\t\t        count(*) as addresscount\n",
    "\t\tFROM direcciones em\n",
    "\t\tLATERAL VIEW explode(em.directorio_direccion) adTable as soc\n",
    "\t\tWHERE archive = '2022-05-30'\n",
    "\t\tGROUP BY em.rutp\n",
    "\"\"\"\n",
    "\n",
    "df_dir = spark.sql(query_direcciones)"
   ]
  },
  {
   "cell_type": "code",
   "execution_count": 22,
   "id": "continuous-indianapolis",
   "metadata": {},
   "outputs": [
    {
     "data": {
      "application/vnd.jupyter.widget-view+json": {
       "model_id": "",
       "version_major": 2,
       "version_minor": 0
      },
      "text/plain": [
       "FloatProgress(value=0.0, bar_style='info', description='Progress:', layout=Layout(height='25px', width='50%'),…"
      ]
     },
     "metadata": {},
     "output_type": "display_data"
    }
   ],
   "source": [
    "#ACTIVIDAD PRINCIPAL (OK)\n",
    "\n",
    "archive_consolidado = archive_date(\"dfa-dna-ws0011-la-prd-f758.dfa_dna_ws0011_la_prd_sandbox.empresas_mensual_la_prd\", '2022-04-26' , 'ARCHIVE')\n",
    "consolidado_data = spark.read.format(\"bigquery\").option(\"table\", \"dfa-dna-ws0011-la-prd-f758.dfa_dna_ws0011_la_prd_sandbox.empresas_mensual_la_prd\").load().filter(\"ARCHIVE = '{fecha}'\".format(fecha = archive_consolidado))\n",
    "consolidado_data.createOrReplaceTempView(\"actividad_principal\")\n",
    "\n",
    "query_actividad_principal = \"\"\"\n",
    "        SELECT  em.rutid as rut,\n",
    "\t\t\t\tcod_act,\n",
    "\t\t\t\tactividad_principal,\n",
    "\t\t\t\tfecha_inici_contrib as fecha_inicio_de_actividades,\n",
    "\t\t\t\tfecha_const as fecha_de_constitucion,\n",
    "\t\t\t\tfecha_term_giro_contrib as fecha_termino_de_giro,\n",
    "\t\t\t\tfecha_ultimo_documento as fecha_ultimo_timbraje_de_documentos\n",
    "\t\tFROM actividad_principal em\n",
    "\t\tWHERE archive = '2022-04-26'\n",
    "\t\tand cod_act is not null\n",
    "\"\"\"\n",
    "\n",
    "df_act_princ = spark.sql(query_actividad_principal)"
   ]
  },
  {
   "cell_type": "code",
   "execution_count": 23,
   "id": "outer-meaning",
   "metadata": {},
   "outputs": [
    {
     "data": {
      "application/vnd.jupyter.widget-view+json": {
       "model_id": "",
       "version_major": 2,
       "version_minor": 0
      },
      "text/plain": [
       "FloatProgress(value=0.0, bar_style='info', description='Progress:', layout=Layout(height='25px', width='50%'),…"
      ]
     },
     "metadata": {},
     "output_type": "display_data"
    }
   ],
   "source": [
    "#ACTIVIDAD SII (OK)\n",
    "\n",
    "\n",
    "archive_consolidado = archive_date(\"dfa-dna-ws0011-la-prd-f758.dfa_dna_ws0011_la_prd_sandbox.empresas_mensual_la_prd\", '2022-05-30' , 'ARCHIVE')\n",
    "consolidado_data = spark.read.format(\"bigquery\").option(\"table\", \"dfa-dna-ws0011-la-prd-f758.dfa_dna_ws0011_la_prd_sandbox.empresas_mensual_la_prd\").load().filter(\"ARCHIVE = '{fecha}'\".format(fecha = archive_consolidado))\n",
    "consolidado_data.createOrReplaceTempView(\"actividad_sii\")\n",
    "\n",
    "query_actividad_sii = \"\"\"\n",
    "        SELECT  em.rutid as rut\n",
    "\t\t        , gir.cod_acteco\n",
    "\t\t        , gir.desc_acteco\n",
    "\t\t\t\t, gir.fecha_inicio_acteco as fecha_inicio_acteco\n",
    "\t\t\t\t, gir.fecha_carga as fecha_carga\n",
    "\t\tFROM actividad_sii em\n",
    "\t\tLATERAL VIEW explode(em.actividades_economicas) adTable as gir\n",
    "\t\tWHERE archive = '2022-05-30'\n",
    "\t\tand gir.cod_acteco != '0-9999'\n",
    "\t\tUNION ALL\n",
    "\t\tSELECT  em.rutid as rut\n",
    "\t\t        , gir.cod_acteco\n",
    "\t\t        , gir.desc_acteco\n",
    "\t\t\t\t, gir.fecha_inicio_acteco as fecha_inicio_acteco\n",
    "\t\t\t\t, gir.fecha_carga as fecha_carga\n",
    "\t\tFROM actividad_sii em\n",
    "\t\tLATERAL VIEW explode(em.actividades_economicas) adTable as gir\n",
    "\t\tWHERE archive = '2022-05-30'\n",
    "\t\tand gir.cod_acteco != '0-9999' \n",
    "\"\"\"\n",
    "\n",
    "df_act_sii = spark.sql(query_actividad_sii)"
   ]
  },
  {
   "cell_type": "code",
   "execution_count": 24,
   "id": "resident-synthetic",
   "metadata": {},
   "outputs": [
    {
     "data": {
      "application/vnd.jupyter.widget-view+json": {
       "model_id": "",
       "version_major": 2,
       "version_minor": 0
      },
      "text/plain": [
       "FloatProgress(value=0.0, bar_style='info', description='Progress:', layout=Layout(height='25px', width='50%'),…"
      ]
     },
     "metadata": {},
     "output_type": "display_data"
    }
   ],
   "source": [
    "#RUBRO (OK)\n",
    "\n",
    "archive_consolidado = archive_date(\"dfa-dna-ws0011-la-prd-f758.dfa_dna_ws0011_la_prd_sandbox.rubros_cambrian\", '2022-05-30' , 'ARCHIVE')\n",
    "consolidado_data = spark.read.format(\"bigquery\").option(\"table\", \"dfa-dna-ws0011-la-prd-f758.dfa_dna_ws0011_la_prd_sandbox.rubros_cambrian\").load().filter(\"ARCHIVE = '{fecha}'\".format(fecha = archive_consolidado))\n",
    "consolidado_data.createOrReplaceTempView(\"rubro\")\n",
    "\n",
    "query_rubro = \"\"\"\n",
    "        SELECT cod as codigo_de_actividad\n",
    "\t    \t\t, rubro\n",
    "\t    \t\t, descripcion\n",
    "\t    \t\t, rubro_especifico sub_rubro\n",
    "\t    FROM rubro\n",
    "\"\"\"\n",
    "\n",
    "df_rubro = spark.sql(query_rubro)"
   ]
  },
  {
   "cell_type": "code",
   "execution_count": 25,
   "id": "expected-stage",
   "metadata": {
    "collapsed": true,
    "jupyter": {
     "outputs_hidden": true
    },
    "tags": []
   },
   "outputs": [
    {
     "data": {
      "application/vnd.jupyter.widget-view+json": {
       "model_id": "",
       "version_major": 2,
       "version_minor": 0
      },
      "text/plain": [
       "FloatProgress(value=0.0, bar_style='info', description='Progress:', layout=Layout(height='25px', width='50%'),…"
      ]
     },
     "metadata": {},
     "output_type": "display_data"
    },
    {
     "name": "stdout",
     "output_type": "stream",
     "text": [
      "+-------------------+--------------------+--------------------+--------------------+\n",
      "|codigo_de_actividad|               rubro|         descripcion|           sub_rubro|\n",
      "+-------------------+--------------------+--------------------+--------------------+\n",
      "|              11101|AGRICULTURA GANAD...|    CULTIVO DE TRIGO|CULTIVO DE PLANTA...|\n",
      "|              11102|AGRICULTURA GANAD...|     CULTIVO DE MAIZ|CULTIVO DE PLANTA...|\n",
      "|              11103|AGRICULTURA GANAD...|    CULTIVO DE AVENA|CULTIVO DE PLANTA...|\n",
      "|              11104|AGRICULTURA GANAD...|   CULTIVO DE CEBADA|CULTIVO DE PLANTA...|\n",
      "|              11105|AGRICULTURA GANAD...|CULTIVO DE OTROS ...|CULTIVO DE PLANTA...|\n",
      "|              11106|AGRICULTURA GANAD...|  CULTIVO DE POROTOS|CULTIVO DE PLANTA...|\n",
      "|              11107|AGRICULTURA GANAD...|   CULTIVO DE LUPINO|CULTIVO DE PLANTA...|\n",
      "|              11108|AGRICULTURA GANAD...|CULTIVO DE OTRAS ...|CULTIVO DE PLANTA...|\n",
      "|              11109|AGRICULTURA GANAD...|CULTIVO DE SEMILL...|CULTIVO DE PLANTA...|\n",
      "|              11110|AGRICULTURA GANAD...|CULTIVO DE SEMILL...|CULTIVO DE PLANTA...|\n",
      "+-------------------+--------------------+--------------------+--------------------+\n",
      "only showing top 10 rows"
     ]
    }
   ],
   "source": [
    "#REVISAR TABLAS CARGADAS\n",
    "df_rubro.show(10)"
   ]
  },
  {
   "cell_type": "markdown",
   "id": "strange-onion",
   "metadata": {},
   "source": [
    "## INFORMACION CONFIGURE"
   ]
  },
  {
   "cell_type": "code",
   "execution_count": 26,
   "id": "hybrid-sheffield",
   "metadata": {},
   "outputs": [
    {
     "data": {
      "application/vnd.jupyter.widget-view+json": {
       "model_id": "",
       "version_major": 2,
       "version_minor": 0
      },
      "text/plain": [
       "FloatProgress(value=0.0, bar_style='info', description='Progress:', layout=Layout(height='25px', width='50%'),…"
      ]
     },
     "metadata": {},
     "output_type": "display_data"
    }
   ],
   "source": [
    "# -- coding: UTF-8 --\n",
    "\n",
    "# PROD\n",
    "# 0: debug\n",
    "# 1: production\n",
    "# 2: new columns\n",
    "ind_prod = 0\n",
    "\n",
    "# Bases genericas\n",
    "cl_efx_att = 'cl_efx_att'\n",
    "cl_efx_pre_att = 'cl_efx_pre_att'\n",
    "cl_efx_prod = 'cl_efx_prod'\n",
    "cl1_g_enrichhh = 'cl1_g_enrichhh_db'\n",
    "cl_efx_cli_dev = 'cl_efx_cli_dev'\n",
    "\n",
    "# Formato\n",
    "format0 = 'yyyyMM'\n",
    "format1 = 'yyyy-MM'\n",
    "formatoHora = '%H:%M:%S'\n",
    "formatoFechaEstandar = '%Y%m%d'\n",
    "formatoFechaEstandar1 = '%Y-%m-%d'\n",
    "regexFecha = '^([0-9]{4}[-/]?((0[13-9]|1[012])[-/]?(0[1-9]|[12][0-9]|30)|(0[13578]|1[02])[-/]?31|02[-/]?(0[1-9]|1[0-9]|2[0-8]))|([0-9]{2}(([2468][048]|[02468][48])|[13579][26])|([13579][26]|[02468][048]|0[0-9]|1[0-6])00)[-/]?02[-/]?29)$'\n",
    "\n",
    "# Tabla\n",
    "tb_consolidado_emp = 'consolidado_empresa'\n",
    "tb_consolidado_per = 'consolidado'\n",
    "tb_file_negativo_entel = 'entel_persona_file_negativo_productivo'\n",
    "tb_rutero_uat = 'rutero_uat_contingencias'\n",
    "tb_base_entel = 'tbtas_base_entel'\n",
    "tb_household_princ = 'hh_principal_hist'\n",
    "tb_household_staging = 'house_hold_resumen_jun21_staging'\n",
    "tb_monedas_norm = 'monedas_norm'\n",
    "tb_cons_contactabilidad = 'consolidado_contactabilidad_ref'\n",
    "tb_personas_semanal = 'personas_semanal'\n",
    "tb_empresas_semanal = 'empresas_semanal'\n",
    "tb_vehiculos = 'tbtas_vehiculos'\n",
    "tb_rubros = 'rubros'\n",
    "p_exp_predictor_publico = 'p_exp_predictor_publico'"
   ]
  },
  {
   "cell_type": "markdown",
   "id": "close-penalty",
   "metadata": {},
   "source": [
    "## TRANSFORMACIONES"
   ]
  },
  {
   "cell_type": "code",
   "execution_count": 27,
   "id": "driven-second",
   "metadata": {},
   "outputs": [
    {
     "data": {
      "application/vnd.jupyter.widget-view+json": {
       "model_id": "",
       "version_major": 2,
       "version_minor": 0
      },
      "text/plain": [
       "FloatProgress(value=0.0, bar_style='info', description='Progress:', layout=Layout(height='25px', width='50%'),…"
      ]
     },
     "metadata": {},
     "output_type": "display_data"
    }
   ],
   "source": [
    "df_cons = rubros(df_act_princ, df_act_sii, df_cons_per , df_rubro)"
   ]
  },
  {
   "cell_type": "code",
   "execution_count": 28,
   "id": "interested-highland",
   "metadata": {},
   "outputs": [
    {
     "data": {
      "application/vnd.jupyter.widget-view+json": {
       "model_id": "",
       "version_major": 2,
       "version_minor": 0
      },
      "text/plain": [
       "FloatProgress(value=0.0, bar_style='info', description='Progress:', layout=Layout(height='25px', width='50%'),…"
      ]
     },
     "metadata": {},
     "output_type": "display_data"
    }
   ],
   "source": [
    "dff = calculo_tablon_contingencia(df_cons_per, df_cons_emp, df_file_neg, df_base_entel, df_uf, df_hh, df_contactabilidad, df_pers_sem, df_sociedades, df_vehiculos, df_bancos, df_docs_trib, df_dir, df_act_princ, df_act_sii, df_rubro)"
   ]
  },
  {
   "cell_type": "code",
   "execution_count": 29,
   "id": "passing-louis",
   "metadata": {
    "tags": []
   },
   "outputs": [
    {
     "data": {
      "application/vnd.jupyter.widget-view+json": {
       "model_id": "",
       "version_major": 2,
       "version_minor": 0
      },
      "text/plain": [
       "FloatProgress(value=0.0, bar_style='info', description='Progress:', layout=Layout(height='25px', width='50%'),…"
      ]
     },
     "metadata": {},
     "output_type": "display_data"
    }
   ],
   "source": [
    "df_1 = variables_por_defecto(dff)"
   ]
  },
  {
   "cell_type": "code",
   "execution_count": 30,
   "id": "placed-share",
   "metadata": {
    "tags": []
   },
   "outputs": [
    {
     "data": {
      "application/vnd.jupyter.widget-view+json": {
       "model_id": "",
       "version_major": 2,
       "version_minor": 0
      },
      "text/plain": [
       "FloatProgress(value=0.0, bar_style='info', description='Progress:', layout=Layout(height='25px', width='50%'),…"
      ]
     },
     "metadata": {},
     "output_type": "display_data"
    }
   ],
   "source": [
    "df =  menores_edad_ko(df_1)"
   ]
  },
  {
   "cell_type": "markdown",
   "id": "spanish-neighborhood",
   "metadata": {},
   "source": [
    "## VER DATA FRAME"
   ]
  },
  {
   "cell_type": "code",
   "execution_count": 31,
   "id": "binary-philippines",
   "metadata": {
    "collapsed": true,
    "jupyter": {
     "outputs_hidden": true
    },
    "tags": []
   },
   "outputs": [
    {
     "data": {
      "application/vnd.jupyter.widget-view+json": {
       "model_id": "",
       "version_major": 2,
       "version_minor": 0
      },
      "text/plain": [
       "FloatProgress(value=0.0, bar_style='info', description='Progress:', layout=Layout(height='25px', width='50%'),…"
      ]
     },
     "metadata": {},
     "output_type": "display_data"
    },
    {
     "name": "stdout",
     "output_type": "stream",
     "text": [
      "+--------------------+--------------------+--------------------+--------------------+---+-----------+---------+---------+------------------------+------+-------------+--------------------+--------------------+------------------+--------------------+---------------+-------------+-------------------+-----+------------+---------------+---------------------+-----------+------+------+--------------------+-------------+-------------+---------------+------------+----------+---------------+--------------+-------------+-------------+------------+-------------------+---------------+------------+-----------+-------+---+---------------+-------------------+-------------+--------------+--------+-----------------+------------------+-----------------+--------------+--------------------+---------+---------+-----------+-------------+---------------+-------------------------+-------------------------+--------------------+--------------------+--------------------+---------------+---------+------------------------------+------------+---------------------------+--------+\n",
      "|                 rut|dic_montototal_uf_02|dic_montototal_uf_12|dic_montototal_uf_39|age|dateofbirth|deathDate|flagdeath|flagidentityverification|gender|interdictflag|                name|            namefull|numberofproperties|totalpropertiesvalue|propertiescount|lasttaxperiod|lasttaxperiodnumber|rubro|startsiidate|cartaxvaluation|comercialvaluationcar|categorysii|clean2|ind_pj|   dic_rutneg_glo_00|kpi_segfac_01|kpi_segsii_01|kpi_rangtrab_01|kpi_renta_01|kpi_ise_01|kpi_pquiebra_01|kpi_pension_01|kpi_fonasa_01|kpi_eclean_01|kpi_renta_02|kpi_actcomercial_01|rutverification|direlongitud|direlatitud|redcode|gse|gastomovilhogar|gastoteleffijohogar|gastointernet|gastopacktelco|gastobam|predictor1_min_hh|predictor1_prom_hh|predictor1_max_hh|renta_total_hh|renta_total_lider_hh|clean2_hh|lastemail|nationality|maritalStatus|nationalitytype|countrelationshipspartner|countrelationshipssociety|totalnumberlightcars|totalnumberheavycars|totalnumberothercars|totalnumbercars|totalbank|observacionestributariasnumber|addresscount|economicactivitydescription|valor_uf|\n",
      "+--------------------+--------------------+--------------------+--------------------+---+-----------+---------+---------+------------------------+------+-------------+--------------------+--------------------+------------------+--------------------+---------------+-------------+-------------------+-----+------------+---------------+---------------------+-----------+------+------+--------------------+-------------+-------------+---------------+------------+----------+---------------+--------------+-------------+-------------+------------+-------------------+---------------+------------+-----------+-------+---+---------------+-------------------+-------------+--------------+--------+-----------------+------------------+-----------------+--------------+--------------------+---------+---------+-----------+-------------+---------------+-------------------------+-------------------------+--------------------+--------------------+--------------------+---------------+---------+------------------------------+------------+---------------------------+--------+\n",
      "|+++fcIJ5dCZItNQam...|                0.00|                0.00|                0.00| 26|   19960329|        0|       NO|                        |     F|            0|A7Tt0g2szMA5FzDxc...|Xo8+5wZhThXsEkFvw...|                 0|                   0|              0|             |                   |     |            |               |                     |           |     1|     0|0,X,0,150000,SC,N...|            0|            X|              0|      150000|        SC|              N|             N|            N|            N|           0|                 SA|               |        null|       null|   null|   |        0.00000|            0.00000|      0.00000|       0.00000| 0.00000|                0|               0.0|                0|             0|                   0|      1.0|     null|           |             |               |                        0|                        0|                   0|                   0|                   0|              0|        0|                             0|           0|                           |32797.00|\n",
      "|+++jeKePiuggl6+9y...|                0.00|                0.00|                0.00| 25|   19960619|        0|       NO|                        |     M|            0|uCzw+RwzqghWgJYMM...|yG9h6WoyXbL9ofFWo...|                 0|                   0|              0|             |                   |     |            |               |                     |           |     1|     0|0,X,0,150000,SC,N...|            0|            X|              0|      150000|        SC|              N|             N|            N|            N|           0|                 SA|               |        null|       null|   null|   |        0.00000|            0.00000|      0.00000|       0.00000| 0.00000|                0|               0.0|                0|             0|                   0|      1.0|     null|           |             |               |                        0|                        0|                   0|                   0|                   0|              0|        0|                             0|           0|                           |32797.00|\n",
      "|+++X0PCwQy/Ju9EP1...|                0.00|                0.00|                0.00|  0|   19000101| 19000101|       NO|                        |      |            0|                    |                    |                 0|                   0|              0|             |                   |     |            |               |                     |           |     1|     0|0,X,0,150000,SC,N...|            0|            X|              0|      150000|        SC|              N|             N|            N|            N|           0|                 SA|               |            |           |       |   |        0.00000|            0.00000|      0.00000|       0.00000| 0.00000|                0|               0.0|                0|             0|                   0|      1.0|         |           |             |               |                        0|                        0|                   0|                   0|                   0|              0|        0|                             0|           0|                           |32797.00|\n",
      "|+++9TAEIPD0u5Tk+w...|                0.00|                0.00|                0.00|  0|   19460106| 20200423|       SI|                        |     F|            0|wJXOfAkwHc9H5pOgn...|U0Owvyuzs3gA+Rrz5...|                 0|                   0|              0|             |                   |     |            |               |                     |           |     1|     0|0,X,0,150000,SC,N...|            0|            X|              0|      150000|        SC|              N|             N|            N|            N|           0|                 SA|               |        null|       null|   null|   |        0.00000|            0.00000|      0.00000|       0.00000| 0.00000|                0|               0.0|                0|             0|                   0|      1.0|     null|           |             |               |                        0|                        0|                   0|                   0|                   0|              0|        0|                             0|           0|                           |32797.00|\n",
      "|+++Eyk1+/3NWsUwl3...|                0.00|                0.00|                0.00| 59|   19621105|        0|       NO|                        |     F|            0|pcmiF6bhqcU33Dcra...|KncankJ23O2d9Xday...|                 2|            91650147|              2|             |                   |     |            |               |                     |           |     1|     0|0,X,0,150000,SC,N...|            0|            X|              0|      150000|        SC|              N|             N|            N|            N|           0|                 SA|               |        null|       null|   null|   |        0.00000|            0.00000|      0.00000|       0.00000| 0.00000|                0|               0.0|                0|             0|                   0|      1.0|     null|           |             |               |                        0|                        0|                   0|                   0|                   0|              0|        0|                             0|           0|                           |32797.00|\n",
      "|+++adLnOP+lhvjm1P...|                0.00|                0.00|                0.00| 62|   19591210|        0|       NO|                        |     F|            0|h+P5F3X1W9XZzO8St...|sL5IPin8xxaeGqwep...|                 0|                   0|              0|             |                   |     |            |               |                     |           |     1|     0|0,X,0,150000,SC,N...|            0|            X|              0|      150000|        SC|              N|             N|            N|            N|           0|                 SA|               |        null|       null|   null|   |        0.00000|            0.00000|      0.00000|       0.00000| 0.00000|                0|               0.0|                0|             0|                   0|      1.0|     null|           |             |               |                        0|                        0|                   0|                   0|                   0|              0|        0|                             0|           0|                           |32797.00|\n",
      "|+++lj+DgmRcrcZ0e4...|                0.00|                0.00|                0.00| 57|   19650224|        0|       NO|                        |     F|            0|eDzmDIy9Efvl3mAvX...|e1tnl3VCajYnian6g...|                 0|                   0|              0|             |                   |     |            |               |                     |           |     1|     0|0,X,0,150000,SC,N...|            0|            X|              0|      150000|        SC|              N|             N|            N|            N|           0|                 SA|               |        null|       null|   null|   |        0.00000|            0.00000|      0.00000|       0.00000| 0.00000|                0|               0.0|                0|             0|                   0|      1.0|     null|           |             |               |                        0|                        0|                   0|                   0|                   0|              0|        0|                             0|           0|                           |32797.00|\n",
      "|+++rGuzNN/OWwfKN2...|                4.71|                0.00|                0.00| 47|   19750406|        0|       NO|                        |     M|            0|NLhN9RgulyO0FSIBQ...|YuSqN822U0QMF2sTh...|                 0|                   0|              0|             |                   |     |            |               |                     |           |     0|     0|0,X,0,150000,SC,N...|            0|            X|              0|      150000|        SC|              N|             N|            N|            N|           0|                 SA|               |        null|       null|   null|   |        0.00000|            0.00000|      0.00000|       0.00000| 0.00000|                0|               0.0|                0|             0|                   0|      1.0|     null|           |             |               |                        0|                        0|                   0|                   0|                   0|              0|        0|                             0|           0|                           |32797.00|\n",
      "|+++9vKblPb8uHcaUO...|                0.00|                0.00|                0.00|  0|   19640701| 20120823|       SI|                        |     F|            0|c6tZwaTwrj4ymCMA8...|bzF4a/nj6aXq1sfPq...|                 0|                   0|              0|             |                   |     |            |               |                     |           |     1|     0|0,X,0,150000,SC,N...|            0|            X|              0|      150000|        SC|              N|             N|            N|            N|           0|                 SA|               |        null|       null|   null|   |        0.00000|            0.00000|      0.00000|       0.00000| 0.00000|                0|               0.0|                0|             0|                   0|      1.0|     null|           |             |               |                        0|                        0|                   0|                   0|                   0|              0|        0|                             0|           0|                           |32797.00|\n",
      "|+++LMmnkXGuX22a3l...|                0.00|                0.00|                0.00| 46|   19750722|        0|       NO|                        |     M|            0|Ik8lq5Znf8Mo72aKY...|b1L9R5Dr1W3Z2x2Ob...|                 1|            20728446|              1|             |                   |     |            |               |                     |           |     1|     0|0,X,0,150000,SC,N...|            0|            X|              0|      150000|        SC|              N|             N|            N|            N|           0|                 SA|               |        null|       null|   null|   |        0.00000|            0.00000|      0.00000|       0.00000| 0.00000|                0|               0.0|                0|             0|                   0|      1.0|     null|           |             |               |                        0|                        0|                   0|                   0|                   0|              0|        0|                             0|           0|                           |32797.00|\n",
      "|+++CuMkykluDJ5LwJ...|                0.00|                0.00|                0.00| 72|   19490902|        0|       NO|                        |     F|            0|gBHwwHMBsj/Z9/8yY...|k0BM8ys8CeuZEy7TB...|                 1|            24693772|              1|             |                   |     |            |               |                     |           |     1|     0|0,X,0,150000,SC,N...|            0|            X|              0|      150000|        SC|              N|             N|            N|            N|           0|                 SA|               |        null|       null|   null|   |        0.00000|            0.00000|      0.00000|       0.00000| 0.00000|                0|               0.0|                0|             0|                   0|      1.0|     null|           |             |               |                        0|                        0|                   0|                   0|                   0|              0|        0|                             0|           0|                           |32797.00|\n",
      "|+++Fdq07GMBmQkVtb...|                0.00|                0.00|                0.00| 34|   19870827|        0|       NO|                        |     F|            0|Ef8nJsCZ8QeXbQNsD...|SQvcdWLiMULl3SQnx...|                 1|            11684461|              1|             |                   |     |            |               |                     |           |     1|     0|0,X,0,150000,SC,N...|            0|            X|              0|      150000|        SC|              N|             N|            N|            N|           0|                 SA|               |        null|       null|   null|   |        0.00000|            0.00000|      0.00000|       0.00000| 0.00000|                0|               0.0|                0|             0|                   0|      1.0|     null|           |             |               |                        0|                        0|                   0|                   0|                   0|              0|        0|                             0|           0|                           |32797.00|\n",
      "|+++g3sztHKLCQSTut...|                0.00|                0.00|                0.00|  0|   19630405| 20160621|       SI|                        |     F|            0|1+POcV/FR9VzIqhXF...|QP2fqWFEe6WdM8Yt/...|                 1|            15060861|              1|             |                   |     |            |               |                     |           |     1|     0|0,X,0,150000,SC,N...|            0|            X|              0|      150000|        SC|              N|             N|            N|            N|           0|                 SA|               |        null|       null|   null|   |        0.00000|            0.00000|      0.00000|       0.00000| 0.00000|                0|               0.0|                0|             0|                   0|      1.0|     null|           |             |               |                        0|                        0|                   0|                   0|                   0|              0|        0|                             0|           0|                           |32797.00|\n",
      "|+++9HF8F7EWSulll5...|                0.00|                0.00|                0.00| 50|   19710915|        0|       NO|                        |     F|            0|z8tZGCJ7UK5VUzgrF...|FUnQgz6F89287uqu+...|                 0|                   0|              0|             |                   |     |            |               |                     |           |     1|     0|0,X,0,150000,SC,N...|            0|            X|              0|      150000|        SC|              N|             N|            N|            N|           0|                 SA|               |        null|       null|   null|   |        0.00000|            0.00000|      0.00000|       0.00000| 0.00000|                0|               0.0|                0|             0|                   0|      1.0|     null|           |             |               |                        0|                        0|                   0|                   0|                   0|              0|        0|                             0|           0|                           |32797.00|\n",
      "|+++MESvVP6ovYVZ7H...|                0.00|                0.00|                0.00| 25|   19970116|        0|       NO|                        |     F|            0|hVbxC4zNNQbbN5+wp...|5jOrWhvp02c7vbZy9...|                 0|                   0|              0|             |                   |     |            |               |                     |           |     1|     0|0,X,0,150000,SC,N...|            0|            X|              0|      150000|        SC|              N|             N|            N|            N|           0|                 SA|               |        null|       null|   null|   |        0.00000|            0.00000|      0.00000|       0.00000| 0.00000|                0|               0.0|                0|             0|                   0|      1.0|     null|           |             |               |                        0|                        0|                   0|                   0|                   0|              0|        0|                             0|           0|                           |32797.00|\n",
      "|+++R2S89gku9mg3O8...|                0.00|                0.00|                0.00| 61|   19610430|        0|       NO|                        |     M|            0|JwxZ6eBQfp5rlbS8l...|PbAr+NKivcd26j4jy...|                 0|                   0|              0|             |                   |     |            |               |                     |           |     1|     0|0,X,0,150000,SC,N...|            0|            X|              0|      150000|        SC|              N|             N|            N|            N|           0|                 SA|               |        null|       null|   null|   |        0.00000|            0.00000|      0.00000|       0.00000| 0.00000|                0|               0.0|                0|             0|                   0|      1.0|     null|           |             |               |                        0|                        0|                   0|                   0|                   0|              0|        0|                             0|           0|                           |32797.00|\n",
      "|+++o0fUMvq0l5EBoI...|                0.00|                0.00|                0.00| 82|   19390916|        0|       NO|                        |     M|            0|keNpIzHUObwEY0UyQ...|pjwI6yTa4Al5ONeN2...|                 1|            16351826|              1|             |                   |     |            |               |                     |           |     1|     0|0,X,0,150000,SC,N...|            0|            X|              0|      150000|        SC|              N|             N|            N|            N|           0|                 SA|               |        null|       null|   null|   |        0.00000|            0.00000|      0.00000|       0.00000| 0.00000|                0|               0.0|                0|             0|                   0|      1.0|     null|           |             |               |                        0|                        0|                   0|                   0|                   0|              0|        0|                             0|           0|                           |32797.00|\n",
      "|+++qQsDoLp0aj65uL...|                0.00|               12.39|                0.00| 64|   19580204|        0|       NO|                        |     F|            0|n66bDmjCIGx+cL234...|D2rfSpQ17laSega27...|                 1|            15802682|              1|             |                   |     |            |               |                     |           |     0|     0|0,X,0,150000,SC,N...|            0|            X|              0|      150000|        SC|              N|             N|            N|            N|           0|                 SA|               |        null|       null|   null|   |        0.00000|            0.00000|      0.00000|       0.00000| 0.00000|                0|               0.0|                0|             0|                   0|      1.0|     null|           |             |               |                        0|                        0|                   0|                   0|                   0|              0|        0|                             0|           0|                           |32797.00|\n",
      "|+++Z7D5kJ9O9jFvtk...|                0.00|                0.00|                0.00|  0|   19240731| 19991011|       SI|                        |     M|            0|+Itw0deHhs4kgrhny...|YKJKM9vphUGeHnrXc...|                 0|                   0|              0|             |                   |     |            |               |                     |           |     1|     0|0,X,0,150000,SC,N...|            0|            X|              0|      150000|        SC|              N|             N|            N|            N|           0|                 SA|               |        null|       null|   null|   |        0.00000|            0.00000|      0.00000|       0.00000| 0.00000|                0|               0.0|                0|             0|                   0|      1.0|     null|           |             |               |                        0|                        0|                   0|                   0|                   0|              0|        0|                             0|           0|                           |32797.00|\n",
      "|+++EikLFB47kTyZeX...|                0.00|                0.00|                0.00|  0|   19000101| 19000101|       NO|                        |      |            0|                    |                    |                 0|                   0|              0|             |                   |     |            |               |                     |           |     1|     0|0,X,0,150000,SC,N...|            0|            X|              0|      150000|        SC|              N|             N|            N|            N|           0|                 SA|               |            |           |       |   |        0.00000|            0.00000|      0.00000|       0.00000| 0.00000|                0|               0.0|                0|             0|                   0|      1.0|         |           |             |               |                        0|                        0|                   0|                   0|                   0|              0|        0|                             0|           0|                           |32797.00|\n",
      "+--------------------+--------------------+--------------------+--------------------+---+-----------+---------+---------+------------------------+------+-------------+--------------------+--------------------+------------------+--------------------+---------------+-------------+-------------------+-----+------------+---------------+---------------------+-----------+------+------+--------------------+-------------+-------------+---------------+------------+----------+---------------+--------------+-------------+-------------+------------+-------------------+---------------+------------+-----------+-------+---+---------------+-------------------+-------------+--------------+--------+-----------------+------------------+-----------------+--------------+--------------------+---------+---------+-----------+-------------+---------------+-------------------------+-------------------------+--------------------+--------------------+--------------------+---------------+---------+------------------------------+------------+---------------------------+--------+\n",
      "only showing top 20 rows"
     ]
    }
   ],
   "source": [
    "df.show()"
   ]
  },
  {
   "cell_type": "markdown",
   "id": "chicken-vertex",
   "metadata": {},
   "source": [
    "## ESCRIBIR DATOS"
   ]
  },
  {
   "cell_type": "code",
   "execution_count": 32,
   "id": "different-district",
   "metadata": {
    "tags": []
   },
   "outputs": [
    {
     "data": {
      "application/vnd.jupyter.widget-view+json": {
       "model_id": "",
       "version_major": 2,
       "version_minor": 0
      },
      "text/plain": [
       "FloatProgress(value=0.0, bar_style='info', description='Progress:', layout=Layout(height='25px', width='50%'),…"
      ]
     },
     "metadata": {},
     "output_type": "display_data"
    }
   ],
   "source": [
    "df.coalesce(1).write.mode('overwrite').csv('gs://dfa-dna-ws0011-la-prd-sandbox/contingencia_entel_semanal/contingencia_entel_semanal')"
   ]
  }
 ],
 "metadata": {
  "kernelspec": {
   "display_name": "pyAME Spark",
   "language": "python",
   "name": "amepython"
  },
  "language_info": {
   "codemirror_mode": {
    "name": "ipython",
    "version": 3
   },
   "file_extension": ".py",
   "mimetype": "text/x-python",
   "name": "python",
   "nbconvert_exporter": "python",
   "pygments_lexer": "ipython3",
   "version": "3.8.8"
  }
 },
 "nbformat": 4,
 "nbformat_minor": 5
}
